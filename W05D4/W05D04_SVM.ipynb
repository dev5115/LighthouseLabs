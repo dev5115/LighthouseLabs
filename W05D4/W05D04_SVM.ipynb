{
 "cells": [
  {
   "cell_type": "markdown",
   "metadata": {
    "slideshow": {
     "slide_type": "slide"
    }
   },
   "source": [
    "## Lighthouse Labs\n",
    "### W05D04 SVM\n",
    "Instructor: Socorro Dominguez  \n",
    "October 15, 2020"
   ]
  },
  {
   "cell_type": "code",
   "execution_count": 5,
   "metadata": {
    "slideshow": {
     "slide_type": "skip"
    }
   },
   "outputs": [],
   "source": [
    "from sklearn.model_selection import train_test_split \n",
    "\n",
    "from sklearn.svm import SVC, SVR, LinearSVC\n",
    "\n",
    "# Other\n",
    "import numpy as np\n",
    "\n",
    "from plot_classifier import plot_classifier\n",
    "import matplotlib.pyplot as plt\n",
    "%matplotlib inline\n",
    "\n",
    "import warnings\n",
    "warnings.simplefilter(action='ignore', category=FutureWarning)"
   ]
  },
  {
   "cell_type": "markdown",
   "metadata": {
    "slideshow": {
     "slide_type": "slide"
    }
   },
   "source": [
    "**First Half Agenda:**\n",
    "\n",
    "* SVM (Support-vector machines)\n",
    "    * Classification with SVM\n",
    "    "
   ]
  },
  {
   "cell_type": "markdown",
   "metadata": {
    "slideshow": {
     "slide_type": "slide"
    }
   },
   "source": [
    "For supervised learning, data is a collection of pairs (input, output). Input could be anything, for example, email messages, pictures, or sensor measurements. \n",
    "\n",
    "Outputs are usually real numbers, or labels (e.g. “spam”, “not_spam”, “cat”, “dog”, “mouse”, etc). \n",
    "\n",
    "In some cases, outputs are vectors (e.g., four coordinates of the rectangle around a person on the picture), sequences (e.g. [“adjective”, “adjective”, “noun”] for the input “big beautiful car”), or have some other structure.\n",
    "\n",
    "Today we will work assuming that you want to identify if a movie has possitive reviews or not. It's pretty similar to spam detection. "
   ]
  },
  {
   "cell_type": "markdown",
   "metadata": {
    "slideshow": {
     "slide_type": "slide"
    }
   },
   "source": [
    "We gather the data, -5,000 reviews -, each labeled as “positive” or “negative”. \n",
    "Now, we convert each review into a feature vector.\n",
    "\n",
    "These review are turned into feature vectors - using a technique called bag of words. Take a dictionary of 20,000 English words and stipulate that in our feature vector:\n",
    "* the first feature is equal to 1 if the email message contains the word “a”; otherwise, this feature is 0;\n",
    "* the second feature is equal to 1 if the email message contains the word “aaron”; otherwise, this feature equals 0;\n",
    "* . . .\n",
    "* the feature at position 20,000 is equal to 1 if the email message contains the word “zulu”; otherwise, this feature is equal to 0."
   ]
  },
  {
   "cell_type": "markdown",
   "metadata": {
    "slideshow": {
     "slide_type": "slide"
    }
   },
   "source": [
    "If you repeat the above procedure for every email message in our collection, which gives us 5,000 feature vectors (each vector having the dimensionality of 20,000) and a label (“pos”/“neg”).\n",
    "Don't worry too much about it. Sklearn Countvectorizer will do this for us.\n",
    "\n",
    "Now you have machine-readable input data, but the output labels are still in the form of human-readable text. "
   ]
  },
  {
   "cell_type": "markdown",
   "metadata": {
    "slideshow": {
     "slide_type": "slide"
    }
   },
   "source": [
    "**SVM (Support Vector Machine)** requires that the positive label \"pos\" has the numeric value of +1, and the negative label “neg” the value of −1.\n",
    "\n",
    "For SVM, every feature vector is a point in a high-dimensional space (in our case, space is 20,000-dimensional). The algorithm puts all feature vectors on an imaginary 20,000-dimensional plot and draws an imaginary 19,999-dimensional line (a hyperplane) that separates examples with positive labels from examples with negative labels. \n",
    "\n",
    "This boundary that separates different classes is called the decision boundary."
   ]
  },
  {
   "cell_type": "markdown",
   "metadata": {
    "slideshow": {
     "slide_type": "slide"
    }
   },
   "source": [
    "The equation of the hyperplane is given by two parameters, a real-valued vector $w$ of the same dimensionality as our input feature vector x, and a real number b like this:\n",
    "\n",
    "> $wx − b = 0$\n",
    "\n",
    "where:   \n",
    "\n",
    "> $wx = w^{(1)}x^{(1)} + w^{(2)}x^{(2)} + . . . + w^{(D)}x^{(D)}$\n",
    "\n",
    "and \n",
    "\n",
    "> D is the number of dimensions of the feature vector x\n",
    "\n",
    "The predicted label for some input feature vector x is given like this:\n",
    "\n",
    "> $y = sign(wx − b)$\n",
    "\n",
    "AND **sign** is a mathematical operator that takes any value as input and returns +1 if the input is a positive number or −1 if the input is a negative number."
   ]
  },
  {
   "cell_type": "markdown",
   "metadata": {
    "slideshow": {
     "slide_type": "slide"
    }
   },
   "source": [
    "SVM is going to leverage the dataset and find the best values **$w^{(*)}$** and **$b^{(*)}$** for parameters $w$ and $b$. \n",
    "\n",
    "Then, the learning algorithm is defined as:\n",
    "\n",
    "> $f(x) = sign(w^{(*)}x − b^{(*)})$\n",
    "\n",
    "Now, to predict whether a **new** review is positive or negative using an SVM model, you have to take the text of the review, convert it into a feature vector, then multiply this vector by **$w^{(*)}$** , subtract **$b^{(*)}$** and take the sign of the result. \n",
    "\n",
    "If you get +1, then, the review is a positive review. If you get a -1, then, you have a negative review. "
   ]
  },
  {
   "cell_type": "markdown",
   "metadata": {
    "slideshow": {
     "slide_type": "slide"
    }
   },
   "source": [
    "We want a hyperplane that separates positive examples from negative ones with the largest margin. \n",
    "\n",
    "If the margin or decision boundary is large, it contributes to a better generalization, that is how well the model will classify new examples in the future. \n",
    "\n",
    "For two-dimensional feature vectors, we can easily visualize the solution. The blue and orange circles represent, respectively, positive and negative examples. The line given by $wx − b = 0$ is the decision boundary.\n",
    "\n",
    "That’s how Support Vector Machines work. This particular version of the algorithm builds the so-called linear model. It’s called linear because the decision boundary is a straight line (or a plane, or a hyperplane)."
   ]
  },
  {
   "cell_type": "markdown",
   "metadata": {
    "slideshow": {
     "slide_type": "slide"
    }
   },
   "source": [
    "<img src=\"img/img1.png\" alt=\"Drawing\" style=\"width: 400px;\"/>"
   ]
  },
  {
   "cell_type": "markdown",
   "metadata": {
    "slideshow": {
     "slide_type": "slide"
    }
   },
   "source": [
    "**NOTES**\n",
    "1. Each training example either is or isn't a \"support vector\".\n",
    "2. This gets decided during fit.\n",
    "3. It does not apply to test examples.\n",
    "4. Main idea: the boundary only depends on the support vectors."
   ]
  },
  {
   "cell_type": "code",
   "execution_count": 2,
   "metadata": {
    "slideshow": {
     "slide_type": "skip"
    }
   },
   "outputs": [],
   "source": [
    "# demo with a synthetic data set\n",
    "n = 20\n",
    "X = np.random.randn(n,2)\n",
    "y = np.random.choice((-1,+1),size=n)\n",
    "X[y>0,0] -= 2\n",
    "X[y>0,1] += 2"
   ]
  },
  {
   "cell_type": "code",
   "execution_count": 6,
   "metadata": {
    "slideshow": {
     "slide_type": "slide"
    }
   },
   "outputs": [
    {
     "data": {
      "image/png": "[encoded data removed]",
      "text/plain": [
       "<Figure size 288x288 with 1 Axes>"
      ]
     },
     "metadata": {},
     "output_type": "display_data"
    }
   ],
   "source": [
    "svm = SVC(kernel=\"linear\", C=1e6) # ignore the C=1e6 for now\n",
    "svm.fit(X,y)\n",
    "\n",
    "plt.figure(figsize=(4,4))\n",
    "plot_classifier(X,y,svm, ax=plt.gca())\n",
    "plt.scatter(*svm.support_vectors_.T, marker=\"o\", edgecolor=\"yellow\", facecolor=\"none\", s=120);"
   ]
  },
  {
   "cell_type": "markdown",
   "metadata": {
    "slideshow": {
     "slide_type": "fragment"
    }
   },
   "source": [
    "- The support vectors (SVs) are shown in yellow.\n",
    "- These are the example that \"support\" the boundary. \n",
    "\n",
    "Below: let's try removing all other examples, keeping only the SVs."
   ]
  },
  {
   "cell_type": "code",
   "execution_count": 14,
   "metadata": {
    "slideshow": {
     "slide_type": "slide"
    }
   },
   "outputs": [],
   "source": [
    "sv = svm.support_\n",
    "not_sv = list(set(range(n)) - set(sv))"
   ]
  },
  {
   "cell_type": "code",
   "execution_count": 15,
   "metadata": {
    "slideshow": {
     "slide_type": "slide"
    }
   },
   "outputs": [
    {
     "name": "stdout",
     "output_type": "stream",
     "text": [
      "[[-2.49294525  1.49478711]]\n",
      "[[-2.49294479  1.49478684]]\n",
      "The coefficients are the same!\n"
     ]
    },
    {
     "data": {
      "image/png": "[encoded data removed]",
      "text/plain": [
       "<Figure size 576x288 with 2 Axes>"
      ]
     },
     "metadata": {},
     "output_type": "display_data"
    }
   ],
   "source": [
    "# remove all non-support vectors\n",
    "X3 = np.delete(X,not_sv,0)\n",
    "y3 = np.delete(y,not_sv,0)\n",
    "\n",
    "svm3 = SVC(kernel=\"linear\", C=1e6)\n",
    "svm3.fit(X3,y3)\n",
    "\n",
    "plt.figure(figsize=(8,4))\n",
    "plt.subplot(1,2,1)\n",
    "plot_classifier(X,y,svm, ax=plt.gca())\n",
    "plt.scatter(*svm.support_vectors_.T, marker=\"o\", edgecolor=\"yellow\", facecolor=\"none\", s=120);\n",
    "plt.title(\"Original\");\n",
    "plt.subplot(1,2,2)\n",
    "plot_classifier(X3,y3,svm3, ax=plt.gca(), lims=(X[:,0].min()-1,X[:,0].max()+1,X[:,1].min()-1,X[:,1].max()+1))\n",
    "plt.title(\"SVs only\");\n",
    "\n",
    "print(svm.coef_)\n",
    "print(svm3.coef_)\n",
    "print(\"The coefficients are the same!\")"
   ]
  },
  {
   "cell_type": "code",
   "execution_count": 16,
   "metadata": {
    "slideshow": {
     "slide_type": "slide"
    }
   },
   "outputs": [
    {
     "name": "stdout",
     "output_type": "stream",
     "text": [
      "[[-2.49294525  1.49478711]]\n",
      "[[-1.27777979  1.51201698]]\n"
     ]
    },
    {
     "data": {
      "image/png": "[encoded data removed]",
      "text/plain": [
       "<Figure size 576x288 with 2 Axes>"
      ]
     },
     "metadata": {},
     "output_type": "display_data"
    }
   ],
   "source": [
    "# remove a support vector\n",
    "X2 = np.delete(X,sv[0],0)\n",
    "y2 = np.delete(y,sv[0],0)\n",
    "\n",
    "svm2 = SVC(kernel=\"linear\", C=1e6)\n",
    "svm2.fit(X2,y2);\n",
    "\n",
    "plt.figure(figsize=(8,4))\n",
    "plt.subplot(1,2,1)\n",
    "plot_classifier(X,y,svm, ax=plt.gca())\n",
    "plt.scatter(*svm.support_vectors_.T, marker=\"o\", edgecolor=\"yellow\", facecolor=\"none\", s=120);\n",
    "plt.title(\"Original\");\n",
    "\n",
    "plt.subplot(1,2,2)\n",
    "plot_classifier(X2,y2,svm2, ax=plt.gca())\n",
    "# plt.scatter(*svm2.support_vectors_.T, marker=\"o\", edgecolor=\"yellow\", facecolor=\"none\", s=120);\n",
    "plt.scatter(svm.support_vectors_[0,0], svm.support_vectors_[0,1], marker=\"x\", c=\"yellow\")\n",
    "plt.title(\"With one SV removed\");\n",
    "\n",
    "print(svm.coef_)\n",
    "print(svm2.coef_)"
   ]
  },
  {
   "cell_type": "markdown",
   "metadata": {
    "slideshow": {
     "slide_type": "slide"
    }
   },
   "source": [
    "- The **margin** is the distance from the boundary to the nearest point(s).\n",
    "- Maximizing the margin is a \"maximin\" problem: maximize the minimum distance to the boundary.\n",
    "- Intuitively, more margin is good because it leaves more \"room\" before we make an error.\n",
    "- Above: it looks like SVM maximizes the margin whereas logistic regression doesn't."
   ]
  },
  {
   "cell_type": "code",
   "execution_count": 13,
   "metadata": {
    "slideshow": {
     "slide_type": "slide"
    }
   },
   "outputs": [
    {
     "data": {
      "image/png": "[encoded data removed]",
      "text/plain": [
       "<Figure size 432x288 with 1 Axes>"
      ]
     },
     "metadata": {},
     "output_type": "display_data"
    }
   ],
   "source": [
    "plt.figure()\n",
    "plot_classifier(X, y, svm, ax=plt.gca());\n",
    "plt.scatter(*svm.support_vectors_.T, marker=\"o\", edgecolor=\"yellow\", facecolor=\"none\", s=120);\n",
    "plt.axis('equal');\n",
    "plt.axis('square');\n",
    "\n",
    "def SV_proj(svm):\n",
    "    v = svm.support_vectors_\n",
    "    s = np.array([svm.coef_.flatten()[1], -svm.coef_.flatten()[0]])\n",
    "    w = svm.coef_\n",
    "    return (v@s[:,None])/(s@s) * s - w/(w@w.T)*svm.intercept_\n",
    "proj = SV_proj(svm)\n",
    "\n",
    "for i in range(len(proj)):\n",
    "    p = proj[i]\n",
    "    sv = svm.support_vectors_[i]\n",
    "    plt.plot((p[0],sv[0]),(p[1],sv[1]), 'yellow')"
   ]
  },
  {
   "cell_type": "markdown",
   "metadata": {
    "slideshow": {
     "slide_type": "slide"
    }
   },
   "source": [
    "### The Kernel Trick\n",
    "\n",
    "\n",
    "\n",
    "1. What if there’s noise in the data and no hyperplane can perfectly separate positive examples from negative ones?\n",
    "2. What if the data cannot be separated using a plane, but could be separated by a higher-order polynomial?\n",
    "\n",
    "SVM can also incorporate kernels that can make the decision boundary arbitrarily non-linear. In some cases, it could be impossible to perfectly separate the two groups of points because of noise in the data, errors of labeling, or outliers. \n",
    "\n",
    "You can see both situations in the next figure. In the left case, the data could be separated by a straight line if not for the noise (outliers or examples with wrong labels). \n",
    "\n",
    "In the right case, the decision boundary is a circle and not a straight line."
   ]
  },
  {
   "cell_type": "markdown",
   "metadata": {
    "slideshow": {
     "slide_type": "slide"
    }
   },
   "source": [
    "<img src=\"img/img2.png\" alt=\"Drawing\" style=\"width: 500px;\"/>"
   ]
  },
  {
   "cell_type": "markdown",
   "metadata": {
    "slideshow": {
     "slide_type": "slide"
    }
   },
   "source": [
    "**Dealing with Noise**\n",
    "To extend SVM to cases in which the data is not linearly separable, we introduce the Hinge Loss Function: \n",
    "\n",
    "$max(0, 1− y_i(wx_i − b))$. *don't worry too much about this."
   ]
  },
  {
   "cell_type": "markdown",
   "metadata": {
    "slideshow": {
     "slide_type": "slide"
    }
   },
   "source": [
    "The Hinge Loss Function is zero if $wx_i$ lies on the correct side of the decision boundary. \n",
    "For data on the wrong side of the decision boundary, the function’s value is proportional to the distance from the decision boundary.\n",
    "\n",
    "\n",
    "By changing the Hyperparamenter C, we determine the tradeoff between increasing the size of the decision boundary and trying to get each $x_i$ in the correct side of the decision boundary. \n",
    "\n",
    "SVMs that optimize hinge loss are called soft-margin SVMs, while the original formulation is referred to as a hard-margin SVM."
   ]
  },
  {
   "cell_type": "markdown",
   "metadata": {
    "slideshow": {
     "slide_type": "slide"
    }
   },
   "source": [
    "For sufficiently high values of C, the second term in the cost function will become negligible, so the SVM algorithm will try to find the highest margin by completely ignoring misclassification. As we decrease the value of C, making classification errors is becoming more costly, so the SVM algorithm tries to make fewer mistakes by sacrificing the margin size. **A larger margin is better for generalization.**\n",
    "\n",
    "C regulates the tradeoff between classifying the training data well (minimizing empirical risk) and classifying future examples well (generalization)."
   ]
  },
  {
   "cell_type": "markdown",
   "metadata": {
    "slideshow": {
     "slide_type": "slide"
    }
   },
   "source": [
    "<img src=\"img/img4.png\" alt=\"Drawing\" style=\"width: 400px;\"/>"
   ]
  },
  {
   "cell_type": "markdown",
   "metadata": {
    "slideshow": {
     "slide_type": "slide"
    }
   },
   "source": [
    "**Dealing with Inherent Non-Linearity**\n",
    "SVM can be adapted to work with datasets that cannot be separated by a hyperplane in its original space. Indeed, if we manage to transform the original space into a space of higher dimensionality, we could hope that the examples will become linearly separable in this transformed space. In SVMs, using a function to implicitly transform the original space into a higher dimensional space during the cost function optimization is called the kernel trick."
   ]
  },
  {
   "cell_type": "markdown",
   "metadata": {
    "slideshow": {
     "slide_type": "fragment"
    }
   },
   "source": [
    "<img src=\"img/img3.png\" alt=\"Drawing\" style=\"width: 400px;\"/>"
   ]
  },
  {
   "cell_type": "markdown",
   "metadata": {
    "slideshow": {
     "slide_type": "slide"
    }
   },
   "source": [
    "It’s possible to transform a two-dimensional non-linearly-separable data into a linearly-separable threedimensional\n",
    "data using a specific mapping. For example: 2D data into a 3D space. Now, the data becomes\n",
    "linearly separable in the transformed space.\n",
    "\n",
    "However, we don’t know a priori which mapping would work for our data. \n",
    "\n",
    "\n",
    "\n",
    "By using the kernel trick, we can get rid of a costly transformation of original feature vectors into higher dimensional vectors and avoid computing their dot-product."
   ]
  },
  {
   "cell_type": "code",
   "execution_count": 3,
   "metadata": {
    "slideshow": {
     "slide_type": "slide"
    }
   },
   "outputs": [
    {
     "data": {
      "image/png": "[encoded data removed]",
      "text/plain": [
       "<Figure size 432x288 with 1 Axes>"
      ]
     },
     "metadata": {
      "needs_background": "light"
     },
     "output_type": "display_data"
    }
   ],
   "source": [
    "n = 20\n",
    "d = 2\n",
    "np.random.seed(0)\n",
    "X = np.random.randn(n,d)\n",
    "y = np.sum(X**2,axis=1) < 0.4\n",
    "\n",
    "plt.scatter(X[:,0], X[:,1], c=y);\n",
    "plt.xlabel(\"$x_{i1}$\", fontsize=20);\n",
    "plt.ylabel(\"$x_{i2}$\", fontsize=20);"
   ]
  },
  {
   "cell_type": "code",
   "execution_count": 4,
   "metadata": {
    "slideshow": {
     "slide_type": "slide"
    }
   },
   "outputs": [
    {
     "name": "stdout",
     "output_type": "stream",
     "text": [
      "Training accuracy 0.7\n"
     ]
    },
    {
     "data": {
      "image/png": "[encoded data removed]",
      "text/plain": [
       "<Figure size 432x288 with 1 Axes>"
      ]
     },
     "metadata": {},
     "output_type": "display_data"
    }
   ],
   "source": [
    "svm = SVC(kernel=\"linear\")\n",
    "svm.fit(X,y)\n",
    "\n",
    "plot_classifier(X,y,svm)\n",
    "\n",
    "print(\"Training accuracy\", svm.score(X,y))"
   ]
  },
  {
   "cell_type": "code",
   "execution_count": 5,
   "metadata": {
    "slideshow": {
     "slide_type": "slide"
    }
   },
   "outputs": [
    {
     "data": {
      "image/png": "[encoded data removed]",
      "text/plain": [
       "<Figure size 432x288 with 1 Axes>"
      ]
     },
     "metadata": {
      "needs_background": "light"
     },
     "output_type": "display_data"
    }
   ],
   "source": [
    "Z = X**2\n",
    "\n",
    "plt.scatter(Z[:,0], Z[:,1], c=y);\n",
    "plt.xlabel(\"$z_{i1}$\", fontsize=20);\n",
    "plt.ylabel(\"$z_{i2}$\", fontsize=20);"
   ]
  },
  {
   "cell_type": "code",
   "execution_count": 6,
   "metadata": {
    "slideshow": {
     "slide_type": "slide"
    }
   },
   "outputs": [
    {
     "name": "stdout",
     "output_type": "stream",
     "text": [
      "Training accuracy 1.0\n"
     ]
    },
    {
     "data": {
      "image/png": "[encoded data removed]",
      "text/plain": [
       "<Figure size 432x288 with 1 Axes>"
      ]
     },
     "metadata": {},
     "output_type": "display_data"
    }
   ],
   "source": [
    "svm = SVC(kernel=\"linear\", C=100)\n",
    "svm.fit(Z,y)\n",
    "\n",
    "plot_classifier(Z,y,svm)\n",
    "\n",
    "print(\"Training accuracy\", svm.score(Z,y))"
   ]
  },
  {
   "cell_type": "code",
   "execution_count": 7,
   "metadata": {
    "slideshow": {
     "slide_type": "slide"
    }
   },
   "outputs": [
    {
     "data": {
      "image/png": "[encoded data removed]",
      "text/plain": [
       "<Figure size 432x288 with 1 Axes>"
      ]
     },
     "metadata": {},
     "output_type": "display_data"
    }
   ],
   "source": [
    "plot_classifier(X, y, svm, transformation=lambda X: X**2);"
   ]
  }
 ],
 "metadata": {
  "celltoolbar": "Slideshow",
  "kernelspec": {
   "display_name": "Python 3",
   "language": "python",
   "name": "python3"
  },
  "language_info": {
   "codemirror_mode": {
    "name": "ipython",
    "version": 3
   },
   "file_extension": ".py",
   "mimetype": "text/x-python",
   "name": "python",
   "nbconvert_exporter": "python",
   "pygments_lexer": "ipython3",
   "version": "3.7.4"
  }
 },
 "nbformat": 4,
 "nbformat_minor": 2
}
