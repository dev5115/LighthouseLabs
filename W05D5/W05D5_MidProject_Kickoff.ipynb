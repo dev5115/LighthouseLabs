{
 "cells": [
  {
   "cell_type": "markdown",
   "metadata": {
    "slideshow": {
     "slide_type": "slide"
    }
   },
   "source": [
    "## Lighthouse Labs\n",
    "### W05D5 Midterm Project\n",
    "Instructor: Socorro Dominguez  \n",
    "October 15, 2020"
   ]
  },
  {
   "cell_type": "markdown",
   "metadata": {
    "slideshow": {
     "slide_type": "slide"
    }
   },
   "source": [
    "**Agenda:**\n",
    "\n",
    "* About the midterm project\n",
    "\n",
    "* The skeleton of the project\n",
    "    * How to plan the project\n",
    "    * How to divide up tasks\n",
    "\n",
    "* Intro to Git\n",
    "    * How to collaborate with Git (Simple Git Workflow)\n",
    "\n",
    "* How will the project be evaluated\n",
    "    * Prediction scores on out of sample data\n",
    "    * Presentation\n",
    "    * Code review"
   ]
  },
  {
   "cell_type": "markdown",
   "metadata": {
    "slideshow": {
     "slide_type": "slide"
    }
   },
   "source": [
    "* About the midterm project\n",
    "\n",
    "This [repository](https://github.com/lighthouse-labs/mid-term_project) has the notebooks you need to read.\n",
    "\n",
    "The data is stored in a Postgres database, you can find the credentials in the Data Gathering Activity."
   ]
  },
  {
   "cell_type": "markdown",
   "metadata": {
    "slideshow": {
     "slide_type": "slide"
    }
   },
   "source": [
    "What is the Midterm Project?\n",
    "\n",
    "> You will be working with data from air travel industry. \n",
    "> You will be given four separate tables:\n",
    "    > - flights: The departure and arrival information about flights in US in years 2018 and 2019.\n",
    "    > - fuel_comsumption: The fuel comsumption of different airlines from years 2015-2019 aggregated per month.\n",
    "    > - passengers: The passenger totals on different routes from years 2015-2019 aggregated per month.\n",
    "    > - flights_test: The departure and arrival information about flights in US in January 2020. Use this as your test set. When you submit, this is how it should look like: [sample_submission.csv](https://github.com/lighthouse-labs/mid-term_project/blob/master/sample_submission.csv)"
   ]
  },
  {
   "cell_type": "markdown",
   "metadata": {
    "slideshow": {
     "slide_type": "slide"
    }
   },
   "source": [
    "* The skeleton of the project\n",
    "\n",
    " What do you think would be an appropriate data pipeline?\n",
    " \n",
    " - There is no exact recipe on how you should do your project because all projects are different. \n",
    " \n",
    " - But a *Data Analysis/ML Pipeline* should look similar to this:\n",
    " \n",
    " <img src=\"img/flow.png\" alt=\"Flow Chart\" style=\"width: 400px;\"/>\n"
   ]
  },
  {
   "cell_type": "markdown",
   "metadata": {
    "slideshow": {
     "slide_type": "slide"
    }
   },
   "source": [
    "    * How to plan the project?\n",
    "     - Set up your working space.\n",
    "     - Write or download a public Code of Conduct\n",
    "     - Choose a Licence over your work\n",
    "     - Decide how will you collaborate, will you share a Notebook on Google Cloud? Will you use a Version Control (Github) system?\n",
    "     - Decide how many Jupyter notebooks or python scripts you will need so that you do not duplicate work.\n"
   ]
  },
  {
   "cell_type": "markdown",
   "metadata": {
    "slideshow": {
     "slide_type": "slide"
    }
   },
   "source": [
    "     - Don't do\n",
    "     SELECT * FROM aviation without a WHERE clause\n",
    "     Do: Save as CSV\n",
    "    \n",
    "    * How to divide up tasks?"
   ]
  },
  {
   "cell_type": "markdown",
   "metadata": {
    "slideshow": {
     "slide_type": "slide"
    }
   },
   "source": [
    "What does a good Repo may look like?\n",
    "\n",
    "[Template](https://github.com/sedv8808/template)\n",
    "\n",
    "What do you notice?"
   ]
  },
  {
   "cell_type": "markdown",
   "metadata": {
    "slideshow": {
     "slide_type": "slide"
    }
   },
   "source": [
    "* Intro to Git \n",
    "    * A small [Guide](https://github.com/sedv8808/LighthouseLabs/blob/main/W05D5/GitHub%20Presentation/01_VersionControl.pdf) to version control\n",
    "    * How to collaborate with Git (Simple Git Workflow)\n",
    "        * Decide if you are going to do Branches or Forking the repository for collaboration.\n",
    "        * Your Master branch should always be \"ready to deploy\""
   ]
  },
  {
   "cell_type": "markdown",
   "metadata": {
    "slideshow": {
     "slide_type": "slide"
    }
   },
   "source": [
    "* How will the project be evaluated\n",
    "    * Prediction scores on out of sample data\n",
    "    * Presentation:\n",
    "        - Before you dive into the data and all your work, try to think why you are doing this.\n",
    "        - Your job as a Data Scientist is to bring value to the company. How, by using this data, will you bring value?"
   ]
  },
  {
   "cell_type": "markdown",
   "metadata": {
    "slideshow": {
     "slide_type": "slide"
    }
   },
   "source": [
    "    * Code review: \n",
    "        - Good code follows the DRY (Don't Repeat Yourself) principle.\n",
    "            * Name variables in a human readable fashion.\n",
    "            * Use comments and docstrings when needed. \n",
    "            * Write tests for your functions if you can.\n",
    "           "
   ]
  },
  {
   "cell_type": "markdown",
   "metadata": {
    "slideshow": {
     "slide_type": "slide"
    }
   },
   "source": [
    "**Other Ideas**"
   ]
  },
  {
   "cell_type": "markdown",
   "metadata": {
    "slideshow": {
     "slide_type": "slide"
    }
   },
   "source": [
    "**Idea_01**  \n",
    "When you train your model, you probably won't be wanting to train it every time you are running your Jupyter Notebook.\n",
    "\n",
    "You can save your model using a pickle file.   \n",
    "Check this tutorial: [pickle](https://machinelearningmastery.com/save-load-machine-learning-models-python-scikit-learn/)\n",
    "\n",
    "This way, if you choose to use Jupyter Notebooks, you can write a small function that says   \n",
    "```\n",
    "if model_file exists:  \n",
    "    model=pickle.load(open(filename, 'rb'))\n",
    "    model.predict(Y_test)\n",
    "else:\n",
    "    model=classifier()\n",
    "    model.fit(X_train, y_train)\n",
    "    model.predict(Y_test)\n",
    "```\n",
    "or something like that."
   ]
  },
  {
   "cell_type": "markdown",
   "metadata": {
    "slideshow": {
     "slide_type": "slide"
    }
   },
   "source": [
    "\n",
    "**Idea_02**  \n",
    "If you are comfortable writing scripts rather than Jupyter Notebooks, it would be advisable to do a package for most modules. Just use a JN for EDA purposes.\n",
    "\n",
    "**Idea_03**  \n",
    "You will probably need to write some functions to process your data. You can save those functions in a different script called utils.py and import that file to your notebook or scripts. That way, your notebooks will look cleaner and more concise. \n",
    "\n",
    "**Idea_04**  \n",
    "Make sure your functions do what you want them to do. It is always advisable to write tests.\n"
   ]
  },
  {
   "cell_type": "markdown",
   "metadata": {
    "slideshow": {
     "slide_type": "slide"
    }
   },
   "source": [
    "How to write tests:\n",
    "```\n",
    "def sum(x, y):\n",
    " z=x+y\n",
    " return z\n",
    " \n",
    "def test_sum():\n",
    "    assert sum(x=3, y=1) == 4\n",
    "    \n",
    "```"
   ]
  },
  {
   "cell_type": "markdown",
   "metadata": {
    "slideshow": {
     "slide_type": "slide"
    }
   },
   "source": [
    "**Idea_05**  \n",
    "Tricks for Model Selection\n",
    "[Here](https://github.com/sedv8808/LighthouseLabs/blob/main/W05D4/W05D04_Choosing_Classifier.ipynb)"
   ]
  },
  {
   "cell_type": "code",
   "execution_count": null,
   "metadata": {},
   "outputs": [],
   "source": []
  }
 ],
 "metadata": {
  "celltoolbar": "Slideshow",
  "kernelspec": {
   "display_name": "Python 3",
   "language": "python",
   "name": "python3"
  },
  "language_info": {
   "codemirror_mode": {
    "name": "ipython",
    "version": 3
   },
   "file_extension": ".py",
   "mimetype": "text/x-python",
   "name": "python",
   "nbconvert_exporter": "python",
   "pygments_lexer": "ipython3",
   "version": "3.7.4"
  }
 },
 "nbformat": 4,
 "nbformat_minor": 2
}
