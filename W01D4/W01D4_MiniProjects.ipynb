{
 "cells": [
  {
   "cell_type": "markdown",
   "metadata": {
    "slideshow": {
     "slide_type": "slide"
    }
   },
   "source": [
    "## Lighthouse Labs\n",
    "### W01D4 Miniprojects \n",
    "Instructor: Socorro Dominguez  \n",
    "January 07, 2021\n"
   ]
  },
  {
   "cell_type": "markdown",
   "metadata": {
    "slideshow": {
     "slide_type": "slide"
    }
   },
   "source": [
    "**Agenda:**\n",
    "\n",
    "* Quick Review Days 1-3 (30 min)\n",
    "    * Python\n",
    "    * APIs\n",
    "    * BASH\n",
    "* The value of mini projects\n",
    "* How to approach mini projects\n",
    "    * explore\n",
    "    * design\n",
    "    * implement\n",
    "    * present\n",
    "\n",
    "* Presentation Guidelines\n",
    "    * introduction - 1 min\n",
    "    * tools and packages - 1 min\n",
    "    * results 1-2 min\n",
    "    * challenges and next steps - 1min\n",
    "\n",
    "* EXTRA: Intro to Git\n",
    "    * How to collaborate with Git (Simple Git Workflow)"
   ]
  },
  {
   "cell_type": "markdown",
   "metadata": {
    "slideshow": {
     "slide_type": "slide"
    }
   },
   "source": [
    "What are Data Science Projects?\n",
    "\n",
    "* Source of knowledge/experience.\n",
    "\n",
    "* What you will be talking about in your job interviews\n",
    "\n",
    "* Benchmarking a new technique\n",
    "     * Example: you develop a new classification algorithm and want to compare it to existing ones\n",
    "     * Use popular publicly available benchmark datasets (e.g. from Kaggle)\n",
    "* New use-case for existing technique\n",
    "     * Example: you apply a product-recommendations algorithm to your business’s order history"
   ]
  },
  {
   "cell_type": "markdown",
   "metadata": {
    "slideshow": {
     "slide_type": "slide"
    }
   },
   "source": [
    "### Lighthouse Projects\n",
    "\n",
    "* Can be question/answer-based or open-ended.\n",
    "* You have to come up with some of your own problem statements and goals to frame your work.\n",
    "* Not limited to just answering the questions\n",
    "\n",
    "\n",
    "**Miniprojects**\n",
    "- APIs - Python data structures (individual)\n",
    "- Databases (SQL) - Pandas (individual)\n",
    "- Feature engineering - Dimensionality reduction - Unsupervised learning (pairs)\n",
    "- Supervised learning - Deployment (individual)\n",
    "- Deep Learning - NLP (individual)\n",
    "- Open-ended final project"
   ]
  },
  {
   "cell_type": "markdown",
   "metadata": {
    "slideshow": {
     "slide_type": "slide"
    }
   },
   "source": [
    "## Individual and group work\n",
    "\n",
    "* How to plan the project?\n",
    "     - Set up your working space.\n",
    "     - Write or download a public Code of Conduct\n",
    "     - Choose a Licence over your work\n",
    "     - Decide how will you collaborate, will you share a Notebook on Google Cloud? Will you use a Version Control (Github) system?\n",
    "     - Decide how many Jupyter notebooks or python scripts you will need so that you do not duplicate work.\n",
    "     - Write a clear README on how your repo works."
   ]
  },
  {
   "cell_type": "markdown",
   "metadata": {
    "slideshow": {
     "slide_type": "slide"
    }
   },
   "source": [
    "Keep in mind:\n",
    "- Two minds do not necessarily code twice as fast!\n",
    "- Try Version control and Parallelization\n",
    "    - Different sub-tasks\n",
    "    - Different files\n",
    "- No pair-coding, instead try doing a Code reviews of each-other’s work.\n",
    "- Decide whether you will work in branches or forks. \n",
    "- GitHub: push / submit pull requests only at working milestones (no errors). "
   ]
  },
  {
   "cell_type": "markdown",
   "metadata": {
    "slideshow": {
     "slide_type": "slide"
    }
   },
   "source": [
    "## Mini Project 1\n",
    "\n",
    "**Part 1: Transport of London API**  \n",
    "Example: Plan the journey from Heathrow Airport to Tower Bridge using Public Transport, Taxi or Bike? Which way is the fastest?\n",
    "\n",
    "\n",
    "**Part 2: The Movie Database API (stretch)**  \n",
    "Example: Find top 5 trending movies\n",
    "\n",
    "\n",
    "**Challenges:**\n",
    "- Working with difficult documentation (poor descriptions of what input/return values are)\n",
    "- Parsing complex data structures (nested lists/dictionaries)\n",
    "- 7 minute presentation (plus 1 minute feedback)\n",
    "    * Make sure to respect your 7 minutes, do not go past them. "
   ]
  },
  {
   "cell_type": "markdown",
   "metadata": {
    "slideshow": {
     "slide_type": "slide"
    }
   },
   "source": [
    "## Strategies for your projects\n",
    "\n",
    "- Good code follows the DRY (Don't Repeat Yourself) principle.\n",
    "    * Name variables in a human readable fashion.\n",
    "    * Use comments and docstrings when needed. \n",
    "    * Any time you find yourself writing similar code again and again, make a function\n",
    "    \n",
    "    \n",
    "* Other good practices include:\n",
    "    - Define functions and/or classes whenever possible (e.g. get_transit(url))\n",
    "    - Save GET request results and only fetch when needed (e.g. function that checks if data has been fetched, fetches data at a URL, then saves it)\n",
    "    - Jupyter code blocks should have a clearly defined goal.\n",
    "    - Periodically refactor code (i.e. clean up, reorganize, consolidate)\n",
    "    - Write tests and assert statements for your functions."
   ]
  },
  {
   "cell_type": "markdown",
   "metadata": {
    "slideshow": {
     "slide_type": "slide"
    }
   },
   "source": [
    "## Progress and Dificulty\n",
    "\n",
    "* Make a minimum viable product (MVP) early\n",
    "* Dataset difficulty \n",
    "* Model complexity (not yet)\n",
    "* Task complexity (not yet)"
   ]
  },
  {
   "cell_type": "markdown",
   "metadata": {
    "slideshow": {
     "slide_type": "slide"
    }
   },
   "source": [
    "- Explore the dataset, API, and other tools  \n",
    "**BE CURIOUS**  \n",
    "- Play with the dataset\n",
    "    - What do the variables mean?\n",
    "    - Which variables are categorical, ordinal, and continuous?\n",
    "    - Range/variance of each variable?\n",
    "    - Plot things that interest you of the dataset\n",
    "- Try out the API functions and explore the returned structure"
   ]
  },
  {
   "cell_type": "markdown",
   "metadata": {
    "slideshow": {
     "slide_type": "slide"
    }
   },
   "source": [
    "What does a good Repo may look like?\n",
    "\n",
    "[Template](https://github.com/sedv8808/template)\n",
    "\n",
    "What do you notice?"
   ]
  },
  {
   "cell_type": "markdown",
   "metadata": {
    "slideshow": {
     "slide_type": "slide"
    }
   },
   "source": [
    "* Intro to Git \n",
    "    * A small [Guide](https://github.com/sedv8808/LighthouseLabs/blob/main/W05D5/GitHub%20Presentation/01_VersionControl.pdf) to version control\n",
    "    * How to collaborate with Git (Simple Git Workflow)\n",
    "        * Decide if you are going to do Branches or Forking the repository for collaboration.\n",
    "        * Your Master branch should always be \"ready to deploy\""
   ]
  },
  {
   "cell_type": "markdown",
   "metadata": {
    "slideshow": {
     "slide_type": "slide"
    }
   },
   "source": [
    "* Why use Git?\n",
    "    - Public: Employers can see all the projects you’ve worked on\n",
    "    - Versioned: You will have a history and can roll back to old commits\n",
    "    - Server deployment: Just git pull to any new machine\n",
    "    - Teamwork: Everyone can work on their own copy and working versions to the master copy\n"
   ]
  },
  {
   "cell_type": "markdown",
   "metadata": {
    "slideshow": {
     "slide_type": "slide"
    }
   },
   "source": [
    "## Project presentations\n"
   ]
  },
  {
   "cell_type": "markdown",
   "metadata": {
    "slideshow": {
     "slide_type": "slide"
    }
   },
   "source": [
    "**General Pointers**  \n",
    "\n",
    "1. Present as if to a client (who has some data science knowledge)\n",
    "2. Make it a story\n",
    "3. Explain the problem\n",
    "4. Describe the dataset\n",
    "5. Unfold how you analyzed the dataset\n",
    "6. Show your findings\n",
    "\n",
    "Avoid walking through code. "
   ]
  },
  {
   "cell_type": "markdown",
   "metadata": {
    "slideshow": {
     "slide_type": "slide"
    }
   },
   "source": [
    "\n",
    "**Structure**  \n",
    "\n",
    "- Motivation: What is the problem? Why is it important (either business, public good, or research perspective)?\n",
    "- Task: Problem from a technical perspective. Description of the dataset, algorithm inputs/outputs, analyses done using model\n",
    "- Usually 'Modeling' but not yet.\n",
    "- Results: Visuals! Show metrics and experiments. Demo (if any)\n",
    "- Conclusions: What worked? What didn’t (and why)? How are we better off? Where could the project go next?"
   ]
  },
  {
   "cell_type": "markdown",
   "metadata": {
    "slideshow": {
     "slide_type": "slide"
    }
   },
   "source": [
    "## Need figures? \n",
    "- Use draw.io\n",
    "- python plotting libraries\n"
   ]
  }
 ],
 "metadata": {
  "celltoolbar": "Slideshow",
  "kernelspec": {
   "display_name": "Python 3",
   "language": "python",
   "name": "python3"
  },
  "language_info": {
   "codemirror_mode": {
    "name": "ipython",
    "version": 3
   },
   "file_extension": ".py",
   "mimetype": "text/x-python",
   "name": "python",
   "nbconvert_exporter": "python",
   "pygments_lexer": "ipython3",
   "version": "3.7.4"
  }
 },
 "nbformat": 4,
 "nbformat_minor": 2
}
