{
 "cells": [
  {
   "cell_type": "markdown",
   "metadata": {
    "slideshow": {
     "slide_type": "slide"
    }
   },
   "source": [
    "## Lighthouse Labs\n",
    "### W05D02 Logistic Regression\n",
    "Instructor: Socorro Dominguez  \n",
    "October 13, 2020"
   ]
  },
  {
   "cell_type": "code",
   "execution_count": 1,
   "metadata": {
    "slideshow": {
     "slide_type": "skip"
    }
   },
   "outputs": [],
   "source": [
    "from sklearn.model_selection import train_test_split \n",
    "from statsmodels.nonparametric.smoothers_lowess import lowess\n",
    "from sklearn.metrics import confusion_matrix, roc_curve, f1_score, roc_auc_score\n",
    "from sklearn.svm import SVC, SVR, LinearSVC\n",
    "from sklearn.linear_model import LogisticRegression, LinearRegression\n",
    "from sklearn.multiclass import OneVsRestClassifier, OneVsOneClassifier \n",
    "\n",
    "# Other\n",
    "import numpy as np\n",
    "import pandas as pd\n",
    "import pickle \n",
    "from sklearn import datasets\n",
    "from plot_classifier import plot_classifier\n",
    "import matplotlib.pyplot as plt\n",
    "import seaborn as sns\n",
    "%matplotlib inline"
   ]
  },
  {
   "cell_type": "code",
   "execution_count": 2,
   "metadata": {
    "slideshow": {
     "slide_type": "skip"
    }
   },
   "outputs": [
    {
     "data": {
      "text/html": [
       "        <script type=\"text/javascript\">\n",
       "        window.PlotlyConfig = {MathJaxConfig: 'local'};\n",
       "        if (window.MathJax) {MathJax.Hub.Config({SVG: {font: \"STIX-Web\"}});}\n",
       "        if (typeof require !== 'undefined') {\n",
       "        require.undef(\"plotly\");\n",
       "        requirejs.config({\n",
       "            paths: {\n",
       "                'plotly': ['https://cdn.plot.ly/plotly-latest.min']\n",
       "            }\n",
       "        });\n",
       "        require(['plotly'], function(Plotly) {\n",
       "            window._Plotly = Plotly;\n",
       "        });\n",
       "        }\n",
       "        </script>\n",
       "        "
      ]
     },
     "metadata": {},
     "output_type": "display_data"
    }
   ],
   "source": [
    "import plotly.graph_objs as go\n",
    "from plotly.offline import download_plotlyjs, init_notebook_mode, plot, iplot\n",
    "init_notebook_mode(connected=True)"
   ]
  },
  {
   "cell_type": "code",
   "execution_count": 3,
   "metadata": {
    "slideshow": {
     "slide_type": "skip"
    }
   },
   "outputs": [],
   "source": [
    "import plotly.io as pio # conda install -c plotly plotly-orca\n",
    "from IPython.display import Image"
   ]
  },
  {
   "cell_type": "code",
   "execution_count": 4,
   "metadata": {
    "slideshow": {
     "slide_type": "skip"
    }
   },
   "outputs": [],
   "source": [
    "plt.rcParams['font.size'] = 16"
   ]
  },
  {
   "cell_type": "code",
   "execution_count": 5,
   "metadata": {
    "slideshow": {
     "slide_type": "skip"
    }
   },
   "outputs": [
    {
     "data": {
      "application/javascript": [
       "IPython.notebook.set_autosave_interval(0)"
      ]
     },
     "metadata": {},
     "output_type": "display_data"
    },
    {
     "name": "stdout",
     "output_type": "stream",
     "text": [
      "Autosave disabled\n"
     ]
    }
   ],
   "source": [
    "%autosave 0"
   ]
  },
  {
   "cell_type": "code",
   "execution_count": 33,
   "metadata": {
    "slideshow": {
     "slide_type": "skip"
    }
   },
   "outputs": [],
   "source": [
    "import warnings\n",
    "warnings.simplefilter(action='ignore', category=FutureWarning)"
   ]
  },
  {
   "cell_type": "markdown",
   "metadata": {
    "slideshow": {
     "slide_type": "slide"
    }
   },
   "source": [
    "**Agenda:**\n",
    "\n",
    "* Limitations of Linear Regression\n",
    "* Logistic regression\n",
    "    * Odds\n",
    "    * Log-odds\n",
    "    * Odds ratio\n",
    "    * Multinomial logistic regresion (softmax)\n",
    "* GLM (generalised linear models)"
   ]
  },
  {
   "cell_type": "markdown",
   "metadata": {
    "slideshow": {
     "slide_type": "slide"
    }
   },
   "source": [
    "### Limitations for Linear Regression"
   ]
  },
  {
   "cell_type": "markdown",
   "metadata": {
    "slideshow": {
     "slide_type": "fragment"
    }
   },
   "source": [
    "In Regression, we allow the response to take on any real number. But what if the range is restricted?\n",
    "\n",
    "1. Positive values: river flow. \n",
    "    - Lower limit: 0\n",
    "2. Percent/proportion data: proportion of income spent on housing in Vancouver. \n",
    "    - Lower limit: 0\n",
    "    - Upper limit: 1. \n",
    "3. Binary data: success/failure data.\n",
    "    - Only take values of 0 and 1.\n",
    "4. Count data: number of male crabs nearby a nesting female\n",
    "    - Only take count values (0, 1, 2, ...)"
   ]
  },
  {
   "cell_type": "code",
   "execution_count": 7,
   "metadata": {
    "slideshow": {
     "slide_type": "skip"
    }
   },
   "outputs": [],
   "source": [
    "cow = pd.read_csv(\"data/milk_fat.csv\")"
   ]
  },
  {
   "cell_type": "markdown",
   "metadata": {
    "slideshow": {
     "slide_type": "slide"
    }
   },
   "source": [
    "Here is an example of the fat content of a cow's milk, which was recorded over time. Data are from the paper [\"Transform or Link?\"](https://core.ac.uk/download/pdf/79036775.pdf). "
   ]
  },
  {
   "cell_type": "code",
   "execution_count": 8,
   "metadata": {
    "slideshow": {
     "slide_type": "fragment"
    }
   },
   "outputs": [
    {
     "data": {
      "text/html": [
       "<div>\n",
       "<style scoped>\n",
       "    .dataframe tbody tr th:only-of-type {\n",
       "        vertical-align: middle;\n",
       "    }\n",
       "\n",
       "    .dataframe tbody tr th {\n",
       "        vertical-align: top;\n",
       "    }\n",
       "\n",
       "    .dataframe thead th {\n",
       "        text-align: right;\n",
       "    }\n",
       "</style>\n",
       "<table border=\"1\" class=\"dataframe\">\n",
       "  <thead>\n",
       "    <tr style=\"text-align: right;\">\n",
       "      <th></th>\n",
       "      <th>week</th>\n",
       "      <th>fat</th>\n",
       "    </tr>\n",
       "  </thead>\n",
       "  <tbody>\n",
       "    <tr>\n",
       "      <th>0</th>\n",
       "      <td>1</td>\n",
       "      <td>0.31</td>\n",
       "    </tr>\n",
       "    <tr>\n",
       "      <th>1</th>\n",
       "      <td>2</td>\n",
       "      <td>0.39</td>\n",
       "    </tr>\n",
       "    <tr>\n",
       "      <th>2</th>\n",
       "      <td>3</td>\n",
       "      <td>0.50</td>\n",
       "    </tr>\n",
       "    <tr>\n",
       "      <th>3</th>\n",
       "      <td>4</td>\n",
       "      <td>0.58</td>\n",
       "    </tr>\n",
       "    <tr>\n",
       "      <th>4</th>\n",
       "      <td>5</td>\n",
       "      <td>0.59</td>\n",
       "    </tr>\n",
       "  </tbody>\n",
       "</table>\n",
       "</div>"
      ],
      "text/plain": [
       "   week   fat\n",
       "0     1  0.31\n",
       "1     2  0.39\n",
       "2     3  0.50\n",
       "3     4  0.58\n",
       "4     5  0.59"
      ]
     },
     "execution_count": 8,
     "metadata": {},
     "output_type": "execute_result"
    }
   ],
   "source": [
    "cow.head()"
   ]
  },
  {
   "cell_type": "code",
   "execution_count": 9,
   "metadata": {
    "slideshow": {
     "slide_type": "slide"
    }
   },
   "outputs": [
    {
     "data": {
      "text/plain": [
       "<matplotlib.axes._subplots.AxesSubplot at 0x7fed4b77e050>"
      ]
     },
     "execution_count": 9,
     "metadata": {},
     "output_type": "execute_result"
    },
    {
     "data": {
      "image/png": "[encoded data removed]",
      "text/plain": [
       "<Figure size 432x288 with 1 Axes>"
      ]
     },
     "metadata": {
      "needs_background": "light"
     },
     "output_type": "display_data"
    }
   ],
   "source": [
    "sns.regplot(cow['week'],cow['fat'])"
   ]
  },
  {
   "cell_type": "code",
   "execution_count": 10,
   "metadata": {
    "slideshow": {
     "slide_type": "slide"
    }
   },
   "outputs": [
    {
     "data": {
      "text/plain": [
       "0.6801635017906559"
      ]
     },
     "execution_count": 10,
     "metadata": {},
     "output_type": "execute_result"
    }
   ],
   "source": [
    "from sklearn.linear_model import LinearRegression\n",
    "X = cow['week'].values.reshape(-1, 1)\n",
    "# y = 1 * x_0 + 2 * x_1 + 3\n",
    "y = cow['fat'].values.reshape(-1, 1)\n",
    "reg = LinearRegression().fit(X, y)\n",
    "reg.score(X, y)"
   ]
  },
  {
   "cell_type": "code",
   "execution_count": 11,
   "metadata": {
    "slideshow": {
     "slide_type": "slide"
    }
   },
   "outputs": [
    {
     "data": {
      "text/plain": [
       "array([[-0.00789076]])"
      ]
     },
     "execution_count": 11,
     "metadata": {},
     "output_type": "execute_result"
    }
   ],
   "source": [
    "reg.predict(np.array([41]).reshape(1, 1))"
   ]
  },
  {
   "cell_type": "markdown",
   "metadata": {
    "slideshow": {
     "slide_type": "slide"
    }
   },
   "source": [
    "Notice the problem here -- __the regression lines extend beyond the possible range of the response__. This is *mathematically incorrect*, since the expected value cannot extend outside of the range of Y. But what are the *practical* consequences of this?\n",
    "\n",
    "In practice, when fitting a linear regression model when the range of the response is restricted, we lose hope for extrapolation, as we obtain logical fallacies if we do. In this example, a cow is expected to produce _negative_ fat content after week 40!\n",
    "\n",
    "Despite this, a linear regression model might still be useful in these settings. After all, the linear trend looks good for the range of the data. \n"
   ]
  },
  {
   "cell_type": "markdown",
   "metadata": {
    "slideshow": {
     "slide_type": "slide"
    }
   },
   "source": [
    "## Solutions"
   ]
  },
  {
   "cell_type": "markdown",
   "metadata": {
    "slideshow": {
     "slide_type": "subslide"
    }
   },
   "source": [
    "How can we fit a regression curve to stay within the bounds of the data, while still retaining the interpretability that we have with a linear model function? Here are some options:\n",
    "\n",
    "1. Transform the data. \n",
    "2. Transform the linear model function: link functions\n",
    "3. Use a scientifically-backed parametric function."
   ]
  },
  {
   "cell_type": "markdown",
   "metadata": {
    "slideshow": {
     "slide_type": "slide"
    }
   },
   "source": [
    "### Solution 1: Transformations\n",
    "\n",
    "One solution that _might_ be possible is to transform the response so that its range is no longer restricted. \n",
    "The most typical example is for positive data, like the fat content. If we log-transform the response, then the new response can be any real number. All we have to do is fit a linear regression model to this transformed data.\n",
    "\n",
    "But transforming the response might not always be fruitful. For example, consider a binary response. No transformation can spread the two values to be non-binary!"
   ]
  },
  {
   "cell_type": "markdown",
   "metadata": {
    "slideshow": {
     "slide_type": "slide"
    }
   },
   "source": [
    "### Solution 2: Link Functions\n",
    "\n",
    "Instead of transforming the data, why not transform the model function? For example, instead of taking the logarithm of the response, perhaps fit the model $$ E(Y|X=x) = \\exp(\\beta_0 + \\beta x) = \\alpha \\exp(\\beta x). $$ Or, in general, $$ g(E(Y|X=x)) = X^{\\top} \\beta $$ for some increasing function $g$ called the _link function_. "
   ]
  },
  {
   "cell_type": "markdown",
   "metadata": {
    "slideshow": {
     "slide_type": "slide"
    }
   },
   "source": [
    "This has the added advantage that we do not need to be able to transform the response.\n",
    "\n",
    "Two common examples of link functions:\n",
    "\n",
    "- $\\log$, for positive response values.\n",
    "    - Parameter interpretation: an increase of one unit in the predictor is associated with an $\\exp(\\beta)$ times increase in the mean response, where $\\beta$ is the slope parameter.\n",
    "- $\\text{logit}(x)=\\log(x/(1-x))$, for binary response values.\n",
    "    - Parameter interpretation: an increase of one unit in the predictor is associated with an $\\exp(\\beta)$ times increase in the odds of \"success\", where $\\beta$ is the slope parameter, and odds is the ratio of success to failure probabilities."
   ]
  },
  {
   "cell_type": "markdown",
   "metadata": {
    "slideshow": {
     "slide_type": "slide"
    }
   },
   "source": [
    "### Logistic Regression\n",
    "\n",
    "The first thing to say is that logistic regression is not a regression, but a classification learning algorithm. The name comes from statistics and is due to the fact that the mathematical formulation of logistic regression is similar to that of linear regression."
   ]
  },
  {
   "cell_type": "markdown",
   "metadata": {
    "slideshow": {
     "slide_type": "slide"
    }
   },
   "source": [
    "But before we jump in there, let's define odds and log of odds."
   ]
  },
  {
   "cell_type": "markdown",
   "metadata": {
    "slideshow": {
     "slide_type": "slide"
    }
   },
   "source": [
    "### Odds\n",
    "\n",
    "The **probability** that an event will occur is the fraction of times you expect to see that event in many trials. \n",
    "Probabilities always range between 0 and 1. \n",
    "\n",
    "The **odds** are defined as the probability that the event will occur divided by the probability that the event will not occur.  \n",
    "$\\frac{y}{(1-y)}$"
   ]
  },
  {
   "cell_type": "markdown",
   "metadata": {
    "slideshow": {
     "slide_type": "slide"
    }
   },
   "source": [
    "* If a race horse runs 100 races and wins 25 times and loses the other 75 times, the probability of winning is 25/100 = 0.25 or 25%. The odds of the horse winning are 25/75 = 0.333 or 1 win to 3 loses.\n",
    "\n",
    "* If the horse runs 100 races and wins 5 and loses the other 95 times, the probability of winning is 0.05 or 5%, and the odds of the horse winning are 5/95 = 0.0526.\n",
    "\n",
    "* If the horse runs 100 races and wins 50, the probability of winning is 50/100 = 0.50 or 50%, and the odds of winning are 50/50 = 1 (even odds).\n",
    "\n",
    "* If the horse runs 100 races and wins 80, the probability of winning is 80/100 = 0.80 or 80%, and the odds of winning are 80/20 = 4 to 1."
   ]
  },
  {
   "cell_type": "markdown",
   "metadata": {
    "slideshow": {
     "slide_type": "slide"
    }
   },
   "source": [
    "What would happen if the horse is too bad at racing? What would happen if the horse is the best? "
   ]
  },
  {
   "cell_type": "markdown",
   "metadata": {
    "slideshow": {
     "slide_type": "slide"
    }
   },
   "source": [
    "If the horse is too bad, the odds of winning will tend to zero.\n",
    "\n",
    "But if the horse is too good, the odds of winning will be too high.... they can reach infinity... \n",
    "\n",
    "How can we compare?"
   ]
  },
  {
   "cell_type": "markdown",
   "metadata": {
    "slideshow": {
     "slide_type": "slide"
    }
   },
   "source": [
    "**Log Odds**  \n",
    "So now that we understand Odds and Probability, we can understand Log Odds. \n",
    "\n",
    "Log of Odds is nothing but log(odds). Log Odds makes the magnitude of odds against look so much smaller to those in favor.\n",
    "\n",
    "When we take a log of odds, we make it look symmetrical.\n",
    "\n",
    "$Logit Function = log\\frac{p}{1-p}$"
   ]
  },
  {
   "cell_type": "markdown",
   "metadata": {
    "slideshow": {
     "slide_type": "slide"
    }
   },
   "source": [
    "Odds of winning = 4/6 = 0.6666  \n",
    "log(Odds of winning) = log(0.6666) = -0.176  \n",
    "Odds of losing = 6/4 = 1.5  \n",
    "log(Odds of losing) = log(1.5) = 0.176  "
   ]
  },
  {
   "cell_type": "markdown",
   "metadata": {
    "slideshow": {
     "slide_type": "slide"
    }
   },
   "source": [
    "The value of the logit function heads towards infinity as p approaches 1 and towards negative infinity as it approaches 0.\n",
    "\n",
    "The logit function is useful in analytics because it maps probabilities (which are values in the range [0, 1]) to the full range of real numbers. In particular, if you are working with “yes-no” (binary) inputs it can be useful to transform them into real-valued quantities prior to modeling. This is essentially what happens in logistic regression.\n",
    "\n",
    "The inverse of the logit function is the sigmoid function. That is, if you have a probability p, sigmoid(logit(p)) = p. The sigmoid function maps arbitrary real values back to the range [0, 1]. \n",
    "\n",
    "The larger the value, the closer to 1 you’ll get."
   ]
  },
  {
   "cell_type": "markdown",
   "metadata": {
    "slideshow": {
     "slide_type": "slide"
    }
   },
   "source": [
    "The formula for the sigmoid function is $\\sigma(x) = \\frac{1}{(1 + exp^{-x})}$ . \n",
    "\n",
    "Here is a plot of the function:\n",
    "\n",
    "![sigmoid](img/sigmoid.png)"
   ]
  },
  {
   "cell_type": "markdown",
   "metadata": {
    "slideshow": {
     "slide_type": "slide"
    }
   },
   "source": [
    "The sigmoid function is what we associate as the Logistic Regression. The sigmoid might be useful if you want to transform a real valued variable into something that represents a probability. This sometimes happens at the end of a classification process. \n",
    "\n",
    "There are other functions that map probabilities to reals (and vice-versa), so what is special about the logit and sigmoid? \n",
    "- The logit function has the nice connection to odds described at the beginning. Even if we associate LogReg with the squiggly line, we CANNOT forget that the COEFFICIENTS ARE presented in terms of the log(odds) graph.\n",
    "\n",
    "- Gradients of the logit and sigmoid are simple to calculate. Many optimization and ML techniques use gradients.\n",
    "\n",
    "The biggest drawback of the sigmoid function is the so-called “vanishing gradient” problem (the gradient is vanishingly small, preventing the weight from changing its value)."
   ]
  },
  {
   "cell_type": "markdown",
   "metadata": {
    "slideshow": {
     "slide_type": "slide"
    }
   },
   "source": [
    "How does the Sigmoid Function work in Classification Problems?\n",
    "\n",
    "1. Sigmoid Function has a property of converting what is passed into it to a value between 0 and 1\n",
    "2. If value is above a threshold it is 1\n",
    "3. if value is below a threshold, it is 0\n",
    "4. threshold is generally 0.5\n",
    "5. We can say that the Sigmoid Function is a special case of the Softmax function when we only have two classes. - More later-"
   ]
  },
  {
   "cell_type": "markdown",
   "metadata": {
    "slideshow": {
     "slide_type": "slide"
    }
   },
   "source": [
    "**In class complicated demo**\n",
    "\n",
    "We will be using a small dataset of [IMDB movie review data set](https://www.kaggle.com/utathya/imdb-review-dataset). Only 5,000 IMDB reviews (compared to 50,000 examples in the original data). Note that more data is usually better. "
   ]
  },
  {
   "cell_type": "code",
   "execution_count": 12,
   "metadata": {
    "slideshow": {
     "slide_type": "slide"
    }
   },
   "outputs": [
    {
     "data": {
      "text/html": [
       "<div>\n",
       "<style scoped>\n",
       "    .dataframe tbody tr th:only-of-type {\n",
       "        vertical-align: middle;\n",
       "    }\n",
       "\n",
       "    .dataframe tbody tr th {\n",
       "        vertical-align: top;\n",
       "    }\n",
       "\n",
       "    .dataframe thead th {\n",
       "        text-align: right;\n",
       "    }\n",
       "</style>\n",
       "<table border=\"1\" class=\"dataframe\">\n",
       "  <thead>\n",
       "    <tr style=\"text-align: right;\">\n",
       "      <th></th>\n",
       "      <th>Unnamed: 0</th>\n",
       "      <th>type</th>\n",
       "      <th>review</th>\n",
       "      <th>label</th>\n",
       "      <th>file</th>\n",
       "    </tr>\n",
       "  </thead>\n",
       "  <tbody>\n",
       "    <tr>\n",
       "      <th>0</th>\n",
       "      <td>0</td>\n",
       "      <td>test</td>\n",
       "      <td>Once again Mr. Costner has dragged out a movie...</td>\n",
       "      <td>neg</td>\n",
       "      <td>0_2.txt</td>\n",
       "    </tr>\n",
       "    <tr>\n",
       "      <th>1</th>\n",
       "      <td>1</td>\n",
       "      <td>test</td>\n",
       "      <td>This is an example of why the majority of acti...</td>\n",
       "      <td>neg</td>\n",
       "      <td>10000_4.txt</td>\n",
       "    </tr>\n",
       "    <tr>\n",
       "      <th>2</th>\n",
       "      <td>2</td>\n",
       "      <td>test</td>\n",
       "      <td>First of all I hate those moronic rappers, who...</td>\n",
       "      <td>neg</td>\n",
       "      <td>10001_1.txt</td>\n",
       "    </tr>\n",
       "    <tr>\n",
       "      <th>3</th>\n",
       "      <td>3</td>\n",
       "      <td>test</td>\n",
       "      <td>Not even the Beatles could write songs everyon...</td>\n",
       "      <td>neg</td>\n",
       "      <td>10002_3.txt</td>\n",
       "    </tr>\n",
       "    <tr>\n",
       "      <th>4</th>\n",
       "      <td>4</td>\n",
       "      <td>test</td>\n",
       "      <td>Brass pictures (movies is not a fitting word f...</td>\n",
       "      <td>neg</td>\n",
       "      <td>10003_3.txt</td>\n",
       "    </tr>\n",
       "  </tbody>\n",
       "</table>\n",
       "</div>"
      ],
      "text/plain": [
       "   Unnamed: 0  type                                             review label  \\\n",
       "0           0  test  Once again Mr. Costner has dragged out a movie...   neg   \n",
       "1           1  test  This is an example of why the majority of acti...   neg   \n",
       "2           2  test  First of all I hate those moronic rappers, who...   neg   \n",
       "3           3  test  Not even the Beatles could write songs everyon...   neg   \n",
       "4           4  test  Brass pictures (movies is not a fitting word f...   neg   \n",
       "\n",
       "          file  \n",
       "0      0_2.txt  \n",
       "1  10000_4.txt  \n",
       "2  10001_1.txt  \n",
       "3  10002_3.txt  \n",
       "4  10003_3.txt  "
      ]
     },
     "execution_count": 12,
     "metadata": {},
     "output_type": "execute_result"
    }
   ],
   "source": [
    "# Read IMDB movie reviews into a pandas DataFrame\n",
    "imdb_df = pd.read_csv('data/imdb_master.csv', encoding = \"ISO-8859-1\")\n",
    "imdb_df.head()\n"
   ]
  },
  {
   "cell_type": "code",
   "execution_count": 13,
   "metadata": {
    "slideshow": {
     "slide_type": "slide"
    }
   },
   "outputs": [],
   "source": [
    "# For converting words into frequency counts\n",
    "from sklearn.feature_extraction.text import CountVectorizer\n",
    "# For tokenization\n",
    "import nltk\n",
    "\n",
    "# Only keep the reviews with pos and neg labels\n",
    "imdb_df = imdb_df[imdb_df['label'].str.startswith(('pos','neg'))]\n",
    "\n",
    "# Sample 5000 rows from the dataframe. \n",
    "imdb_df_subset = imdb_df.sample(n = 5000)\n",
    "\n",
    "# Convert a collection of text documents to a matrix of token presence or absence. \n",
    "# We are using only 5000 words, English stopwords, and tokenization is done using\n",
    "# nltk, which is a popular text processing library.\n",
    "movie_vec = CountVectorizer(max_features=5000, \n",
    "                            tokenizer=nltk.word_tokenize, \n",
    "                            stop_words='english', \n",
    "                            binary = True)\n",
    "# Create X and y\n",
    "X_imdb = movie_vec.fit_transform(imdb_df_subset['review'])\n",
    "y_imdb = imdb_df_subset.label\n"
   ]
  },
  {
   "cell_type": "code",
   "execution_count": 34,
   "metadata": {
    "slideshow": {
     "slide_type": "slide"
    }
   },
   "outputs": [
    {
     "data": {
      "text/plain": [
       "0.852"
      ]
     },
     "execution_count": 34,
     "metadata": {},
     "output_type": "execute_result"
    }
   ],
   "source": [
    "from sklearn.linear_model import LogisticRegression\n",
    "X_train, X_test, y_train, y_test = train_test_split(X_imdb, \n",
    "                                                    y_imdb, \n",
    "                                                    test_size = 0.20)\n",
    "\n",
    "\n",
    "lr = LogisticRegression()\n",
    "lr.fit(X_train, y_train);\n",
    "lr.score(X_test, y_test)"
   ]
  },
  {
   "cell_type": "code",
   "execution_count": 15,
   "metadata": {
    "slideshow": {
     "slide_type": "slide"
    }
   },
   "outputs": [],
   "source": [
    "vocab = movie_vec.get_feature_names()"
   ]
  },
  {
   "cell_type": "code",
   "execution_count": 16,
   "metadata": {
    "slideshow": {
     "slide_type": "slide"
    }
   },
   "outputs": [
    {
     "data": {
      "text/html": [
       "<div>\n",
       "<style scoped>\n",
       "    .dataframe tbody tr th:only-of-type {\n",
       "        vertical-align: middle;\n",
       "    }\n",
       "\n",
       "    .dataframe tbody tr th {\n",
       "        vertical-align: top;\n",
       "    }\n",
       "\n",
       "    .dataframe thead th {\n",
       "        text-align: right;\n",
       "    }\n",
       "</style>\n",
       "<table border=\"1\" class=\"dataframe\">\n",
       "  <thead>\n",
       "    <tr style=\"text-align: right;\">\n",
       "      <th></th>\n",
       "      <th>0</th>\n",
       "    </tr>\n",
       "  </thead>\n",
       "  <tbody>\n",
       "    <tr>\n",
       "      <th>0</th>\n",
       "      <td>0.70639</td>\n",
       "    </tr>\n",
       "  </tbody>\n",
       "</table>\n",
       "</div>"
      ],
      "text/plain": [
       "         0\n",
       "0  0.70639"
      ]
     },
     "execution_count": 16,
     "metadata": {},
     "output_type": "execute_result"
    }
   ],
   "source": [
    "pd.DataFrame(lr.intercept_)"
   ]
  },
  {
   "cell_type": "code",
   "execution_count": 17,
   "metadata": {
    "slideshow": {
     "slide_type": "fragment"
    }
   },
   "outputs": [
    {
     "data": {
      "text/html": [
       "<div>\n",
       "<style scoped>\n",
       "    .dataframe tbody tr th:only-of-type {\n",
       "        vertical-align: middle;\n",
       "    }\n",
       "\n",
       "    .dataframe tbody tr th {\n",
       "        vertical-align: top;\n",
       "    }\n",
       "\n",
       "    .dataframe thead th {\n",
       "        text-align: right;\n",
       "    }\n",
       "</style>\n",
       "<table border=\"1\" class=\"dataframe\">\n",
       "  <thead>\n",
       "    <tr style=\"text-align: right;\">\n",
       "      <th></th>\n",
       "      <th>!</th>\n",
       "      <th>#</th>\n",
       "      <th>$</th>\n",
       "      <th>%</th>\n",
       "      <th>&amp;</th>\n",
       "      <th>'</th>\n",
       "      <th>''</th>\n",
       "      <th>'d</th>\n",
       "      <th>'em</th>\n",
       "      <th>'ll</th>\n",
       "      <th>...</th>\n",
       "      <th>younger</th>\n",
       "      <th>youth</th>\n",
       "      <th>youthful</th>\n",
       "      <th>youtube</th>\n",
       "      <th>zero</th>\n",
       "      <th>zombie</th>\n",
       "      <th>zombies</th>\n",
       "      <th>zone</th>\n",
       "      <th>}</th>\n",
       "      <th>â</th>\n",
       "    </tr>\n",
       "  </thead>\n",
       "  <tbody>\n",
       "    <tr>\n",
       "      <th>0</th>\n",
       "      <td>0.260464</td>\n",
       "      <td>0.194756</td>\n",
       "      <td>0.028814</td>\n",
       "      <td>-0.429379</td>\n",
       "      <td>-0.218231</td>\n",
       "      <td>-0.042182</td>\n",
       "      <td>0.212475</td>\n",
       "      <td>0.20574</td>\n",
       "      <td>-0.139505</td>\n",
       "      <td>0.100163</td>\n",
       "      <td>...</td>\n",
       "      <td>0.009213</td>\n",
       "      <td>-0.433951</td>\n",
       "      <td>0.197481</td>\n",
       "      <td>0.173388</td>\n",
       "      <td>-0.454189</td>\n",
       "      <td>0.12738</td>\n",
       "      <td>0.021886</td>\n",
       "      <td>0.107966</td>\n",
       "      <td>0.115549</td>\n",
       "      <td>0.220461</td>\n",
       "    </tr>\n",
       "  </tbody>\n",
       "</table>\n",
       "<p>1 rows × 5000 columns</p>\n",
       "</div>"
      ],
      "text/plain": [
       "          !         #         $         %         &         '        ''  \\\n",
       "0  0.260464  0.194756  0.028814 -0.429379 -0.218231 -0.042182  0.212475   \n",
       "\n",
       "        'd       'em       'll  ...   younger     youth  youthful   youtube  \\\n",
       "0  0.20574 -0.139505  0.100163  ...  0.009213 -0.433951  0.197481  0.173388   \n",
       "\n",
       "       zero   zombie   zombies      zone         }         â  \n",
       "0 -0.454189  0.12738  0.021886  0.107966  0.115549  0.220461  \n",
       "\n",
       "[1 rows x 5000 columns]"
      ]
     },
     "execution_count": 17,
     "metadata": {},
     "output_type": "execute_result"
    }
   ],
   "source": [
    "pd.DataFrame(lr.coef_, columns= vocab)"
   ]
  },
  {
   "cell_type": "markdown",
   "metadata": {
    "slideshow": {
     "slide_type": "slide"
    }
   },
   "source": [
    "When we are looking at the coefficients, it is important to think what kind of line are we seeing. Remember that the y-axis is transformed from probability to log(odds). \n",
    "\n",
    "Now, just like the y-axis in linear regression, this line can go from -∞ to ∞.\n",
    "\n",
    "If we had a different dataframe, with just two variables, we would see a dividing line, commonly called **Decision Boundary** \n",
    "\n",
    "Remember, this is the line where we would interpret our coefficients. "
   ]
  },
  {
   "cell_type": "markdown",
   "metadata": {
    "slideshow": {
     "slide_type": "slide"
    }
   },
   "source": [
    "![img](img/log.png)"
   ]
  },
  {
   "cell_type": "code",
   "execution_count": 19,
   "metadata": {
    "slideshow": {
     "slide_type": "slide"
    }
   },
   "outputs": [
    {
     "name": "stdout",
     "output_type": "stream",
     "text": [
      "Most negative words: worst, disappointing, waste, laughable, boring, stupid, poorly, 4, 4/10, disappointment\n",
      "Most positive words: great, highly, enjoyable, superb, brilliant, buy, 7/10, loved, favorite, excellent\n"
     ]
    }
   ],
   "source": [
    "## SOLUTION\n",
    "inds = np.argsort(lr.coef_.flatten())\n",
    "negative_words = [vocab[index] for index in inds[:10]]\n",
    "positive_words = [vocab[index] for index in inds[-10:]]\n",
    "print(\"Most negative words: %s\" % \", \".join(negative_words))\n",
    "print(\"Most positive words: %s\" % \", \".join(positive_words))"
   ]
  },
  {
   "cell_type": "markdown",
   "metadata": {
    "slideshow": {
     "slide_type": "slide"
    }
   },
   "source": [
    "**Model Evaluation**\n",
    "\n",
    "We don't always evaluate a model based on accuracy.\n",
    "\n",
    "A confusion matrix is a table that allows us evaluate the performance of a classification model. You can also visualize the performance of an algorithm. The fundamental of a confusion matrix is the number of correct and incorrect predictions are summed up class-wise."
   ]
  },
  {
   "cell_type": "code",
   "execution_count": 20,
   "metadata": {
    "slideshow": {
     "slide_type": "slide"
    }
   },
   "outputs": [
    {
     "data": {
      "text/plain": [
       "array([[432,  63],\n",
       "       [ 86, 419]])"
      ]
     },
     "execution_count": 20,
     "metadata": {},
     "output_type": "execute_result"
    }
   ],
   "source": [
    "from sklearn import metrics\n",
    "y_pred=lr.predict(X_test)\n",
    "\n",
    "cnf_matrix = metrics.confusion_matrix(y_test, y_pred)\n",
    "cnf_matrix"
   ]
  },
  {
   "cell_type": "code",
   "execution_count": 21,
   "metadata": {
    "slideshow": {
     "slide_type": "skip"
    }
   },
   "outputs": [],
   "source": [
    "TN, FP, FN, TP = metrics.confusion_matrix(y_test, y_pred).ravel()"
   ]
  },
  {
   "cell_type": "markdown",
   "metadata": {
    "slideshow": {
     "slide_type": "slide"
    }
   },
   "source": [
    "**Accuracy:** Proportion of correct predictions (both true positives and true negatives) among the total number of cases examined."
   ]
  },
  {
   "cell_type": "code",
   "execution_count": 22,
   "metadata": {
    "slideshow": {
     "slide_type": "fragment"
    }
   },
   "outputs": [
    {
     "data": {
      "text/plain": [
       "0.851"
      ]
     },
     "execution_count": 22,
     "metadata": {},
     "output_type": "execute_result"
    }
   ],
   "source": [
    "accuracy = (TP+TN)/(TN+FP+FN+TP)\n",
    "accuracy"
   ]
  },
  {
   "cell_type": "markdown",
   "metadata": {
    "slideshow": {
     "slide_type": "slide"
    }
   },
   "source": [
    "**Precision:** Fraction of predicted positives that are actually positive."
   ]
  },
  {
   "cell_type": "code",
   "execution_count": 23,
   "metadata": {
    "slideshow": {
     "slide_type": "fragment"
    }
   },
   "outputs": [
    {
     "data": {
      "text/plain": [
       "0.8692946058091287"
      ]
     },
     "execution_count": 23,
     "metadata": {},
     "output_type": "execute_result"
    }
   ],
   "source": [
    "precision = TP/(TP+FP) \n",
    "precision"
   ]
  },
  {
   "cell_type": "markdown",
   "metadata": {
    "slideshow": {
     "slide_type": "slide"
    }
   },
   "source": [
    "**Recall:** Fraction of true positives that are predicted positive"
   ]
  },
  {
   "cell_type": "code",
   "execution_count": 24,
   "metadata": {
    "slideshow": {
     "slide_type": "fragment"
    }
   },
   "outputs": [
    {
     "data": {
      "text/plain": [
       "0.8297029702970297"
      ]
     },
     "execution_count": 24,
     "metadata": {},
     "output_type": "execute_result"
    }
   ],
   "source": [
    "recall = TP/(TP+FN)\n",
    "recall"
   ]
  },
  {
   "cell_type": "markdown",
   "metadata": {
    "slideshow": {
     "slide_type": "slide"
    }
   },
   "source": [
    "**ROC Curve**  \n",
    "\n",
    "The Receiver Operating Characteristic curve is a plot of the true positive rate against the false positive rate. It shows the tradeoff between sensitivity and specificity.\n",
    "\n",
    "Area Under the Curve shows us how good a classifier is: 1 represents perfect classifier, and 0.5 represents a worthless classifier.\n",
    "\n",
    "The ROC curve is given by the different confusion matrices we can create with one model if we change the threshold."
   ]
  },
  {
   "cell_type": "code",
   "execution_count": 25,
   "metadata": {
    "slideshow": {
     "slide_type": "skip"
    }
   },
   "outputs": [
    {
     "data": {
      "text/plain": [
       "35872    0\n",
       "25274    0\n",
       "27703    0\n",
       "10405    0\n",
       "29149    0\n",
       "        ..\n",
       "41086    1\n",
       "11891    0\n",
       "9129     0\n",
       "23293    1\n",
       "39921    1\n",
       "Name: label, Length: 1000, dtype: int64"
      ]
     },
     "execution_count": 25,
     "metadata": {},
     "output_type": "execute_result"
    }
   ],
   "source": [
    "y_test = y_test.replace('pos', 1)\n",
    "y_test = y_test.replace('neg', 0)\n",
    "y_test"
   ]
  },
  {
   "cell_type": "code",
   "execution_count": 26,
   "metadata": {
    "slideshow": {
     "slide_type": "slide"
    }
   },
   "outputs": [
    {
     "data": {
      "image/png": "[encoded data removed]",
      "text/plain": [
       "<Figure size 432x288 with 1 Axes>"
      ]
     },
     "metadata": {
      "needs_background": "light"
     },
     "output_type": "display_data"
    }
   ],
   "source": [
    "fpr, tpr, thresholds = roc_curve(y_test, lr.predict_proba(X_test)[:,1])\n",
    "\n",
    "plt.plot(fpr, tpr);\n",
    "plt.plot((0,1),(0,1),'--k');\n",
    "plt.xlabel('false positive rate');\n",
    "plt.ylabel('true positive rate');"
   ]
  },
  {
   "cell_type": "code",
   "execution_count": 27,
   "metadata": {
    "slideshow": {
     "slide_type": "slide"
    }
   },
   "outputs": [
    {
     "data": {
      "text/plain": [
       "0.928980898089809"
      ]
     },
     "execution_count": 27,
     "metadata": {},
     "output_type": "execute_result"
    }
   ],
   "source": [
    "auc = metrics.roc_auc_score(y_test, lr.predict_proba(X_test)[:,1])\n",
    "auc"
   ]
  },
  {
   "cell_type": "markdown",
   "metadata": {
    "slideshow": {
     "slide_type": "slide"
    }
   },
   "source": [
    "### Multi-class, meta-strategies\n"
   ]
  },
  {
   "cell_type": "code",
   "execution_count": 28,
   "metadata": {
    "slideshow": {
     "slide_type": "slide"
    }
   },
   "outputs": [
    {
     "data": {
      "image/png": "[encoded data removed]",
      "text/plain": [
       "<Figure size 432x288 with 1 Axes>"
      ]
     },
     "metadata": {
      "needs_background": "light"
     },
     "output_type": "display_data"
    }
   ],
   "source": [
    "# make up some fake data\n",
    "np.random.seed(0)\n",
    "n = 40\n",
    "X = np.random.randn(n,2)\n",
    "y = np.random.choice((0,1,2),size=n)\n",
    "X[y==0,0] += 2\n",
    "X[y==0,1] += 1.5\n",
    "X[y==2,0] -= 1.5\n",
    "X[y==2,1] += 2\n",
    "\n",
    "plt.scatter(X[:,0], X[:,1], c=y)\n",
    "# plt.legend(loc=\"best\")\n",
    "plt.show()"
   ]
  },
  {
   "cell_type": "code",
   "execution_count": 29,
   "metadata": {
    "slideshow": {
     "slide_type": "slide"
    }
   },
   "outputs": [
    {
     "data": {
      "image/png": "[encoded data removed]",
      "text/plain": [
       "<Figure size 432x288 with 1 Axes>"
      ]
     },
     "metadata": {},
     "output_type": "display_data"
    }
   ],
   "source": [
    "lr = LogisticRegression()\n",
    "lr.fit(X,y)\n",
    "plot_classifier(X,y, lr);"
   ]
  },
  {
   "cell_type": "markdown",
   "metadata": {
    "slideshow": {
     "slide_type": "slide"
    }
   },
   "source": [
    "Above: \n",
    "\n",
    "- Uses \"one-vs-rest\" scheme (also known as one-vs-all)\n",
    "  - turns $k$-class classification into $k$ binary classification problems\n",
    "  - each one gives a probability of that class\n",
    "  - take the max probability across classifiers as the class\n",
    "  - you can do this yourself for any binary classifier using the meta-classifier [`OneVsRestClassifier`](https://scikit-learn.org/stable/modules/generated/sklearn.multiclass.OneVsRestClassifier.html)"
   ]
  },
  {
   "cell_type": "code",
   "execution_count": 30,
   "metadata": {
    "slideshow": {
     "slide_type": "slide"
    }
   },
   "outputs": [
    {
     "data": {
      "image/png": "[encoded data removed]",
      "text/plain": [
       "<Figure size 432x288 with 1 Axes>"
      ]
     },
     "metadata": {},
     "output_type": "display_data"
    }
   ],
   "source": [
    "ovr = OneVsRestClassifier(LogisticRegression())\n",
    "ovr.fit(X,y)\n",
    "plot_classifier(X,y, ovr);"
   ]
  },
  {
   "cell_type": "markdown",
   "metadata": {
    "slideshow": {
     "slide_type": "slide"
    }
   },
   "source": [
    "Here's how one-vs-rest works:"
   ]
  },
  {
   "cell_type": "code",
   "execution_count": 31,
   "metadata": {
    "slideshow": {
     "slide_type": "slide"
    }
   },
   "outputs": [
    {
     "data": {
      "image/png": "[encoded data removed]",
      "text/plain": [
       "<Figure size 720x216 with 6 Axes>"
      ]
     },
     "metadata": {
      "needs_background": "light"
     },
     "output_type": "display_data"
    }
   ],
   "source": [
    "def one_vs_rest_plots(model_class, X, y):\n",
    "    plt.figure(figsize=(10,3))\n",
    "    classes = np.unique(y)\n",
    "    k = len(classes)\n",
    "    for i,c in enumerate(classes):\n",
    "        plt.subplot(1,k,i+1)\n",
    "        \n",
    "        y_binary = y == c\n",
    "        model = model_class()\n",
    "        model.fit(X, y_binary)\n",
    "        plot_classifier(X, y_binary, model, ax=plt.gca(), proba=True, proba_showtitle=False);\n",
    "        plt.title(\"Class %d vs rest\" % c, fontsize=13);\n",
    "        \n",
    "one_vs_rest_plots(LogisticRegression, X, y)"
   ]
  },
  {
   "cell_type": "markdown",
   "metadata": {
    "slideshow": {
     "slide_type": "slide"
    }
   },
   "source": [
    "Above: one-vs-rest predicts by taking the max of the 3 probabilities at any given point."
   ]
  },
  {
   "cell_type": "code",
   "execution_count": 32,
   "metadata": {
    "slideshow": {
     "slide_type": "slide"
    }
   },
   "outputs": [
    {
     "data": {
      "image/png": "[encoded data removed]",
      "text/plain": [
       "<Figure size 432x288 with 2 Axes>"
      ]
     },
     "metadata": {},
     "output_type": "display_data"
    }
   ],
   "source": [
    "plt.figure()\n",
    "plt.subplot(1,2,1)\n",
    "lr = LogisticRegression()\n",
    "lr.fit(X,y)\n",
    "plot_classifier(X, y, lr, ax=plt.gca());\n",
    "plt.title(\"OVR\");\n",
    "plt.subplot(1,2,2)\n",
    "lr = LogisticRegression(multi_class=\"multinomial\", solver=\"lbfgs\")\n",
    "lr.fit(X,y)\n",
    "plot_classifier(X, y, lr, ax=plt.gca());\n",
    "plt.title(\"softmax\");"
   ]
  },
  {
   "cell_type": "markdown",
   "metadata": {
    "slideshow": {
     "slide_type": "slide"
    }
   },
   "source": [
    "Above:\n",
    "\n",
    "- Setting `multi_class=\"multinomial\"` uses something called a \"softmax\" - more on this later too.\n",
    "- An analogous approach exists for SVM - more of that on Thursday - but it's not implemented in scikit-learn.\n",
    "- It's unclear if one of the two versions is strictly superior here, but we'll need the softmax for neural networks."
   ]
  },
  {
   "cell_type": "markdown",
   "metadata": {
    "slideshow": {
     "slide_type": "slide"
    }
   },
   "source": [
    "It's not that likely for you to need `OneVsRestClassifier` or [`OneVsOneClassifier`](https://scikit-learn.org/stable/modules/generated/sklearn.multiclass.OneVsOneClassifier.html) because most of the methods you'll use will have native multi-class support. However, it's good to know in case you ever need to extend a binary classifier (perhaps one you've implemented from a recent publication, or who knows)."
   ]
  },
  {
   "cell_type": "markdown",
   "metadata": {
    "slideshow": {
     "slide_type": "slide"
    }
   },
   "source": [
    "Softmax Function\n",
    "\n",
    "- To use a neural net for classification, we take advantage of the fact that the output doesn't have to be 1-dimensional ($k>1$)\n",
    "- For example, with the digits dataset there are $10$ classes, so we set the size of the last layer to $k=10$ and use a _one-hot encoding_ for the data\n",
    "- We can then use the softmax loss - in other words, we're doing logistic regression using the \"features\" learned by all previous layers"
   ]
  },
  {
   "cell_type": "markdown",
   "metadata": {
    "slideshow": {
     "slide_type": "slide"
    }
   },
   "source": [
    "![softmax](img/softmax.png)"
   ]
  },
  {
   "cell_type": "markdown",
   "metadata": {
    "slideshow": {
     "slide_type": "slide"
    }
   },
   "source": [
    "As you can see, if we only had two classes, the Softmax function simplifies to our previous Sigmoid Function.\n",
    "\n",
    "But, eventually, we will have more classes and we will make use of Softmax function to classify accordingly."
   ]
  },
  {
   "cell_type": "markdown",
   "metadata": {
    "slideshow": {
     "slide_type": "slide"
    }
   },
   "source": [
    "## GLM's\n",
    "\n",
    "Since Logistic Regression has class 1s and 0s it is a binomial distribution and not a Normal Distribution\n",
    "\n",
    "GLM's use a link function to connect the linear model to a model that predicts for non normal distribution. As we saw earlier, our link function was the Sigmoid Function.\n",
    "\n",
    "Generalized Linear Model (GLM) is a generalization of ordinary linear regression that allows for response variables that have error distribution models other than a normal distribution. (Counts of male crabs around a nesting female?)\n",
    "\n",
    "When you fit a GLM, you already have the information needed to produce a probabilistic forecast. This is because, in addition to specifying the relationship between the predictors and the mean, we also specify a distribution of the response (such as Poisson, Bernoulli, or Gaussian).\n",
    "\n",
    "You will do a small exercise today on this. And it will be clearer.\n",
    "\n",
    "Unfortunately, the implementations are better seen in R or using statsmodel library in Python."
   ]
  },
  {
   "cell_type": "markdown",
   "metadata": {
    "slideshow": {
     "slide_type": "slide"
    }
   },
   "source": [
    "### Why people use linear classifiers\n",
    "\n",
    "Logistic regression are used EVERYWHERE!\n",
    "\n",
    "- Fast training and testing.\n",
    "  - Training on huge datasets.\n",
    "  - Testing is just computing $w^Tx_i$.\n",
    "- Weights $w_j$ are easy to understand. INTERPRETABILITY\n",
    "  - It's how much $x_j$ changes the prediction and in what direction.\n",
    "- We can often get a good test error.\n",
    "  - With many features.\n",
    "- Smoother predictions than random forests."
   ]
  },
  {
   "cell_type": "markdown",
   "metadata": {},
   "source": [
    "**In Class Exercise:**\n",
    "\n",
    "Perform a logistic regression on the Titanic Data Set."
   ]
  },
  {
   "cell_type": "code",
   "execution_count": null,
   "metadata": {},
   "outputs": [],
   "source": []
  }
 ],
 "metadata": {
  "celltoolbar": "Slideshow",
  "kernelspec": {
   "display_name": "Python 3",
   "language": "python",
   "name": "python3"
  },
  "language_info": {
   "codemirror_mode": {
    "name": "ipython",
    "version": 3
   },
   "file_extension": ".py",
   "mimetype": "text/x-python",
   "name": "python",
   "nbconvert_exporter": "python",
   "pygments_lexer": "ipython3",
   "version": "3.7.4"
  }
 },
 "nbformat": 4,
 "nbformat_minor": 4
}
