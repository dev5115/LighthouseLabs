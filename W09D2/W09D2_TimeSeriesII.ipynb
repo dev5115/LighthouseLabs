{
 "cells": [
  {
   "cell_type": "markdown",
   "metadata": {
    "slideshow": {
     "slide_type": "slide"
    }
   },
   "source": [
    "## Lighthouse Labs\n",
    "### W09D2 Time Series II\n",
    "\n",
    "Instructor: Socorro Dominguez  \n",
    "November 10, 2020"
   ]
  },
  {
   "cell_type": "markdown",
   "metadata": {
    "slideshow": {
     "slide_type": "slide"
    }
   },
   "source": [
    "**Agenda:**\n",
    "* Introduction to Facebook Prophet\n",
    "\n",
    "* Time Series as a Supervised Learning problem\n",
    "\n",
    "* DL for Time Series"
   ]
  },
  {
   "cell_type": "markdown",
   "metadata": {
    "slideshow": {
     "slide_type": "slide"
    }
   },
   "source": [
    "## Facebook Prophet\n",
    "\n",
    "* FB Prophet is a procedure for forecasting time series data based on an additive model where non-linear trends are fit with yearly, weekly, and daily seasonality, plus holiday effects.\n",
    "\n",
    "* It works best with time series that have strong seasonal effects and several seasons of historical data. Prophet is robust to missing data and shifts in the trend, and typically handles outliers well."
   ]
  },
  {
   "cell_type": "markdown",
   "metadata": {
    "slideshow": {
     "slide_type": "slide"
    }
   },
   "source": [
    "### Why use Facebook Prophet?\n",
    "\n",
    "* It is accurate and fast\n",
    "    * It is used in many applications across Facebook and it produces reliable forecasts for planning and goal setting.\n",
    "    * Forescasts in a few seconds.\n",
    "* Fully automatic\n",
    "    * No manual effort. Robust to outliers, missing data, changes in time series.\n",
    "* Tunable forecasts\n",
    "    * Users can tweak and adjust forecasts. Add your domain knowledge!\n",
    "* R or Python"
   ]
  },
  {
   "cell_type": "markdown",
   "metadata": {
    "slideshow": {
     "slide_type": "slide"
    }
   },
   "source": [
    "### What does Facebook Prophet do?\n",
    "\n",
    "* Prophet uses a decomposable Time Series Model with three main components: trend, seasonality, and holidays.\n",
    "\n",
    "$y(t) = g(t) + s(t) + h(t) + e(t)$\n",
    "\n",
    "$g(t)$ ; trend models non-periodic changes; linear or logistic\n",
    "\n",
    "$s(t)$ ; seasonality represents periodic changes; i.e. weekly, monthly, yearly\n",
    "\n",
    "$h(t)$ ; ties in effects of holidays; on potentially irregular schedules ≥ 1 day(s)\n",
    "\n",
    "$e(t)$ ;  error or changes that are not accommodated by the model.\n",
    "\n",
    "Prophet fits several linear and non-linear functions of time as components. Prophet’s default settings produce forecasts that are often accurate, with much less effort. If the forecast is not satisfactory — an analyst with no training in time series methods can improve or tweak forecasts using easily-interpretable parameters."
   ]
  },
  {
   "cell_type": "markdown",
   "metadata": {
    "slideshow": {
     "slide_type": "slide"
    }
   },
   "source": [
    "*Bonus Slide*  \n",
    "The trend is of particular interest as. it is given by:  \n",
    " \n",
    "   \n",
    "<div align=\"center\">\n",
    "$g(t) = \\frac{C}{1+e^{-k(t-m)}}$\n",
    "    \n",
    "    "
   ]
  },
  {
   "cell_type": "markdown",
   "metadata": {
    "slideshow": {
     "slide_type": "fragment"
    }
   },
   "source": [
    "where \n",
    "* $C$ is the curve's maximum value\n",
    "* $k$ is the growth rate (steepness)\n",
    "* $m$ is offset parameter"
   ]
  },
  {
   "cell_type": "markdown",
   "metadata": {
    "slideshow": {
     "slide_type": "slide"
    }
   },
   "source": [
    "![img](01_prophet.png)"
   ]
  },
  {
   "cell_type": "markdown",
   "metadata": {
    "slideshow": {
     "slide_type": "slide"
    }
   },
   "source": [
    "### Demo with Prophet"
   ]
  },
  {
   "cell_type": "markdown",
   "metadata": {
    "slideshow": {
     "slide_type": "fragment"
    }
   },
   "source": [
    "We are gonig to use the Data Repository by the Center for Systems Science and Engineering (CSSE) at Johns Hopkins University to see some Covid-19 predictions."
   ]
  },
  {
   "cell_type": "markdown",
   "metadata": {
    "slideshow": {
     "slide_type": "slide"
    }
   },
   "source": [
    "What changes in time do you think could affect predictions?"
   ]
  },
  {
   "cell_type": "markdown",
   "metadata": {
    "slideshow": {
     "slide_type": "fragment"
    }
   },
   "source": [
    "- What about a vaccine? \n",
    "- Remember that we do not even have a year of data."
   ]
  },
  {
   "cell_type": "code",
   "execution_count": 1,
   "metadata": {
    "slideshow": {
     "slide_type": "slide"
    }
   },
   "outputs": [],
   "source": [
    "# Load packages\n",
    "import pandas as pd\n",
    "import numpy as np\n",
    "\n",
    "import matplotlib.pyplot as plt\n",
    "import requests, json, os, warnings, re\n",
    "\n",
    "# ignore warnings\n",
    "import warnings\n",
    "warnings.simplefilter(\"ignore\", UserWarning)"
   ]
  },
  {
   "cell_type": "code",
   "execution_count": 2,
   "metadata": {
    "slideshow": {
     "slide_type": "slide"
    }
   },
   "outputs": [],
   "source": [
    "confirmed_cases_url = \"https://raw.githubusercontent.com/CSSEGISandData/COVID-19/master/csse_covid_19_data/csse_covid_19_time_series/time_series_covid19_confirmed_global.csv\"\n",
    "recovered_cases_url =\"https://raw.githubusercontent.com/CSSEGISandData/COVID-19/master/csse_covid_19_data/csse_covid_19_time_series/time_series_covid19_recovered_global.csv\"\n",
    "death_cases_url =\"https://raw.githubusercontent.com/CSSEGISandData/COVID-19/master/csse_covid_19_data/csse_covid_19_time_series/time_series_covid19_deaths_global.csv\""
   ]
  },
  {
   "cell_type": "code",
   "execution_count": 3,
   "metadata": {
    "slideshow": {
     "slide_type": "skip"
    }
   },
   "outputs": [],
   "source": [
    "def get_n_melt_data(data_url,case_type):\n",
    "    df = pd.read_csv(data_url)\n",
    "    melted_df = df.melt(id_vars=['Province/State', 'Country/Region', 'Lat', 'Long'])\n",
    "    melted_df.rename(columns={\"variable\":\"Date\",\"value\":case_type},inplace=True)\n",
    "    return melted_df\n",
    "\n",
    "def merge_data(confirm_df,recovered_df,deaths_df):\n",
    "    new_df = confirm_df.join(recovered_df['Recovered']).join(deaths_df['Deaths'])\n",
    "    return new_df"
   ]
  },
  {
   "cell_type": "code",
   "execution_count": 4,
   "metadata": {
    "slideshow": {
     "slide_type": "skip"
    }
   },
   "outputs": [],
   "source": [
    "confirm_df = get_n_melt_data(confirmed_cases_url,\"Confirmed\")\n",
    "recovered_df = get_n_melt_data(recovered_cases_url,\"Recovered\")\n",
    "deaths_df = get_n_melt_data(death_cases_url,\"Deaths\")"
   ]
  },
  {
   "cell_type": "code",
   "execution_count": 5,
   "metadata": {
    "slideshow": {
     "slide_type": "slide"
    }
   },
   "outputs": [
    {
     "data": {
      "text/html": [
       "<div>\n",
       "<style scoped>\n",
       "    .dataframe tbody tr th:only-of-type {\n",
       "        vertical-align: middle;\n",
       "    }\n",
       "\n",
       "    .dataframe tbody tr th {\n",
       "        vertical-align: top;\n",
       "    }\n",
       "\n",
       "    .dataframe thead th {\n",
       "        text-align: right;\n",
       "    }\n",
       "</style>\n",
       "<table border=\"1\" class=\"dataframe\">\n",
       "  <thead>\n",
       "    <tr style=\"text-align: right;\">\n",
       "      <th></th>\n",
       "      <th>Province/State</th>\n",
       "      <th>Country/Region</th>\n",
       "      <th>Lat</th>\n",
       "      <th>Long</th>\n",
       "      <th>Date</th>\n",
       "      <th>Confirmed</th>\n",
       "    </tr>\n",
       "  </thead>\n",
       "  <tbody>\n",
       "    <tr>\n",
       "      <th>0</th>\n",
       "      <td>NaN</td>\n",
       "      <td>Afghanistan</td>\n",
       "      <td>33.93911</td>\n",
       "      <td>67.709953</td>\n",
       "      <td>1/22/20</td>\n",
       "      <td>0</td>\n",
       "    </tr>\n",
       "    <tr>\n",
       "      <th>1</th>\n",
       "      <td>NaN</td>\n",
       "      <td>Albania</td>\n",
       "      <td>41.15330</td>\n",
       "      <td>20.168300</td>\n",
       "      <td>1/22/20</td>\n",
       "      <td>0</td>\n",
       "    </tr>\n",
       "  </tbody>\n",
       "</table>\n",
       "</div>"
      ],
      "text/plain": [
       "  Province/State Country/Region       Lat       Long     Date  Confirmed\n",
       "0            NaN    Afghanistan  33.93911  67.709953  1/22/20          0\n",
       "1            NaN        Albania  41.15330  20.168300  1/22/20          0"
      ]
     },
     "execution_count": 5,
     "metadata": {},
     "output_type": "execute_result"
    }
   ],
   "source": [
    "confirm_df.head(2)"
   ]
  },
  {
   "cell_type": "code",
   "execution_count": 6,
   "metadata": {
    "slideshow": {
     "slide_type": "slide"
    }
   },
   "outputs": [
    {
     "data": {
      "text/html": [
       "<div>\n",
       "<style scoped>\n",
       "    .dataframe tbody tr th:only-of-type {\n",
       "        vertical-align: middle;\n",
       "    }\n",
       "\n",
       "    .dataframe tbody tr th {\n",
       "        vertical-align: top;\n",
       "    }\n",
       "\n",
       "    .dataframe thead th {\n",
       "        text-align: right;\n",
       "    }\n",
       "</style>\n",
       "<table border=\"1\" class=\"dataframe\">\n",
       "  <thead>\n",
       "    <tr style=\"text-align: right;\">\n",
       "      <th></th>\n",
       "      <th>Province/State</th>\n",
       "      <th>Country/Region</th>\n",
       "      <th>Lat</th>\n",
       "      <th>Long</th>\n",
       "      <th>Date</th>\n",
       "      <th>Recovered</th>\n",
       "    </tr>\n",
       "  </thead>\n",
       "  <tbody>\n",
       "    <tr>\n",
       "      <th>0</th>\n",
       "      <td>NaN</td>\n",
       "      <td>Afghanistan</td>\n",
       "      <td>33.93911</td>\n",
       "      <td>67.709953</td>\n",
       "      <td>1/22/20</td>\n",
       "      <td>0</td>\n",
       "    </tr>\n",
       "    <tr>\n",
       "      <th>1</th>\n",
       "      <td>NaN</td>\n",
       "      <td>Albania</td>\n",
       "      <td>41.15330</td>\n",
       "      <td>20.168300</td>\n",
       "      <td>1/22/20</td>\n",
       "      <td>0</td>\n",
       "    </tr>\n",
       "  </tbody>\n",
       "</table>\n",
       "</div>"
      ],
      "text/plain": [
       "  Province/State Country/Region       Lat       Long     Date  Recovered\n",
       "0            NaN    Afghanistan  33.93911  67.709953  1/22/20          0\n",
       "1            NaN        Albania  41.15330  20.168300  1/22/20          0"
      ]
     },
     "execution_count": 6,
     "metadata": {},
     "output_type": "execute_result"
    }
   ],
   "source": [
    "recovered_df.head(2)"
   ]
  },
  {
   "cell_type": "code",
   "execution_count": 7,
   "metadata": {
    "slideshow": {
     "slide_type": "slide"
    }
   },
   "outputs": [
    {
     "data": {
      "text/html": [
       "<div>\n",
       "<style scoped>\n",
       "    .dataframe tbody tr th:only-of-type {\n",
       "        vertical-align: middle;\n",
       "    }\n",
       "\n",
       "    .dataframe tbody tr th {\n",
       "        vertical-align: top;\n",
       "    }\n",
       "\n",
       "    .dataframe thead th {\n",
       "        text-align: right;\n",
       "    }\n",
       "</style>\n",
       "<table border=\"1\" class=\"dataframe\">\n",
       "  <thead>\n",
       "    <tr style=\"text-align: right;\">\n",
       "      <th></th>\n",
       "      <th>Province/State</th>\n",
       "      <th>Country/Region</th>\n",
       "      <th>Lat</th>\n",
       "      <th>Long</th>\n",
       "      <th>Date</th>\n",
       "      <th>Deaths</th>\n",
       "    </tr>\n",
       "  </thead>\n",
       "  <tbody>\n",
       "    <tr>\n",
       "      <th>0</th>\n",
       "      <td>NaN</td>\n",
       "      <td>Afghanistan</td>\n",
       "      <td>33.93911</td>\n",
       "      <td>67.709953</td>\n",
       "      <td>1/22/20</td>\n",
       "      <td>0</td>\n",
       "    </tr>\n",
       "    <tr>\n",
       "      <th>1</th>\n",
       "      <td>NaN</td>\n",
       "      <td>Albania</td>\n",
       "      <td>41.15330</td>\n",
       "      <td>20.168300</td>\n",
       "      <td>1/22/20</td>\n",
       "      <td>0</td>\n",
       "    </tr>\n",
       "  </tbody>\n",
       "</table>\n",
       "</div>"
      ],
      "text/plain": [
       "  Province/State Country/Region       Lat       Long     Date  Deaths\n",
       "0            NaN    Afghanistan  33.93911  67.709953  1/22/20       0\n",
       "1            NaN        Albania  41.15330  20.168300  1/22/20       0"
      ]
     },
     "execution_count": 7,
     "metadata": {},
     "output_type": "execute_result"
    }
   ],
   "source": [
    "deaths_df.head(2)"
   ]
  },
  {
   "cell_type": "code",
   "execution_count": 8,
   "metadata": {
    "slideshow": {
     "slide_type": "slide"
    }
   },
   "outputs": [
    {
     "data": {
      "text/html": [
       "<div>\n",
       "<style scoped>\n",
       "    .dataframe tbody tr th:only-of-type {\n",
       "        vertical-align: middle;\n",
       "    }\n",
       "\n",
       "    .dataframe tbody tr th {\n",
       "        vertical-align: top;\n",
       "    }\n",
       "\n",
       "    .dataframe thead th {\n",
       "        text-align: right;\n",
       "    }\n",
       "</style>\n",
       "<table border=\"1\" class=\"dataframe\">\n",
       "  <thead>\n",
       "    <tr style=\"text-align: right;\">\n",
       "      <th></th>\n",
       "      <th>Province/State</th>\n",
       "      <th>Country/Region</th>\n",
       "      <th>Lat</th>\n",
       "      <th>Long</th>\n",
       "      <th>Date</th>\n",
       "      <th>Confirmed</th>\n",
       "      <th>Recovered</th>\n",
       "      <th>Deaths</th>\n",
       "    </tr>\n",
       "  </thead>\n",
       "  <tbody>\n",
       "    <tr>\n",
       "      <th>0</th>\n",
       "      <td>NaN</td>\n",
       "      <td>Afghanistan</td>\n",
       "      <td>33.939110</td>\n",
       "      <td>67.709953</td>\n",
       "      <td>1/22/20</td>\n",
       "      <td>0</td>\n",
       "      <td>0.0</td>\n",
       "      <td>0</td>\n",
       "    </tr>\n",
       "    <tr>\n",
       "      <th>1</th>\n",
       "      <td>NaN</td>\n",
       "      <td>Albania</td>\n",
       "      <td>41.153300</td>\n",
       "      <td>20.168300</td>\n",
       "      <td>1/22/20</td>\n",
       "      <td>0</td>\n",
       "      <td>0.0</td>\n",
       "      <td>0</td>\n",
       "    </tr>\n",
       "    <tr>\n",
       "      <th>2</th>\n",
       "      <td>NaN</td>\n",
       "      <td>Algeria</td>\n",
       "      <td>28.033900</td>\n",
       "      <td>1.659600</td>\n",
       "      <td>1/22/20</td>\n",
       "      <td>0</td>\n",
       "      <td>0.0</td>\n",
       "      <td>0</td>\n",
       "    </tr>\n",
       "    <tr>\n",
       "      <th>3</th>\n",
       "      <td>NaN</td>\n",
       "      <td>Andorra</td>\n",
       "      <td>42.506300</td>\n",
       "      <td>1.521800</td>\n",
       "      <td>1/22/20</td>\n",
       "      <td>0</td>\n",
       "      <td>0.0</td>\n",
       "      <td>0</td>\n",
       "    </tr>\n",
       "    <tr>\n",
       "      <th>4</th>\n",
       "      <td>NaN</td>\n",
       "      <td>Angola</td>\n",
       "      <td>-11.202700</td>\n",
       "      <td>17.873900</td>\n",
       "      <td>1/22/20</td>\n",
       "      <td>0</td>\n",
       "      <td>0.0</td>\n",
       "      <td>0</td>\n",
       "    </tr>\n",
       "    <tr>\n",
       "      <th>...</th>\n",
       "      <td>...</td>\n",
       "      <td>...</td>\n",
       "      <td>...</td>\n",
       "      <td>...</td>\n",
       "      <td>...</td>\n",
       "      <td>...</td>\n",
       "      <td>...</td>\n",
       "      <td>...</td>\n",
       "    </tr>\n",
       "    <tr>\n",
       "      <th>78519</th>\n",
       "      <td>NaN</td>\n",
       "      <td>West Bank and Gaza</td>\n",
       "      <td>31.952200</td>\n",
       "      <td>35.233200</td>\n",
       "      <td>11/9/20</td>\n",
       "      <td>58838</td>\n",
       "      <td>NaN</td>\n",
       "      <td>521</td>\n",
       "    </tr>\n",
       "    <tr>\n",
       "      <th>78520</th>\n",
       "      <td>NaN</td>\n",
       "      <td>Western Sahara</td>\n",
       "      <td>24.215500</td>\n",
       "      <td>-12.885800</td>\n",
       "      <td>11/9/20</td>\n",
       "      <td>10</td>\n",
       "      <td>NaN</td>\n",
       "      <td>1</td>\n",
       "    </tr>\n",
       "    <tr>\n",
       "      <th>78521</th>\n",
       "      <td>NaN</td>\n",
       "      <td>Yemen</td>\n",
       "      <td>15.552727</td>\n",
       "      <td>48.516388</td>\n",
       "      <td>11/9/20</td>\n",
       "      <td>2071</td>\n",
       "      <td>NaN</td>\n",
       "      <td>605</td>\n",
       "    </tr>\n",
       "    <tr>\n",
       "      <th>78522</th>\n",
       "      <td>NaN</td>\n",
       "      <td>Zambia</td>\n",
       "      <td>-13.133897</td>\n",
       "      <td>27.849332</td>\n",
       "      <td>11/9/20</td>\n",
       "      <td>16971</td>\n",
       "      <td>NaN</td>\n",
       "      <td>349</td>\n",
       "    </tr>\n",
       "    <tr>\n",
       "      <th>78523</th>\n",
       "      <td>NaN</td>\n",
       "      <td>Zimbabwe</td>\n",
       "      <td>-19.015438</td>\n",
       "      <td>29.154857</td>\n",
       "      <td>11/9/20</td>\n",
       "      <td>8561</td>\n",
       "      <td>NaN</td>\n",
       "      <td>254</td>\n",
       "    </tr>\n",
       "  </tbody>\n",
       "</table>\n",
       "<p>78524 rows × 8 columns</p>\n",
       "</div>"
      ],
      "text/plain": [
       "      Province/State      Country/Region        Lat       Long     Date  \\\n",
       "0                NaN         Afghanistan  33.939110  67.709953  1/22/20   \n",
       "1                NaN             Albania  41.153300  20.168300  1/22/20   \n",
       "2                NaN             Algeria  28.033900   1.659600  1/22/20   \n",
       "3                NaN             Andorra  42.506300   1.521800  1/22/20   \n",
       "4                NaN              Angola -11.202700  17.873900  1/22/20   \n",
       "...              ...                 ...        ...        ...      ...   \n",
       "78519            NaN  West Bank and Gaza  31.952200  35.233200  11/9/20   \n",
       "78520            NaN      Western Sahara  24.215500 -12.885800  11/9/20   \n",
       "78521            NaN               Yemen  15.552727  48.516388  11/9/20   \n",
       "78522            NaN              Zambia -13.133897  27.849332  11/9/20   \n",
       "78523            NaN            Zimbabwe -19.015438  29.154857  11/9/20   \n",
       "\n",
       "       Confirmed  Recovered  Deaths  \n",
       "0              0        0.0       0  \n",
       "1              0        0.0       0  \n",
       "2              0        0.0       0  \n",
       "3              0        0.0       0  \n",
       "4              0        0.0       0  \n",
       "...          ...        ...     ...  \n",
       "78519      58838        NaN     521  \n",
       "78520         10        NaN       1  \n",
       "78521       2071        NaN     605  \n",
       "78522      16971        NaN     349  \n",
       "78523       8561        NaN     254  \n",
       "\n",
       "[78524 rows x 8 columns]"
      ]
     },
     "execution_count": 8,
     "metadata": {},
     "output_type": "execute_result"
    }
   ],
   "source": [
    "df = merge_data(confirm_df,recovered_df,deaths_df)\n",
    "df"
   ]
  },
  {
   "cell_type": "markdown",
   "metadata": {
    "slideshow": {
     "slide_type": "slide"
    }
   },
   "source": [
    "After that we will group our data by dates and then **rename** the dates as **ds** and the confirmed cases/recovered cases as **y**. This is the accepted format for feeding data into fbprophet. Hence we have to rename them as such.\n",
    "\n"
   ]
  },
  {
   "cell_type": "code",
   "execution_count": 9,
   "metadata": {
    "slideshow": {
     "slide_type": "slide"
    }
   },
   "outputs": [],
   "source": [
    "global_cases = df.groupby(\"Date\", as_index=False)[['Confirmed','Recovered', 'Deaths']].sum()"
   ]
  },
  {
   "cell_type": "code",
   "execution_count": 10,
   "metadata": {
    "slideshow": {
     "slide_type": "slide"
    }
   },
   "outputs": [
    {
     "data": {
      "text/html": [
       "<div>\n",
       "<style scoped>\n",
       "    .dataframe tbody tr th:only-of-type {\n",
       "        vertical-align: middle;\n",
       "    }\n",
       "\n",
       "    .dataframe tbody tr th {\n",
       "        vertical-align: top;\n",
       "    }\n",
       "\n",
       "    .dataframe thead th {\n",
       "        text-align: right;\n",
       "    }\n",
       "</style>\n",
       "<table border=\"1\" class=\"dataframe\">\n",
       "  <thead>\n",
       "    <tr style=\"text-align: right;\">\n",
       "      <th></th>\n",
       "      <th>Date</th>\n",
       "      <th>Confirmed</th>\n",
       "      <th>Recovered</th>\n",
       "      <th>Deaths</th>\n",
       "    </tr>\n",
       "  </thead>\n",
       "  <tbody>\n",
       "    <tr>\n",
       "      <th>0</th>\n",
       "      <td>1/22/20</td>\n",
       "      <td>555</td>\n",
       "      <td>28.0</td>\n",
       "      <td>17</td>\n",
       "    </tr>\n",
       "    <tr>\n",
       "      <th>1</th>\n",
       "      <td>1/23/20</td>\n",
       "      <td>654</td>\n",
       "      <td>30.0</td>\n",
       "      <td>18</td>\n",
       "    </tr>\n",
       "    <tr>\n",
       "      <th>2</th>\n",
       "      <td>1/24/20</td>\n",
       "      <td>941</td>\n",
       "      <td>36.0</td>\n",
       "      <td>26</td>\n",
       "    </tr>\n",
       "    <tr>\n",
       "      <th>3</th>\n",
       "      <td>1/25/20</td>\n",
       "      <td>1434</td>\n",
       "      <td>43.0</td>\n",
       "      <td>42</td>\n",
       "    </tr>\n",
       "    <tr>\n",
       "      <th>4</th>\n",
       "      <td>1/26/20</td>\n",
       "      <td>2118</td>\n",
       "      <td>102.0</td>\n",
       "      <td>56</td>\n",
       "    </tr>\n",
       "    <tr>\n",
       "      <th>...</th>\n",
       "      <td>...</td>\n",
       "      <td>...</td>\n",
       "      <td>...</td>\n",
       "      <td>...</td>\n",
       "    </tr>\n",
       "    <tr>\n",
       "      <th>288</th>\n",
       "      <td>9/5/20</td>\n",
       "      <td>26870493</td>\n",
       "      <td>20542997.0</td>\n",
       "      <td>879659</td>\n",
       "    </tr>\n",
       "    <tr>\n",
       "      <th>289</th>\n",
       "      <td>9/6/20</td>\n",
       "      <td>27092621</td>\n",
       "      <td>21423315.0</td>\n",
       "      <td>883428</td>\n",
       "    </tr>\n",
       "    <tr>\n",
       "      <th>290</th>\n",
       "      <td>9/7/20</td>\n",
       "      <td>27326009</td>\n",
       "      <td>21119492.0</td>\n",
       "      <td>892740</td>\n",
       "    </tr>\n",
       "    <tr>\n",
       "      <th>291</th>\n",
       "      <td>9/8/20</td>\n",
       "      <td>27567385</td>\n",
       "      <td>23748348.0</td>\n",
       "      <td>897679</td>\n",
       "    </tr>\n",
       "    <tr>\n",
       "      <th>292</th>\n",
       "      <td>9/9/20</td>\n",
       "      <td>27851771</td>\n",
       "      <td>21864848.0</td>\n",
       "      <td>903766</td>\n",
       "    </tr>\n",
       "  </tbody>\n",
       "</table>\n",
       "<p>293 rows × 4 columns</p>\n",
       "</div>"
      ],
      "text/plain": [
       "        Date  Confirmed   Recovered  Deaths\n",
       "0    1/22/20        555        28.0      17\n",
       "1    1/23/20        654        30.0      18\n",
       "2    1/24/20        941        36.0      26\n",
       "3    1/25/20       1434        43.0      42\n",
       "4    1/26/20       2118       102.0      56\n",
       "..       ...        ...         ...     ...\n",
       "288   9/5/20   26870493  20542997.0  879659\n",
       "289   9/6/20   27092621  21423315.0  883428\n",
       "290   9/7/20   27326009  21119492.0  892740\n",
       "291   9/8/20   27567385  23748348.0  897679\n",
       "292   9/9/20   27851771  21864848.0  903766\n",
       "\n",
       "[293 rows x 4 columns]"
      ]
     },
     "execution_count": 10,
     "metadata": {},
     "output_type": "execute_result"
    }
   ],
   "source": [
    "global_cases"
   ]
  },
  {
   "cell_type": "code",
   "execution_count": 11,
   "metadata": {
    "slideshow": {
     "slide_type": "slide"
    }
   },
   "outputs": [
    {
     "data": {
      "text/html": [
       "<div>\n",
       "<style scoped>\n",
       "    .dataframe tbody tr th:only-of-type {\n",
       "        vertical-align: middle;\n",
       "    }\n",
       "\n",
       "    .dataframe tbody tr th {\n",
       "        vertical-align: top;\n",
       "    }\n",
       "\n",
       "    .dataframe thead th {\n",
       "        text-align: right;\n",
       "    }\n",
       "</style>\n",
       "<table border=\"1\" class=\"dataframe\">\n",
       "  <thead>\n",
       "    <tr style=\"text-align: right;\">\n",
       "      <th></th>\n",
       "      <th>Confirmed</th>\n",
       "      <th>Recovered</th>\n",
       "      <th>Deaths</th>\n",
       "    </tr>\n",
       "  </thead>\n",
       "  <tbody>\n",
       "    <tr>\n",
       "      <th>count</th>\n",
       "      <td>2.930000e+02</td>\n",
       "      <td>2.930000e+02</td>\n",
       "      <td>2.930000e+02</td>\n",
       "    </tr>\n",
       "    <tr>\n",
       "      <th>mean</th>\n",
       "      <td>1.408065e+07</td>\n",
       "      <td>8.868937e+06</td>\n",
       "      <td>4.890822e+05</td>\n",
       "    </tr>\n",
       "    <tr>\n",
       "      <th>std</th>\n",
       "      <td>1.465115e+07</td>\n",
       "      <td>1.063328e+07</td>\n",
       "      <td>4.007438e+05</td>\n",
       "    </tr>\n",
       "    <tr>\n",
       "      <th>min</th>\n",
       "      <td>5.550000e+02</td>\n",
       "      <td>0.000000e+00</td>\n",
       "      <td>1.700000e+01</td>\n",
       "    </tr>\n",
       "    <tr>\n",
       "      <th>25%</th>\n",
       "      <td>1.197316e+06</td>\n",
       "      <td>1.088060e+05</td>\n",
       "      <td>6.835500e+04</td>\n",
       "    </tr>\n",
       "    <tr>\n",
       "      <th>50%</th>\n",
       "      <td>8.179373e+06</td>\n",
       "      <td>3.559677e+06</td>\n",
       "      <td>4.443120e+05</td>\n",
       "    </tr>\n",
       "    <tr>\n",
       "      <th>75%</th>\n",
       "      <td>2.471735e+07</td>\n",
       "      <td>1.611067e+07</td>\n",
       "      <td>8.370910e+05</td>\n",
       "    </tr>\n",
       "    <tr>\n",
       "      <th>max</th>\n",
       "      <td>5.091398e+07</td>\n",
       "      <td>3.894799e+07</td>\n",
       "      <td>1.263094e+06</td>\n",
       "    </tr>\n",
       "  </tbody>\n",
       "</table>\n",
       "</div>"
      ],
      "text/plain": [
       "          Confirmed     Recovered        Deaths\n",
       "count  2.930000e+02  2.930000e+02  2.930000e+02\n",
       "mean   1.408065e+07  8.868937e+06  4.890822e+05\n",
       "std    1.465115e+07  1.063328e+07  4.007438e+05\n",
       "min    5.550000e+02  0.000000e+00  1.700000e+01\n",
       "25%    1.197316e+06  1.088060e+05  6.835500e+04\n",
       "50%    8.179373e+06  3.559677e+06  4.443120e+05\n",
       "75%    2.471735e+07  1.611067e+07  8.370910e+05\n",
       "max    5.091398e+07  3.894799e+07  1.263094e+06"
      ]
     },
     "execution_count": 11,
     "metadata": {},
     "output_type": "execute_result"
    }
   ],
   "source": [
    "global_cases.describe()"
   ]
  },
  {
   "cell_type": "code",
   "execution_count": 12,
   "metadata": {
    "scrolled": true,
    "slideshow": {
     "slide_type": "slide"
    }
   },
   "outputs": [
    {
     "data": {
      "text/plain": [
       "<matplotlib.axes._subplots.AxesSubplot at 0x7fb047783f10>"
      ]
     },
     "execution_count": 12,
     "metadata": {},
     "output_type": "execute_result"
    },
    {
     "data": {
      "image/png": "[encoded data removed]",
      "text/plain": [
       "<Figure size 1800x720 with 1 Axes>"
      ]
     },
     "metadata": {
      "needs_background": "light"
     },
     "output_type": "display_data"
    }
   ],
   "source": [
    "global_cases.plot(kind='line', figsize = (25,10))"
   ]
  },
  {
   "cell_type": "code",
   "execution_count": 13,
   "metadata": {
    "slideshow": {
     "slide_type": "slide"
    }
   },
   "outputs": [],
   "source": [
    "confirmed_cases = global_cases[[\"Date\",\"Confirmed\"]]\n",
    "recovered_cases = global_cases[[\"Date\",\"Recovered\"]]\n"
   ]
  },
  {
   "cell_type": "code",
   "execution_count": 14,
   "metadata": {
    "slideshow": {
     "slide_type": "slide"
    }
   },
   "outputs": [
    {
     "name": "stderr",
     "output_type": "stream",
     "text": [
      "/Users/seiryu8808/opt/anaconda3/lib/python3.7/site-packages/pandas/core/frame.py:4304: SettingWithCopyWarning: \n",
      "A value is trying to be set on a copy of a slice from a DataFrame\n",
      "\n",
      "See the caveats in the documentation: https://pandas.pydata.org/pandas-docs/stable/user_guide/indexing.html#returning-a-view-versus-a-copy\n",
      "  errors=errors,\n"
     ]
    }
   ],
   "source": [
    "confirmed_cases.rename(columns={\"Date\":\"ds\",\"Confirmed\":\"y\"},inplace=True)"
   ]
  },
  {
   "cell_type": "code",
   "execution_count": 15,
   "metadata": {
    "slideshow": {
     "slide_type": "slide"
    }
   },
   "outputs": [
    {
     "data": {
      "text/plain": [
       "(293, 2)"
      ]
     },
     "execution_count": 15,
     "metadata": {},
     "output_type": "execute_result"
    }
   ],
   "source": [
    "confirmed_cases.shape"
   ]
  },
  {
   "cell_type": "code",
   "execution_count": 16,
   "metadata": {
    "slideshow": {
     "slide_type": "slide"
    }
   },
   "outputs": [],
   "source": [
    "train = confirmed_cases[:281]\n",
    "test = confirmed_cases[281:]"
   ]
  },
  {
   "cell_type": "code",
   "execution_count": 17,
   "metadata": {
    "slideshow": {
     "slide_type": "skip"
    }
   },
   "outputs": [
    {
     "data": {
      "text/html": [
       "<div>\n",
       "<style scoped>\n",
       "    .dataframe tbody tr th:only-of-type {\n",
       "        vertical-align: middle;\n",
       "    }\n",
       "\n",
       "    .dataframe tbody tr th {\n",
       "        vertical-align: top;\n",
       "    }\n",
       "\n",
       "    .dataframe thead th {\n",
       "        text-align: right;\n",
       "    }\n",
       "</style>\n",
       "<table border=\"1\" class=\"dataframe\">\n",
       "  <thead>\n",
       "    <tr style=\"text-align: right;\">\n",
       "      <th></th>\n",
       "      <th>ds</th>\n",
       "      <th>y</th>\n",
       "    </tr>\n",
       "  </thead>\n",
       "  <tbody>\n",
       "    <tr>\n",
       "      <th>282</th>\n",
       "      <td>9/27/20</td>\n",
       "      <td>33065023</td>\n",
       "    </tr>\n",
       "    <tr>\n",
       "      <th>283</th>\n",
       "      <td>9/28/20</td>\n",
       "      <td>33340906</td>\n",
       "    </tr>\n",
       "    <tr>\n",
       "      <th>284</th>\n",
       "      <td>9/29/20</td>\n",
       "      <td>33624955</td>\n",
       "    </tr>\n",
       "    <tr>\n",
       "      <th>285</th>\n",
       "      <td>9/3/20</td>\n",
       "      <td>26294433</td>\n",
       "    </tr>\n",
       "    <tr>\n",
       "      <th>286</th>\n",
       "      <td>9/30/20</td>\n",
       "      <td>33951475</td>\n",
       "    </tr>\n",
       "    <tr>\n",
       "      <th>287</th>\n",
       "      <td>9/4/20</td>\n",
       "      <td>26607267</td>\n",
       "    </tr>\n",
       "    <tr>\n",
       "      <th>288</th>\n",
       "      <td>9/5/20</td>\n",
       "      <td>26870493</td>\n",
       "    </tr>\n",
       "    <tr>\n",
       "      <th>289</th>\n",
       "      <td>9/6/20</td>\n",
       "      <td>27092621</td>\n",
       "    </tr>\n",
       "    <tr>\n",
       "      <th>290</th>\n",
       "      <td>9/7/20</td>\n",
       "      <td>27326009</td>\n",
       "    </tr>\n",
       "    <tr>\n",
       "      <th>291</th>\n",
       "      <td>9/8/20</td>\n",
       "      <td>27567385</td>\n",
       "    </tr>\n",
       "    <tr>\n",
       "      <th>292</th>\n",
       "      <td>9/9/20</td>\n",
       "      <td>27851771</td>\n",
       "    </tr>\n",
       "  </tbody>\n",
       "</table>\n",
       "</div>"
      ],
      "text/plain": [
       "          ds         y\n",
       "282  9/27/20  33065023\n",
       "283  9/28/20  33340906\n",
       "284  9/29/20  33624955\n",
       "285   9/3/20  26294433\n",
       "286  9/30/20  33951475\n",
       "287   9/4/20  26607267\n",
       "288   9/5/20  26870493\n",
       "289   9/6/20  27092621\n",
       "290   9/7/20  27326009\n",
       "291   9/8/20  27567385\n",
       "292   9/9/20  27851771"
      ]
     },
     "execution_count": 17,
     "metadata": {},
     "output_type": "execute_result"
    }
   ],
   "source": [
    "test"
   ]
  },
  {
   "cell_type": "code",
   "execution_count": 18,
   "metadata": {
    "slideshow": {
     "slide_type": "slide"
    }
   },
   "outputs": [],
   "source": [
    "# Model Initialize\n",
    "import fbprophet\n",
    "from fbprophet import Prophet"
   ]
  },
  {
   "cell_type": "code",
   "execution_count": 19,
   "metadata": {
    "slideshow": {
     "slide_type": "slide"
    }
   },
   "outputs": [
    {
     "data": {
      "text/plain": [
       "['__class__',\n",
       " '__delattr__',\n",
       " '__dict__',\n",
       " '__dir__',\n",
       " '__doc__',\n",
       " '__eq__',\n",
       " '__format__',\n",
       " '__ge__',\n",
       " '__getattribute__',\n",
       " '__gt__',\n",
       " '__hash__',\n",
       " '__init__',\n",
       " '__init_subclass__',\n",
       " '__le__',\n",
       " '__lt__',\n",
       " '__module__',\n",
       " '__ne__',\n",
       " '__new__',\n",
       " '__reduce__',\n",
       " '__reduce_ex__',\n",
       " '__repr__',\n",
       " '__setattr__',\n",
       " '__sizeof__',\n",
       " '__str__',\n",
       " '__subclasshook__',\n",
       " '__weakref__',\n",
       " '_load_stan_backend',\n",
       " 'add_country_holidays',\n",
       " 'add_group_component',\n",
       " 'add_regressor',\n",
       " 'add_seasonality',\n",
       " 'construct_holiday_dataframe',\n",
       " 'fit',\n",
       " 'flat_growth_init',\n",
       " 'flat_trend',\n",
       " 'fourier_series',\n",
       " 'initialize_scales',\n",
       " 'linear_growth_init',\n",
       " 'logistic_growth_init',\n",
       " 'make_all_seasonality_features',\n",
       " 'make_future_dataframe',\n",
       " 'make_holiday_features',\n",
       " 'make_seasonality_features',\n",
       " 'parse_seasonality_args',\n",
       " 'percentile',\n",
       " 'piecewise_linear',\n",
       " 'piecewise_logistic',\n",
       " 'plot',\n",
       " 'plot_components',\n",
       " 'predict',\n",
       " 'predict_seasonal_components',\n",
       " 'predict_trend',\n",
       " 'predict_uncertainty',\n",
       " 'predictive_samples',\n",
       " 'regressor_column_matrix',\n",
       " 'sample_model',\n",
       " 'sample_posterior_predictive',\n",
       " 'sample_predictive_trend',\n",
       " 'set_auto_seasonalities',\n",
       " 'set_changepoints',\n",
       " 'setup_dataframe',\n",
       " 'validate_column_name',\n",
       " 'validate_inputs']"
      ]
     },
     "execution_count": 19,
     "metadata": {},
     "output_type": "execute_result"
    }
   ],
   "source": [
    "dir(Prophet)"
   ]
  },
  {
   "cell_type": "code",
   "execution_count": 20,
   "metadata": {
    "slideshow": {
     "slide_type": "slide"
    }
   },
   "outputs": [],
   "source": [
    "# Initialize Model\n",
    "m = Prophet()"
   ]
  },
  {
   "cell_type": "code",
   "execution_count": 21,
   "metadata": {
    "slideshow": {
     "slide_type": "slide"
    }
   },
   "outputs": [
    {
     "data": {
      "text/plain": [
       "<fbprophet.forecaster.Prophet at 0x7fb04ec16710>"
      ]
     },
     "execution_count": 21,
     "metadata": {},
     "output_type": "execute_result"
    }
   ],
   "source": [
    "m.add_seasonality(name=\"monthly\",period=30.5,fourier_order=5)"
   ]
  },
  {
   "cell_type": "markdown",
   "metadata": {
    "slideshow": {
     "slide_type": "fragment"
    }
   },
   "source": [
    "A higher order means we have higher frequency terms and so will be able to fit more quickly-changing and complex seasonality patterns. For yearly patterns, choose 10, for weekly, 3."
   ]
  },
  {
   "cell_type": "code",
   "execution_count": 22,
   "metadata": {
    "slideshow": {
     "slide_type": "slide"
    }
   },
   "outputs": [
    {
     "name": "stderr",
     "output_type": "stream",
     "text": [
      "INFO:numexpr.utils:NumExpr defaulting to 4 threads.\n",
      "INFO:fbprophet:Disabling yearly seasonality. Run prophet with yearly_seasonality=True to override this.\n",
      "INFO:fbprophet:Disabling daily seasonality. Run prophet with daily_seasonality=True to override this.\n"
     ]
    },
    {
     "data": {
      "text/plain": [
       "<fbprophet.forecaster.Prophet at 0x7fb04ec16710>"
      ]
     },
     "execution_count": 22,
     "metadata": {},
     "output_type": "execute_result"
    }
   ],
   "source": [
    "# Fit Model\n",
    "m.fit(train)"
   ]
  },
  {
   "cell_type": "code",
   "execution_count": 23,
   "metadata": {
    "slideshow": {
     "slide_type": "slide"
    }
   },
   "outputs": [
    {
     "data": {
      "text/html": [
       "<div>\n",
       "<style scoped>\n",
       "    .dataframe tbody tr th:only-of-type {\n",
       "        vertical-align: middle;\n",
       "    }\n",
       "\n",
       "    .dataframe tbody tr th {\n",
       "        vertical-align: top;\n",
       "    }\n",
       "\n",
       "    .dataframe thead th {\n",
       "        text-align: right;\n",
       "    }\n",
       "</style>\n",
       "<table border=\"1\" class=\"dataframe\">\n",
       "  <thead>\n",
       "    <tr style=\"text-align: right;\">\n",
       "      <th></th>\n",
       "      <th>ds</th>\n",
       "    </tr>\n",
       "  </thead>\n",
       "  <tbody>\n",
       "    <tr>\n",
       "      <th>0</th>\n",
       "      <td>2020-01-22</td>\n",
       "    </tr>\n",
       "    <tr>\n",
       "      <th>1</th>\n",
       "      <td>2020-01-23</td>\n",
       "    </tr>\n",
       "    <tr>\n",
       "      <th>2</th>\n",
       "      <td>2020-01-24</td>\n",
       "    </tr>\n",
       "    <tr>\n",
       "      <th>3</th>\n",
       "      <td>2020-01-25</td>\n",
       "    </tr>\n",
       "    <tr>\n",
       "      <th>4</th>\n",
       "      <td>2020-01-26</td>\n",
       "    </tr>\n",
       "    <tr>\n",
       "      <th>...</th>\n",
       "      <td>...</td>\n",
       "    </tr>\n",
       "    <tr>\n",
       "      <th>291</th>\n",
       "      <td>2020-11-20</td>\n",
       "    </tr>\n",
       "    <tr>\n",
       "      <th>292</th>\n",
       "      <td>2020-11-21</td>\n",
       "    </tr>\n",
       "    <tr>\n",
       "      <th>293</th>\n",
       "      <td>2020-11-22</td>\n",
       "    </tr>\n",
       "    <tr>\n",
       "      <th>294</th>\n",
       "      <td>2020-11-23</td>\n",
       "    </tr>\n",
       "    <tr>\n",
       "      <th>295</th>\n",
       "      <td>2020-11-24</td>\n",
       "    </tr>\n",
       "  </tbody>\n",
       "</table>\n",
       "<p>296 rows × 1 columns</p>\n",
       "</div>"
      ],
      "text/plain": [
       "            ds\n",
       "0   2020-01-22\n",
       "1   2020-01-23\n",
       "2   2020-01-24\n",
       "3   2020-01-25\n",
       "4   2020-01-26\n",
       "..         ...\n",
       "291 2020-11-20\n",
       "292 2020-11-21\n",
       "293 2020-11-22\n",
       "294 2020-11-23\n",
       "295 2020-11-24\n",
       "\n",
       "[296 rows x 1 columns]"
      ]
     },
     "execution_count": 23,
     "metadata": {},
     "output_type": "execute_result"
    }
   ],
   "source": [
    "# Future Date\n",
    "future_dates = m.make_future_dataframe(periods=15)\n",
    "future_dates"
   ]
  },
  {
   "cell_type": "code",
   "execution_count": 24,
   "metadata": {
    "slideshow": {
     "slide_type": "slide"
    }
   },
   "outputs": [],
   "source": [
    "# Prediction\n",
    "prediction =  m.predict(future_dates)"
   ]
  },
  {
   "cell_type": "code",
   "execution_count": 25,
   "metadata": {
    "slideshow": {
     "slide_type": "slide"
    }
   },
   "outputs": [
    {
     "data": {
      "text/html": [
       "<div>\n",
       "<style scoped>\n",
       "    .dataframe tbody tr th:only-of-type {\n",
       "        vertical-align: middle;\n",
       "    }\n",
       "\n",
       "    .dataframe tbody tr th {\n",
       "        vertical-align: top;\n",
       "    }\n",
       "\n",
       "    .dataframe thead th {\n",
       "        text-align: right;\n",
       "    }\n",
       "</style>\n",
       "<table border=\"1\" class=\"dataframe\">\n",
       "  <thead>\n",
       "    <tr style=\"text-align: right;\">\n",
       "      <th></th>\n",
       "      <th>ds</th>\n",
       "      <th>trend</th>\n",
       "      <th>yhat_lower</th>\n",
       "      <th>yhat_upper</th>\n",
       "      <th>trend_lower</th>\n",
       "      <th>trend_upper</th>\n",
       "      <th>additive_terms</th>\n",
       "      <th>additive_terms_lower</th>\n",
       "      <th>additive_terms_upper</th>\n",
       "      <th>monthly</th>\n",
       "      <th>monthly_lower</th>\n",
       "      <th>monthly_upper</th>\n",
       "      <th>weekly</th>\n",
       "      <th>weekly_lower</th>\n",
       "      <th>weekly_upper</th>\n",
       "      <th>multiplicative_terms</th>\n",
       "      <th>multiplicative_terms_lower</th>\n",
       "      <th>multiplicative_terms_upper</th>\n",
       "      <th>yhat</th>\n",
       "    </tr>\n",
       "  </thead>\n",
       "  <tbody>\n",
       "    <tr>\n",
       "      <th>0</th>\n",
       "      <td>2020-01-22</td>\n",
       "      <td>-7.162001e+04</td>\n",
       "      <td>-7.021263e+05</td>\n",
       "      <td>3.925160e+05</td>\n",
       "      <td>-7.162001e+04</td>\n",
       "      <td>-7.162001e+04</td>\n",
       "      <td>-78338.449569</td>\n",
       "      <td>-78338.449569</td>\n",
       "      <td>-78338.449569</td>\n",
       "      <td>-68588.696787</td>\n",
       "      <td>-68588.696787</td>\n",
       "      <td>-68588.696787</td>\n",
       "      <td>-9749.752783</td>\n",
       "      <td>-9749.752783</td>\n",
       "      <td>-9749.752783</td>\n",
       "      <td>0.0</td>\n",
       "      <td>0.0</td>\n",
       "      <td>0.0</td>\n",
       "      <td>-1.499585e+05</td>\n",
       "    </tr>\n",
       "    <tr>\n",
       "      <th>1</th>\n",
       "      <td>2020-01-23</td>\n",
       "      <td>-6.712771e+04</td>\n",
       "      <td>-7.712144e+05</td>\n",
       "      <td>3.934181e+05</td>\n",
       "      <td>-6.712771e+04</td>\n",
       "      <td>-6.712771e+04</td>\n",
       "      <td>-88533.284991</td>\n",
       "      <td>-88533.284991</td>\n",
       "      <td>-88533.284991</td>\n",
       "      <td>-62656.575262</td>\n",
       "      <td>-62656.575262</td>\n",
       "      <td>-62656.575262</td>\n",
       "      <td>-25876.709728</td>\n",
       "      <td>-25876.709728</td>\n",
       "      <td>-25876.709728</td>\n",
       "      <td>0.0</td>\n",
       "      <td>0.0</td>\n",
       "      <td>0.0</td>\n",
       "      <td>-1.556610e+05</td>\n",
       "    </tr>\n",
       "    <tr>\n",
       "      <th>2</th>\n",
       "      <td>2020-01-24</td>\n",
       "      <td>-6.263540e+04</td>\n",
       "      <td>-6.475787e+05</td>\n",
       "      <td>4.716142e+05</td>\n",
       "      <td>-6.263540e+04</td>\n",
       "      <td>-6.263540e+04</td>\n",
       "      <td>-48777.964264</td>\n",
       "      <td>-48777.964264</td>\n",
       "      <td>-48777.964264</td>\n",
       "      <td>-47009.947749</td>\n",
       "      <td>-47009.947749</td>\n",
       "      <td>-47009.947749</td>\n",
       "      <td>-1768.016516</td>\n",
       "      <td>-1768.016516</td>\n",
       "      <td>-1768.016516</td>\n",
       "      <td>0.0</td>\n",
       "      <td>0.0</td>\n",
       "      <td>0.0</td>\n",
       "      <td>-1.114134e+05</td>\n",
       "    </tr>\n",
       "    <tr>\n",
       "      <th>3</th>\n",
       "      <td>2020-01-25</td>\n",
       "      <td>-5.814310e+04</td>\n",
       "      <td>-6.442737e+05</td>\n",
       "      <td>4.810680e+05</td>\n",
       "      <td>-5.814310e+04</td>\n",
       "      <td>-5.814310e+04</td>\n",
       "      <td>7660.693277</td>\n",
       "      <td>7660.693277</td>\n",
       "      <td>7660.693277</td>\n",
       "      <td>-14472.403017</td>\n",
       "      <td>-14472.403017</td>\n",
       "      <td>-14472.403017</td>\n",
       "      <td>22133.096294</td>\n",
       "      <td>22133.096294</td>\n",
       "      <td>22133.096294</td>\n",
       "      <td>0.0</td>\n",
       "      <td>0.0</td>\n",
       "      <td>0.0</td>\n",
       "      <td>-5.048240e+04</td>\n",
       "    </tr>\n",
       "    <tr>\n",
       "      <th>4</th>\n",
       "      <td>2020-01-26</td>\n",
       "      <td>-5.365079e+04</td>\n",
       "      <td>-5.847506e+05</td>\n",
       "      <td>5.491363e+05</td>\n",
       "      <td>-5.365079e+04</td>\n",
       "      <td>-5.365079e+04</td>\n",
       "      <td>48138.785310</td>\n",
       "      <td>48138.785310</td>\n",
       "      <td>48138.785310</td>\n",
       "      <td>30965.176210</td>\n",
       "      <td>30965.176210</td>\n",
       "      <td>30965.176210</td>\n",
       "      <td>17173.609100</td>\n",
       "      <td>17173.609100</td>\n",
       "      <td>17173.609100</td>\n",
       "      <td>0.0</td>\n",
       "      <td>0.0</td>\n",
       "      <td>0.0</td>\n",
       "      <td>-5.512008e+03</td>\n",
       "    </tr>\n",
       "    <tr>\n",
       "      <th>...</th>\n",
       "      <td>...</td>\n",
       "      <td>...</td>\n",
       "      <td>...</td>\n",
       "      <td>...</td>\n",
       "      <td>...</td>\n",
       "      <td>...</td>\n",
       "      <td>...</td>\n",
       "      <td>...</td>\n",
       "      <td>...</td>\n",
       "      <td>...</td>\n",
       "      <td>...</td>\n",
       "      <td>...</td>\n",
       "      <td>...</td>\n",
       "      <td>...</td>\n",
       "      <td>...</td>\n",
       "      <td>...</td>\n",
       "      <td>...</td>\n",
       "      <td>...</td>\n",
       "      <td>...</td>\n",
       "    </tr>\n",
       "    <tr>\n",
       "      <th>291</th>\n",
       "      <td>2020-11-20</td>\n",
       "      <td>5.222666e+07</td>\n",
       "      <td>5.155879e+07</td>\n",
       "      <td>5.271385e+07</td>\n",
       "      <td>5.209112e+07</td>\n",
       "      <td>5.232458e+07</td>\n",
       "      <td>-99207.797864</td>\n",
       "      <td>-99207.797864</td>\n",
       "      <td>-99207.797864</td>\n",
       "      <td>-97439.781348</td>\n",
       "      <td>-97439.781348</td>\n",
       "      <td>-97439.781348</td>\n",
       "      <td>-1768.016516</td>\n",
       "      <td>-1768.016516</td>\n",
       "      <td>-1768.016516</td>\n",
       "      <td>0.0</td>\n",
       "      <td>0.0</td>\n",
       "      <td>0.0</td>\n",
       "      <td>5.212745e+07</td>\n",
       "    </tr>\n",
       "    <tr>\n",
       "      <th>292</th>\n",
       "      <td>2020-11-21</td>\n",
       "      <td>5.256894e+07</td>\n",
       "      <td>5.193257e+07</td>\n",
       "      <td>5.308683e+07</td>\n",
       "      <td>5.241014e+07</td>\n",
       "      <td>5.269013e+07</td>\n",
       "      <td>-55675.912416</td>\n",
       "      <td>-55675.912416</td>\n",
       "      <td>-55675.912416</td>\n",
       "      <td>-77809.008710</td>\n",
       "      <td>-77809.008710</td>\n",
       "      <td>-77809.008710</td>\n",
       "      <td>22133.096294</td>\n",
       "      <td>22133.096294</td>\n",
       "      <td>22133.096294</td>\n",
       "      <td>0.0</td>\n",
       "      <td>0.0</td>\n",
       "      <td>0.0</td>\n",
       "      <td>5.251327e+07</td>\n",
       "    </tr>\n",
       "    <tr>\n",
       "      <th>293</th>\n",
       "      <td>2020-11-22</td>\n",
       "      <td>5.291123e+07</td>\n",
       "      <td>5.228067e+07</td>\n",
       "      <td>5.345861e+07</td>\n",
       "      <td>5.273005e+07</td>\n",
       "      <td>5.305561e+07</td>\n",
       "      <td>-51415.087686</td>\n",
       "      <td>-51415.087686</td>\n",
       "      <td>-51415.087686</td>\n",
       "      <td>-68588.696787</td>\n",
       "      <td>-68588.696787</td>\n",
       "      <td>-68588.696787</td>\n",
       "      <td>17173.609100</td>\n",
       "      <td>17173.609100</td>\n",
       "      <td>17173.609100</td>\n",
       "      <td>0.0</td>\n",
       "      <td>0.0</td>\n",
       "      <td>0.0</td>\n",
       "      <td>5.285982e+07</td>\n",
       "    </tr>\n",
       "    <tr>\n",
       "      <th>294</th>\n",
       "      <td>2020-11-23</td>\n",
       "      <td>5.325352e+07</td>\n",
       "      <td>5.259935e+07</td>\n",
       "      <td>5.382439e+07</td>\n",
       "      <td>5.304945e+07</td>\n",
       "      <td>5.341785e+07</td>\n",
       "      <td>-36958.087766</td>\n",
       "      <td>-36958.087766</td>\n",
       "      <td>-36958.087766</td>\n",
       "      <td>-62656.575262</td>\n",
       "      <td>-62656.575262</td>\n",
       "      <td>-62656.575262</td>\n",
       "      <td>25698.487496</td>\n",
       "      <td>25698.487496</td>\n",
       "      <td>25698.487496</td>\n",
       "      <td>0.0</td>\n",
       "      <td>0.0</td>\n",
       "      <td>0.0</td>\n",
       "      <td>5.321656e+07</td>\n",
       "    </tr>\n",
       "    <tr>\n",
       "      <th>295</th>\n",
       "      <td>2020-11-24</td>\n",
       "      <td>5.359581e+07</td>\n",
       "      <td>5.284130e+07</td>\n",
       "      <td>5.409172e+07</td>\n",
       "      <td>5.336519e+07</td>\n",
       "      <td>5.377860e+07</td>\n",
       "      <td>-74620.661612</td>\n",
       "      <td>-74620.661612</td>\n",
       "      <td>-74620.661612</td>\n",
       "      <td>-47009.947749</td>\n",
       "      <td>-47009.947749</td>\n",
       "      <td>-47009.947749</td>\n",
       "      <td>-27610.713863</td>\n",
       "      <td>-27610.713863</td>\n",
       "      <td>-27610.713863</td>\n",
       "      <td>0.0</td>\n",
       "      <td>0.0</td>\n",
       "      <td>0.0</td>\n",
       "      <td>5.352119e+07</td>\n",
       "    </tr>\n",
       "  </tbody>\n",
       "</table>\n",
       "<p>296 rows × 19 columns</p>\n",
       "</div>"
      ],
      "text/plain": [
       "            ds         trend    yhat_lower    yhat_upper   trend_lower  \\\n",
       "0   2020-01-22 -7.162001e+04 -7.021263e+05  3.925160e+05 -7.162001e+04   \n",
       "1   2020-01-23 -6.712771e+04 -7.712144e+05  3.934181e+05 -6.712771e+04   \n",
       "2   2020-01-24 -6.263540e+04 -6.475787e+05  4.716142e+05 -6.263540e+04   \n",
       "3   2020-01-25 -5.814310e+04 -6.442737e+05  4.810680e+05 -5.814310e+04   \n",
       "4   2020-01-26 -5.365079e+04 -5.847506e+05  5.491363e+05 -5.365079e+04   \n",
       "..         ...           ...           ...           ...           ...   \n",
       "291 2020-11-20  5.222666e+07  5.155879e+07  5.271385e+07  5.209112e+07   \n",
       "292 2020-11-21  5.256894e+07  5.193257e+07  5.308683e+07  5.241014e+07   \n",
       "293 2020-11-22  5.291123e+07  5.228067e+07  5.345861e+07  5.273005e+07   \n",
       "294 2020-11-23  5.325352e+07  5.259935e+07  5.382439e+07  5.304945e+07   \n",
       "295 2020-11-24  5.359581e+07  5.284130e+07  5.409172e+07  5.336519e+07   \n",
       "\n",
       "      trend_upper  additive_terms  additive_terms_lower  additive_terms_upper  \\\n",
       "0   -7.162001e+04   -78338.449569         -78338.449569         -78338.449569   \n",
       "1   -6.712771e+04   -88533.284991         -88533.284991         -88533.284991   \n",
       "2   -6.263540e+04   -48777.964264         -48777.964264         -48777.964264   \n",
       "3   -5.814310e+04     7660.693277           7660.693277           7660.693277   \n",
       "4   -5.365079e+04    48138.785310          48138.785310          48138.785310   \n",
       "..            ...             ...                   ...                   ...   \n",
       "291  5.232458e+07   -99207.797864         -99207.797864         -99207.797864   \n",
       "292  5.269013e+07   -55675.912416         -55675.912416         -55675.912416   \n",
       "293  5.305561e+07   -51415.087686         -51415.087686         -51415.087686   \n",
       "294  5.341785e+07   -36958.087766         -36958.087766         -36958.087766   \n",
       "295  5.377860e+07   -74620.661612         -74620.661612         -74620.661612   \n",
       "\n",
       "          monthly  monthly_lower  monthly_upper        weekly  weekly_lower  \\\n",
       "0   -68588.696787  -68588.696787  -68588.696787  -9749.752783  -9749.752783   \n",
       "1   -62656.575262  -62656.575262  -62656.575262 -25876.709728 -25876.709728   \n",
       "2   -47009.947749  -47009.947749  -47009.947749  -1768.016516  -1768.016516   \n",
       "3   -14472.403017  -14472.403017  -14472.403017  22133.096294  22133.096294   \n",
       "4    30965.176210   30965.176210   30965.176210  17173.609100  17173.609100   \n",
       "..            ...            ...            ...           ...           ...   \n",
       "291 -97439.781348  -97439.781348  -97439.781348  -1768.016516  -1768.016516   \n",
       "292 -77809.008710  -77809.008710  -77809.008710  22133.096294  22133.096294   \n",
       "293 -68588.696787  -68588.696787  -68588.696787  17173.609100  17173.609100   \n",
       "294 -62656.575262  -62656.575262  -62656.575262  25698.487496  25698.487496   \n",
       "295 -47009.947749  -47009.947749  -47009.947749 -27610.713863 -27610.713863   \n",
       "\n",
       "     weekly_upper  multiplicative_terms  multiplicative_terms_lower  \\\n",
       "0    -9749.752783                   0.0                         0.0   \n",
       "1   -25876.709728                   0.0                         0.0   \n",
       "2    -1768.016516                   0.0                         0.0   \n",
       "3    22133.096294                   0.0                         0.0   \n",
       "4    17173.609100                   0.0                         0.0   \n",
       "..            ...                   ...                         ...   \n",
       "291  -1768.016516                   0.0                         0.0   \n",
       "292  22133.096294                   0.0                         0.0   \n",
       "293  17173.609100                   0.0                         0.0   \n",
       "294  25698.487496                   0.0                         0.0   \n",
       "295 -27610.713863                   0.0                         0.0   \n",
       "\n",
       "     multiplicative_terms_upper          yhat  \n",
       "0                           0.0 -1.499585e+05  \n",
       "1                           0.0 -1.556610e+05  \n",
       "2                           0.0 -1.114134e+05  \n",
       "3                           0.0 -5.048240e+04  \n",
       "4                           0.0 -5.512008e+03  \n",
       "..                          ...           ...  \n",
       "291                         0.0  5.212745e+07  \n",
       "292                         0.0  5.251327e+07  \n",
       "293                         0.0  5.285982e+07  \n",
       "294                         0.0  5.321656e+07  \n",
       "295                         0.0  5.352119e+07  \n",
       "\n",
       "[296 rows x 19 columns]"
      ]
     },
     "execution_count": 25,
     "metadata": {},
     "output_type": "execute_result"
    }
   ],
   "source": [
    "prediction"
   ]
  },
  {
   "cell_type": "code",
   "execution_count": 26,
   "metadata": {
    "slideshow": {
     "slide_type": "slide"
    }
   },
   "outputs": [
    {
     "name": "stderr",
     "output_type": "stream",
     "text": [
      "/Users/seiryu8808/opt/anaconda3/lib/python3.7/site-packages/matplotlib/cbook/__init__.py:1402: FutureWarning: Support for multi-dimensional indexing (e.g. `obj[:, None]`) is deprecated and will be removed in a future version.  Convert to a numpy array before indexing instead.\n",
      "  x[:, None]\n",
      "/Users/seiryu8808/opt/anaconda3/lib/python3.7/site-packages/matplotlib/axes/_base.py:278: FutureWarning: Support for multi-dimensional indexing (e.g. `obj[:, None]`) is deprecated and will be removed in a future version.  Convert to a numpy array before indexing instead.\n",
      "  y = y[:, np.newaxis]\n"
     ]
    },
    {
     "data": {
      "image/png": "[encoded data removed]",
      "text/plain": [
       "<Figure size 720x432 with 1 Axes>"
      ]
     },
     "metadata": {},
     "output_type": "display_data"
    }
   ],
   "source": [
    "# Plot Prediction\n",
    "m.plot(prediction);"
   ]
  },
  {
   "cell_type": "code",
   "execution_count": 94,
   "metadata": {
    "slideshow": {
     "slide_type": "slide"
    }
   },
   "outputs": [
    {
     "name": "stderr",
     "output_type": "stream",
     "text": [
      "/Users/seiryu8808/opt/anaconda3/lib/python3.7/site-packages/matplotlib/cbook/__init__.py:1402: FutureWarning: Support for multi-dimensional indexing (e.g. `obj[:, None]`) is deprecated and will be removed in a future version.  Convert to a numpy array before indexing instead.\n",
      "  x[:, None]\n",
      "/Users/seiryu8808/opt/anaconda3/lib/python3.7/site-packages/matplotlib/axes/_base.py:278: FutureWarning: Support for multi-dimensional indexing (e.g. `obj[:, None]`) is deprecated and will be removed in a future version.  Convert to a numpy array before indexing instead.\n",
      "  y = y[:, np.newaxis]\n",
      "/Users/seiryu8808/opt/anaconda3/lib/python3.7/site-packages/matplotlib/cbook/__init__.py:1402: FutureWarning: Support for multi-dimensional indexing (e.g. `obj[:, None]`) is deprecated and will be removed in a future version.  Convert to a numpy array before indexing instead.\n",
      "  x[:, None]\n",
      "/Users/seiryu8808/opt/anaconda3/lib/python3.7/site-packages/matplotlib/axes/_base.py:278: FutureWarning: Support for multi-dimensional indexing (e.g. `obj[:, None]`) is deprecated and will be removed in a future version.  Convert to a numpy array before indexing instead.\n",
      "  y = y[:, np.newaxis]\n",
      "/Users/seiryu8808/opt/anaconda3/lib/python3.7/site-packages/matplotlib/cbook/__init__.py:1402: FutureWarning: Support for multi-dimensional indexing (e.g. `obj[:, None]`) is deprecated and will be removed in a future version.  Convert to a numpy array before indexing instead.\n",
      "  x[:, None]\n",
      "/Users/seiryu8808/opt/anaconda3/lib/python3.7/site-packages/matplotlib/axes/_base.py:278: FutureWarning: Support for multi-dimensional indexing (e.g. `obj[:, None]`) is deprecated and will be removed in a future version.  Convert to a numpy array before indexing instead.\n",
      "  y = y[:, np.newaxis]\n"
     ]
    },
    {
     "data": {
      "image/png": "[encoded data removed]",
      "text/plain": [
       "<Figure size 648x648 with 3 Axes>"
      ]
     },
     "metadata": {},
     "output_type": "display_data"
    }
   ],
   "source": [
    "m.plot_components(prediction);"
   ]
  },
  {
   "cell_type": "code",
   "execution_count": 28,
   "metadata": {
    "slideshow": {
     "slide_type": "skip"
    }
   },
   "outputs": [
    {
     "name": "stderr",
     "output_type": "stream",
     "text": [
      "/Users/seiryu8808/opt/anaconda3/lib/python3.7/site-packages/ipykernel_launcher.py:1: SettingWithCopyWarning: \n",
      "A value is trying to be set on a copy of a slice from a DataFrame.\n",
      "Try using .loc[row_indexer,col_indexer] = value instead\n",
      "\n",
      "See the caveats in the documentation: https://pandas.pydata.org/pandas-docs/stable/user_guide/indexing.html#returning-a-view-versus-a-copy\n",
      "  \"\"\"Entry point for launching an IPython kernel.\n"
     ]
    }
   ],
   "source": [
    "test['dates'] = pd.to_datetime(test['ds'])"
   ]
  },
  {
   "cell_type": "code",
   "execution_count": 29,
   "metadata": {
    "slideshow": {
     "slide_type": "skip"
    }
   },
   "outputs": [],
   "source": [
    "test = test.set_index(\"dates\")"
   ]
  },
  {
   "cell_type": "code",
   "execution_count": 30,
   "metadata": {
    "slideshow": {
     "slide_type": "skip"
    }
   },
   "outputs": [],
   "source": [
    "test = test['y']"
   ]
  },
  {
   "cell_type": "code",
   "execution_count": 31,
   "metadata": {
    "slideshow": {
     "slide_type": "skip"
    }
   },
   "outputs": [
    {
     "data": {
      "text/plain": [
       "dates\n",
       "2020-09-27    33065023\n",
       "2020-09-28    33340906\n",
       "2020-09-29    33624955\n",
       "2020-09-03    26294433\n",
       "2020-09-30    33951475\n",
       "2020-09-04    26607267\n",
       "2020-09-05    26870493\n",
       "2020-09-06    27092621\n",
       "2020-09-07    27326009\n",
       "2020-09-08    27567385\n",
       "2020-09-09    27851771\n",
       "Name: y, dtype: int64"
      ]
     },
     "execution_count": 31,
     "metadata": {},
     "output_type": "execute_result"
    }
   ],
   "source": [
    "test"
   ]
  },
  {
   "cell_type": "code",
   "execution_count": 33,
   "metadata": {
    "slideshow": {
     "slide_type": "skip"
    }
   },
   "outputs": [
    {
     "data": {
      "text/plain": [
       "<matplotlib.axes._subplots.AxesSubplot at 0x7fb051124710>"
      ]
     },
     "execution_count": 33,
     "metadata": {},
     "output_type": "execute_result"
    },
    {
     "data": {
      "image/png": "[encoded data removed]",
      "text/plain": [
       "<Figure size 432x288 with 1 Axes>"
      ]
     },
     "metadata": {
      "needs_background": "light"
     },
     "output_type": "display_data"
    }
   ],
   "source": [
    "test.plot()"
   ]
  },
  {
   "cell_type": "markdown",
   "metadata": {
    "slideshow": {
     "slide_type": "slide"
    }
   },
   "source": [
    "Real time series frequently have abrupt changes in their trajectories.Prophet tries to detect these changepoints and will allow the trend to adapt appropriately, to see the points that create changes, we can do a changepoints plot."
   ]
  },
  {
   "cell_type": "code",
   "execution_count": 34,
   "metadata": {
    "slideshow": {
     "slide_type": "slide"
    }
   },
   "outputs": [],
   "source": [
    "# Find Point/Dates For Change\n",
    "from fbprophet.plot import add_changepoints_to_plot"
   ]
  },
  {
   "cell_type": "code",
   "execution_count": 35,
   "metadata": {
    "slideshow": {
     "slide_type": "slide"
    }
   },
   "outputs": [
    {
     "name": "stderr",
     "output_type": "stream",
     "text": [
      "/Users/seiryu8808/opt/anaconda3/lib/python3.7/site-packages/matplotlib/axes/_base.py:276: FutureWarning: Support for multi-dimensional indexing (e.g. `obj[:, None]`) is deprecated and will be removed in a future version.  Convert to a numpy array before indexing instead.\n",
      "  x = x[:, np.newaxis]\n"
     ]
    },
    {
     "data": {
      "image/png": "[encoded data removed]",
      "text/plain": [
       "<Figure size 720x432 with 1 Axes>"
      ]
     },
     "metadata": {},
     "output_type": "display_data"
    }
   ],
   "source": [
    "fig = m.plot(prediction)\n",
    "c = add_changepoints_to_plot(fig.gca(),m,prediction)"
   ]
  },
  {
   "cell_type": "markdown",
   "metadata": {
    "slideshow": {
     "slide_type": "slide"
    }
   },
   "source": [
    "## Time Series Forecasting as Supervised Learning"
   ]
  },
  {
   "cell_type": "markdown",
   "metadata": {
    "slideshow": {
     "slide_type": "slide"
    }
   },
   "source": [
    "Review:\n",
    "* What is Supervised Learning? \n",
    "    \n",
    "* How is data given in SL?"
   ]
  },
  {
   "cell_type": "markdown",
   "metadata": {
    "slideshow": {
     "slide_type": "slide"
    }
   },
   "source": [
    "Supervised learning is where you have input variables (X) and an output variable (y) and you use an algorithm to learn the mapping function from the input to the output.\n",
    "\n",
    "$Y = f(X)$"
   ]
  },
  {
   "cell_type": "markdown",
   "metadata": {
    "slideshow": {
     "slide_type": "slide"
    }
   },
   "source": [
    "### Sliding Window For Time Series Data\n",
    "\n",
    "The reason we can't usually use SL models the same way in TS is because Time Series are not independent variables.\n",
    "\n",
    "One step usually depends on the previous step.\n",
    "\n",
    "However, given a sequence of numbers for a Time Series set, the data can be forced to look like a supervised learning problem.\n",
    "\n",
    "**How?**\n",
    "We can use previous time steps as input variables and use the next time step as the output variable."
   ]
  },
  {
   "cell_type": "markdown",
   "metadata": {
    "slideshow": {
     "slide_type": "slide"
    }
   },
   "source": [
    "|time  |  measure |\n",
    "| ---- | -------- |\n",
    "| 1 | 100 |\n",
    "| 2 | 110 |\n",
    "| 3 | 108 |\n",
    "| 4 | 115 |\n",
    "| 5 | 120 |"
   ]
  },
  {
   "cell_type": "markdown",
   "metadata": {
    "slideshow": {
     "slide_type": "slide"
    }
   },
   "source": [
    "We restructure this dataset as a supervised learning problem like this:"
   ]
  },
  {
   "cell_type": "markdown",
   "metadata": {
    "slideshow": {
     "slide_type": "fragment"
    }
   },
   "source": [
    "| X    |   y      |\n",
    "| ---- | -------- |\n",
    "|? | 100 | \n",
    "|100 | 110 | \n",
    "|110 |   108 | \n",
    "|108 | 115 | \n",
    "|115 | 120 | \n",
    "|120 | ? | \n"
   ]
  },
  {
   "cell_type": "markdown",
   "metadata": {
    "slideshow": {
     "slide_type": "slide"
    }
   },
   "source": [
    "**What do you observe?**"
   ]
  },
  {
   "cell_type": "markdown",
   "metadata": {
    "slideshow": {
     "slide_type": "fragment"
    }
   },
   "source": [
    "* Can't use first value\n",
    "* Can't use last value\n",
    "* Do you think the order needs to be preserved? Why or why not?"
   ]
  },
  {
   "cell_type": "markdown",
   "metadata": {
    "slideshow": {
     "slide_type": "slide"
    }
   },
   "source": [
    "**Why do we care?**\n",
    "\n",
    "* We already know how to calculate TS with different statistical models. Why would we use ML?"
   ]
  },
  {
   "cell_type": "markdown",
   "metadata": {
    "slideshow": {
     "slide_type": "fragment"
    }
   },
   "source": [
    "**Advantages**\n",
    "* Sometimes TS have a lot of variables. That's when SL comes in useful."
   ]
  },
  {
   "cell_type": "markdown",
   "metadata": {
    "slideshow": {
     "slide_type": "slide"
    }
   },
   "source": [
    "| time| measure1| measure2| \n",
    "|----|----|----|\n",
    "| 1| 0.2| 88| \n",
    "| 2| 0.5| 89| \n",
    "| 3| 0.7| 87| \n",
    "| 4| 0.4| 88| \n",
    "| 5| 1.0| 90| "
   ]
  },
  {
   "cell_type": "markdown",
   "metadata": {
    "slideshow": {
     "slide_type": "slide"
    }
   },
   "source": [
    "We will use the previous time step values of measure1 and measure2. \n",
    "We also have available the next time step value for measure1. \n",
    "We can then predict the next time step value of measure2.\n",
    "\n",
    "\n",
    "\n",
    "|X1 | X2 | X3 |  y | \n",
    "|---|---|---|---|\n",
    "|? | ? | 0.2  |  88 | \n",
    "|0.2 | 88 |  0.5 |  89 | \n",
    "|0.5 | 89 |  0.7 |  87 | \n",
    "|0.7 | 87 |  0.4 |  88 | \n",
    "|0.4 | 88 |  1.0 |  90 | \n",
    "|1.0 | 90 |  ? |  ? | "
   ]
  },
  {
   "cell_type": "markdown",
   "metadata": {
    "slideshow": {
     "slide_type": "slide"
    }
   },
   "source": [
    "For multiple output predictions, you can use ANNs, think of predicting more than one value as predicting a sequence. \n",
    "\n",
    "In this case, we were predicting two different output variables, but we may want to predict multiple time-steps ahead of one output variable."
   ]
  },
  {
   "cell_type": "code",
   "execution_count": 95,
   "metadata": {
    "slideshow": {
     "slide_type": "slide"
    }
   },
   "outputs": [
    {
     "name": "stdout",
     "output_type": "stream",
     "text": [
      "   t  t+1\n",
      "0  0  1.0\n",
      "1  1  2.0\n",
      "2  2  3.0\n",
      "3  3  4.0\n",
      "4  4  5.0\n",
      "5  5  6.0\n",
      "6  6  7.0\n",
      "7  7  8.0\n",
      "8  8  9.0\n",
      "9  9  NaN\n"
     ]
    }
   ],
   "source": [
    "from pandas import DataFrame\n",
    "df = DataFrame()\n",
    "df['t'] = [x for x in range(10)]\n",
    "df['t+1']= df['t'].shift(-1)\n",
    "print(df)"
   ]
  },
  {
   "cell_type": "markdown",
   "metadata": {
    "slideshow": {
     "slide_type": "slide"
    }
   },
   "source": [
    "We can see that the forecast column can be taken as an input (X) and the second as an output value (y). That is the input value of 0 can be used to forecast the output value of 1."
   ]
  },
  {
   "cell_type": "markdown",
   "metadata": {
    "slideshow": {
     "slide_type": "slide"
    }
   },
   "source": [
    "Further, the shift function also works on so-called multivariate time series problems. That is where instead of having one set of observations for a time series, we have multiple (e.g. temperature and pressure). All variates in the time series can be shifted forward or backward to create multivariate input and output sequences. We will explore this more later in the tutoria"
   ]
  },
  {
   "cell_type": "markdown",
   "metadata": {
    "slideshow": {
     "slide_type": "slide"
    }
   },
   "source": [
    "There are many SL models you can use. For example, linear regression as long as:\n",
    "\n",
    "* The inclusion of lagged terms as regressors does not create a collinearity problem.\n",
    "* Both the regressors and the explained variable are stationary\n",
    "* Your errors are not correlated with each other\n"
   ]
  },
  {
   "cell_type": "markdown",
   "metadata": {
    "slideshow": {
     "slide_type": "skip"
    }
   },
   "source": [
    "Based on tutorial from [here](https://blog.jcharistech.com/2020/03/13/predicting-coronavirus-outbreak-with-facebook-prophets-a-timeseries-forecast/)"
   ]
  },
  {
   "cell_type": "markdown",
   "metadata": {
    "slideshow": {
     "slide_type": "slide"
    }
   },
   "source": [
    "### LSTM for Time Series"
   ]
  },
  {
   "cell_type": "markdown",
   "metadata": {
    "slideshow": {
     "slide_type": "slide"
    }
   },
   "source": [
    "Let's build an LSTM for Stock Prices.\n",
    "\n",
    "If you haven't, get your [free api key today! ](https://www.alphavantage.co/support/#api-key)"
   ]
  },
  {
   "cell_type": "code",
   "execution_count": 36,
   "metadata": {
    "slideshow": {
     "slide_type": "skip"
    }
   },
   "outputs": [],
   "source": [
    "import alpha_vantage\n",
    "import os\n",
    "\n",
    "os.environ['ALPHA_API'] = \"NE20K1OP63DAOK29\""
   ]
  },
  {
   "cell_type": "code",
   "execution_count": 37,
   "metadata": {
    "slideshow": {
     "slide_type": "skip"
    }
   },
   "outputs": [],
   "source": [
    "def data_request(params):\n",
    "    url = \"https://www.alphavantage.co/query\"\n",
    "    params['apikey'] = os.environ['ALPHA_API']\n",
    "\n",
    "    return requests.get(url, params)"
   ]
  },
  {
   "cell_type": "code",
   "execution_count": 38,
   "metadata": {
    "slideshow": {
     "slide_type": "skip"
    }
   },
   "outputs": [],
   "source": [
    "params = {\"per_page\": 100}"
   ]
  },
  {
   "cell_type": "code",
   "execution_count": 39,
   "metadata": {
    "slideshow": {
     "slide_type": "skip"
    }
   },
   "outputs": [
    {
     "data": {
      "text/plain": [
       "<Response [200]>"
      ]
     },
     "execution_count": 39,
     "metadata": {},
     "output_type": "execute_result"
    }
   ],
   "source": [
    "data_request(params)"
   ]
  },
  {
   "cell_type": "code",
   "execution_count": 40,
   "metadata": {
    "slideshow": {
     "slide_type": "skip"
    }
   },
   "outputs": [],
   "source": [
    "def Create_Pandas(data_json):\n",
    "    data = pd.read_json(json.dumps(data_json[list(data_json.keys())[1]])).T\n",
    "    data.index = pd.to_datetime(data.index)\n",
    "    \n",
    "    return data\n",
    "\n",
    "def Get_TimeSeries(stock, period):\n",
    "    \"\"\"\n",
    "    A wrapper function to obtain the the time series of a the desired stock from the Alpha Vantage API.\n",
    "    \n",
    "    Parameters:\n",
    "    -----------\n",
    "    stock: the desired stock symbol (e.g., \"GOOG\", \"AMD\", \"FB\", \"INTC\").\n",
    "    period: \"daily\", \"weekly\", \"monthly\"\n",
    "    \n",
    "    Returns:\n",
    "    --------\n",
    "    A pandas dataframe with the columns `open`, `high`, `low`, `close`, and `volume`.\n",
    "    \"\"\"\n",
    "    \n",
    "    # Let's process the period parameter \n",
    "    # which affects the function parameter in the API\n",
    "    # (I'm using a dictionary here so if the user try a period different from\n",
    "    # daily, weekly or monthly, an exception will be raised)\n",
    "    ts_string = \"TIME_SERIES_\"\n",
    "    _function = {'DAILY': ts_string + \"DAILY\",\n",
    "                 'WEEKLY': ts_string + \"WEEKLY\",\n",
    "                 'MONTHLY': ts_string + \"MONTHLY\"}\n",
    "    \n",
    "    # Now let's create a dictionary to hold the parameters of \n",
    "    # our request.\n",
    "    params = {\"function\": _function[period.upper()],\n",
    "              \"symbol\": stock.upper(),\n",
    "              \"outputsize\": \"full\"}\n",
    "    \n",
    "    # Requesting the data\n",
    "    response = data_request(params)\n",
    "    \n",
    "    # Check the result of the request\n",
    "    if response.status_code != 200:\n",
    "        raise Exception(response.reason)\n",
    "    if \"Error Message\" in response.json():\n",
    "        raise ValueError(response.json()[\"Error Message\"])\n",
    "        \n",
    "    # Create the pandas dataframe\n",
    "    data_json = response.json()\n",
    "    data = Create_Pandas(data_json)\n",
    "    data.Stock = data_json['Meta Data']['2. Symbol']\n",
    "    data.LastUpdate = pd.Period(data_json['Meta Data']['3. Last Refreshed'], freq='D')\n",
    "    data.columns = [re.split(\"[1-9]*\\. \", column)[1] for column in data.columns] \n",
    "    \n",
    "    return data"
   ]
  },
  {
   "cell_type": "code",
   "execution_count": 41,
   "metadata": {
    "slideshow": {
     "slide_type": "slide"
    }
   },
   "outputs": [],
   "source": [
    "google_daily = Get_TimeSeries(\"GOOG\", \"DAILY\")"
   ]
  },
  {
   "cell_type": "code",
   "execution_count": 42,
   "metadata": {
    "slideshow": {
     "slide_type": "slide"
    }
   },
   "outputs": [
    {
     "data": {
      "text/html": [
       "<div>\n",
       "<style scoped>\n",
       "    .dataframe tbody tr th:only-of-type {\n",
       "        vertical-align: middle;\n",
       "    }\n",
       "\n",
       "    .dataframe tbody tr th {\n",
       "        vertical-align: top;\n",
       "    }\n",
       "\n",
       "    .dataframe thead th {\n",
       "        text-align: right;\n",
       "    }\n",
       "</style>\n",
       "<table border=\"1\" class=\"dataframe\">\n",
       "  <thead>\n",
       "    <tr style=\"text-align: right;\">\n",
       "      <th></th>\n",
       "      <th>open</th>\n",
       "      <th>high</th>\n",
       "      <th>low</th>\n",
       "      <th>close</th>\n",
       "      <th>volume</th>\n",
       "    </tr>\n",
       "  </thead>\n",
       "  <tbody>\n",
       "    <tr>\n",
       "      <th>2014-03-27</th>\n",
       "      <td>568.000</td>\n",
       "      <td>568.000</td>\n",
       "      <td>552.9200</td>\n",
       "      <td>558.46</td>\n",
       "      <td>13100.0</td>\n",
       "    </tr>\n",
       "    <tr>\n",
       "      <th>2014-03-28</th>\n",
       "      <td>561.200</td>\n",
       "      <td>566.430</td>\n",
       "      <td>558.6700</td>\n",
       "      <td>559.99</td>\n",
       "      <td>41100.0</td>\n",
       "    </tr>\n",
       "    <tr>\n",
       "      <th>2014-03-31</th>\n",
       "      <td>566.890</td>\n",
       "      <td>567.000</td>\n",
       "      <td>556.9300</td>\n",
       "      <td>556.97</td>\n",
       "      <td>10800.0</td>\n",
       "    </tr>\n",
       "    <tr>\n",
       "      <th>2014-04-01</th>\n",
       "      <td>558.710</td>\n",
       "      <td>568.450</td>\n",
       "      <td>558.7100</td>\n",
       "      <td>567.16</td>\n",
       "      <td>7900.0</td>\n",
       "    </tr>\n",
       "    <tr>\n",
       "      <th>2014-04-02</th>\n",
       "      <td>565.106</td>\n",
       "      <td>604.830</td>\n",
       "      <td>562.1900</td>\n",
       "      <td>567.00</td>\n",
       "      <td>146700.0</td>\n",
       "    </tr>\n",
       "    <tr>\n",
       "      <th>...</th>\n",
       "      <td>...</td>\n",
       "      <td>...</td>\n",
       "      <td>...</td>\n",
       "      <td>...</td>\n",
       "      <td>...</td>\n",
       "    </tr>\n",
       "    <tr>\n",
       "      <th>2020-11-03</th>\n",
       "      <td>1631.780</td>\n",
       "      <td>1661.700</td>\n",
       "      <td>1616.6201</td>\n",
       "      <td>1650.21</td>\n",
       "      <td>1661653.0</td>\n",
       "    </tr>\n",
       "    <tr>\n",
       "      <th>2020-11-04</th>\n",
       "      <td>1710.280</td>\n",
       "      <td>1771.365</td>\n",
       "      <td>1706.0301</td>\n",
       "      <td>1749.13</td>\n",
       "      <td>3570927.0</td>\n",
       "    </tr>\n",
       "    <tr>\n",
       "      <th>2020-11-05</th>\n",
       "      <td>1781.000</td>\n",
       "      <td>1793.640</td>\n",
       "      <td>1750.5100</td>\n",
       "      <td>1763.37</td>\n",
       "      <td>2065812.0</td>\n",
       "    </tr>\n",
       "    <tr>\n",
       "      <th>2020-11-06</th>\n",
       "      <td>1753.950</td>\n",
       "      <td>1772.430</td>\n",
       "      <td>1740.3500</td>\n",
       "      <td>1761.75</td>\n",
       "      <td>1661225.0</td>\n",
       "    </tr>\n",
       "    <tr>\n",
       "      <th>2020-11-09</th>\n",
       "      <td>1790.900</td>\n",
       "      <td>1818.060</td>\n",
       "      <td>1760.0200</td>\n",
       "      <td>1763.00</td>\n",
       "      <td>2268270.0</td>\n",
       "    </tr>\n",
       "  </tbody>\n",
       "</table>\n",
       "<p>1669 rows × 5 columns</p>\n",
       "</div>"
      ],
      "text/plain": [
       "                open      high        low    close     volume\n",
       "2014-03-27   568.000   568.000   552.9200   558.46    13100.0\n",
       "2014-03-28   561.200   566.430   558.6700   559.99    41100.0\n",
       "2014-03-31   566.890   567.000   556.9300   556.97    10800.0\n",
       "2014-04-01   558.710   568.450   558.7100   567.16     7900.0\n",
       "2014-04-02   565.106   604.830   562.1900   567.00   146700.0\n",
       "...              ...       ...        ...      ...        ...\n",
       "2020-11-03  1631.780  1661.700  1616.6201  1650.21  1661653.0\n",
       "2020-11-04  1710.280  1771.365  1706.0301  1749.13  3570927.0\n",
       "2020-11-05  1781.000  1793.640  1750.5100  1763.37  2065812.0\n",
       "2020-11-06  1753.950  1772.430  1740.3500  1761.75  1661225.0\n",
       "2020-11-09  1790.900  1818.060  1760.0200  1763.00  2268270.0\n",
       "\n",
       "[1669 rows x 5 columns]"
      ]
     },
     "execution_count": 42,
     "metadata": {},
     "output_type": "execute_result"
    }
   ],
   "source": [
    "google_daily = google_daily.sort_index()\n",
    "google_daily"
   ]
  },
  {
   "cell_type": "code",
   "execution_count": 72,
   "metadata": {
    "slideshow": {
     "slide_type": "slide"
    }
   },
   "outputs": [],
   "source": [
    "train = google_daily[:1659]\n",
    "test = google_daily[1659:]"
   ]
  },
  {
   "cell_type": "code",
   "execution_count": 73,
   "metadata": {
    "slideshow": {
     "slide_type": "skip"
    }
   },
   "outputs": [
    {
     "data": {
      "text/html": [
       "<div>\n",
       "<style scoped>\n",
       "    .dataframe tbody tr th:only-of-type {\n",
       "        vertical-align: middle;\n",
       "    }\n",
       "\n",
       "    .dataframe tbody tr th {\n",
       "        vertical-align: top;\n",
       "    }\n",
       "\n",
       "    .dataframe thead th {\n",
       "        text-align: right;\n",
       "    }\n",
       "</style>\n",
       "<table border=\"1\" class=\"dataframe\">\n",
       "  <thead>\n",
       "    <tr style=\"text-align: right;\">\n",
       "      <th></th>\n",
       "      <th>open</th>\n",
       "      <th>high</th>\n",
       "      <th>low</th>\n",
       "      <th>close</th>\n",
       "      <th>volume</th>\n",
       "    </tr>\n",
       "  </thead>\n",
       "  <tbody>\n",
       "    <tr>\n",
       "      <th>2020-10-27</th>\n",
       "      <td>1595.67</td>\n",
       "      <td>1606.845</td>\n",
       "      <td>1582.7800</td>\n",
       "      <td>1604.26</td>\n",
       "      <td>1229002.0</td>\n",
       "    </tr>\n",
       "    <tr>\n",
       "      <th>2020-10-28</th>\n",
       "      <td>1559.74</td>\n",
       "      <td>1561.350</td>\n",
       "      <td>1514.6200</td>\n",
       "      <td>1516.62</td>\n",
       "      <td>1833959.0</td>\n",
       "    </tr>\n",
       "    <tr>\n",
       "      <th>2020-10-29</th>\n",
       "      <td>1522.36</td>\n",
       "      <td>1593.710</td>\n",
       "      <td>1522.2400</td>\n",
       "      <td>1567.24</td>\n",
       "      <td>2003064.0</td>\n",
       "    </tr>\n",
       "    <tr>\n",
       "      <th>2020-10-30</th>\n",
       "      <td>1672.11</td>\n",
       "      <td>1687.000</td>\n",
       "      <td>1604.4600</td>\n",
       "      <td>1621.01</td>\n",
       "      <td>4330862.0</td>\n",
       "    </tr>\n",
       "    <tr>\n",
       "      <th>2020-11-02</th>\n",
       "      <td>1628.16</td>\n",
       "      <td>1660.770</td>\n",
       "      <td>1616.0300</td>\n",
       "      <td>1626.03</td>\n",
       "      <td>2535446.0</td>\n",
       "    </tr>\n",
       "    <tr>\n",
       "      <th>2020-11-03</th>\n",
       "      <td>1631.78</td>\n",
       "      <td>1661.700</td>\n",
       "      <td>1616.6201</td>\n",
       "      <td>1650.21</td>\n",
       "      <td>1661653.0</td>\n",
       "    </tr>\n",
       "    <tr>\n",
       "      <th>2020-11-04</th>\n",
       "      <td>1710.28</td>\n",
       "      <td>1771.365</td>\n",
       "      <td>1706.0301</td>\n",
       "      <td>1749.13</td>\n",
       "      <td>3570927.0</td>\n",
       "    </tr>\n",
       "    <tr>\n",
       "      <th>2020-11-05</th>\n",
       "      <td>1781.00</td>\n",
       "      <td>1793.640</td>\n",
       "      <td>1750.5100</td>\n",
       "      <td>1763.37</td>\n",
       "      <td>2065812.0</td>\n",
       "    </tr>\n",
       "    <tr>\n",
       "      <th>2020-11-06</th>\n",
       "      <td>1753.95</td>\n",
       "      <td>1772.430</td>\n",
       "      <td>1740.3500</td>\n",
       "      <td>1761.75</td>\n",
       "      <td>1661225.0</td>\n",
       "    </tr>\n",
       "    <tr>\n",
       "      <th>2020-11-09</th>\n",
       "      <td>1790.90</td>\n",
       "      <td>1818.060</td>\n",
       "      <td>1760.0200</td>\n",
       "      <td>1763.00</td>\n",
       "      <td>2268270.0</td>\n",
       "    </tr>\n",
       "  </tbody>\n",
       "</table>\n",
       "</div>"
      ],
      "text/plain": [
       "               open      high        low    close     volume\n",
       "2020-10-27  1595.67  1606.845  1582.7800  1604.26  1229002.0\n",
       "2020-10-28  1559.74  1561.350  1514.6200  1516.62  1833959.0\n",
       "2020-10-29  1522.36  1593.710  1522.2400  1567.24  2003064.0\n",
       "2020-10-30  1672.11  1687.000  1604.4600  1621.01  4330862.0\n",
       "2020-11-02  1628.16  1660.770  1616.0300  1626.03  2535446.0\n",
       "2020-11-03  1631.78  1661.700  1616.6201  1650.21  1661653.0\n",
       "2020-11-04  1710.28  1771.365  1706.0301  1749.13  3570927.0\n",
       "2020-11-05  1781.00  1793.640  1750.5100  1763.37  2065812.0\n",
       "2020-11-06  1753.95  1772.430  1740.3500  1761.75  1661225.0\n",
       "2020-11-09  1790.90  1818.060  1760.0200  1763.00  2268270.0"
      ]
     },
     "execution_count": 73,
     "metadata": {},
     "output_type": "execute_result"
    }
   ],
   "source": [
    "test"
   ]
  },
  {
   "cell_type": "code",
   "execution_count": 74,
   "metadata": {
    "slideshow": {
     "slide_type": "slide"
    }
   },
   "outputs": [],
   "source": [
    "training_set = train.iloc[:, 1:2].values"
   ]
  },
  {
   "cell_type": "code",
   "execution_count": 75,
   "metadata": {
    "slideshow": {
     "slide_type": "slide"
    }
   },
   "outputs": [
    {
     "data": {
      "text/plain": [
       "array([[ 568.  ],\n",
       "       [ 566.43],\n",
       "       [ 567.  ],\n",
       "       ...,\n",
       "       [1621.99],\n",
       "       [1642.36],\n",
       "       [1638.24]])"
      ]
     },
     "execution_count": 75,
     "metadata": {},
     "output_type": "execute_result"
    }
   ],
   "source": [
    "training_set"
   ]
  },
  {
   "cell_type": "code",
   "execution_count": 76,
   "metadata": {
    "slideshow": {
     "slide_type": "slide"
    }
   },
   "outputs": [],
   "source": [
    "from sklearn.preprocessing import MinMaxScaler\n",
    "sc = MinMaxScaler(feature_range = (0, 1))\n",
    "training_set_scaled = sc.fit_transform(training_set)"
   ]
  },
  {
   "cell_type": "code",
   "execution_count": 77,
   "metadata": {
    "slideshow": {
     "slide_type": "slide"
    }
   },
   "outputs": [
    {
     "data": {
      "text/plain": [
       "(1659, 1)"
      ]
     },
     "execution_count": 77,
     "metadata": {},
     "output_type": "execute_result"
    }
   ],
   "source": [
    "training_set_scaled.shape"
   ]
  },
  {
   "cell_type": "code",
   "execution_count": 78,
   "metadata": {
    "slideshow": {
     "slide_type": "slide"
    }
   },
   "outputs": [
    {
     "data": {
      "text/plain": [
       "array([[0.05821514],\n",
       "       [0.05694615],\n",
       "       [0.05740687],\n",
       "       ...,\n",
       "       [0.91012807],\n",
       "       [0.92659262],\n",
       "       [0.92326253]])"
      ]
     },
     "execution_count": 78,
     "metadata": {},
     "output_type": "execute_result"
    }
   ],
   "source": [
    "training_set_scaled"
   ]
  },
  {
   "cell_type": "code",
   "execution_count": 79,
   "metadata": {
    "slideshow": {
     "slide_type": "skip"
    }
   },
   "outputs": [],
   "source": [
    "X_train = []\n",
    "y_train = []\n",
    "\n",
    "for i in range(60, 346):\n",
    "    X_train.append(training_set_scaled[i-60:i, 0])\n",
    "    y_train.append(training_set_scaled[i, 0])\n",
    "X_train, y_train = np.array(X_train), np.array(y_train)\n",
    "\n",
    "X_train = np.reshape(X_train, (X_train.shape[0], X_train.shape[1], 1))"
   ]
  },
  {
   "cell_type": "code",
   "execution_count": 80,
   "metadata": {
    "slideshow": {
     "slide_type": "skip"
    }
   },
   "outputs": [],
   "source": [
    "from keras.models import Sequential\n",
    "from keras.layers import Dense\n",
    "from keras.layers import LSTM\n",
    "from keras.layers import Dropout"
   ]
  },
  {
   "cell_type": "code",
   "execution_count": 81,
   "metadata": {
    "slideshow": {
     "slide_type": "slide"
    }
   },
   "outputs": [
    {
     "name": "stdout",
     "output_type": "stream",
     "text": [
      "Epoch 1/100\n",
      "6/6 [==============================] - 1s 94ms/step - loss: 0.0014\n",
      "Epoch 2/100\n",
      "6/6 [==============================] - 1s 121ms/step - loss: 7.6035e-04\n",
      "Epoch 3/100\n",
      "6/6 [==============================] - 1s 91ms/step - loss: 7.8125e-04\n",
      "Epoch 4/100\n",
      "6/6 [==============================] - 0s 83ms/step - loss: 6.7624e-04\n",
      "Epoch 5/100\n",
      "6/6 [==============================] - 0s 83ms/step - loss: 6.3412e-04\n",
      "Epoch 6/100\n",
      "6/6 [==============================] - 1s 86ms/step - loss: 6.0754e-04\n",
      "Epoch 7/100\n",
      "6/6 [==============================] - 1s 93ms/step - loss: 5.8432e-04\n",
      "Epoch 8/100\n",
      "6/6 [==============================] - 1s 89ms/step - loss: 5.2770e-04\n",
      "Epoch 9/100\n",
      "6/6 [==============================] - 0s 81ms/step - loss: 4.6807e-04\n",
      "Epoch 10/100\n",
      "6/6 [==============================] - 0s 80ms/step - loss: 4.9693e-04\n",
      "Epoch 11/100\n",
      "6/6 [==============================] - 1s 115ms/step - loss: 4.3963e-04\n",
      "Epoch 12/100\n",
      "6/6 [==============================] - 1s 100ms/step - loss: 3.9146e-04\n",
      "Epoch 13/100\n",
      "6/6 [==============================] - 1s 102ms/step - loss: 3.7826e-04\n",
      "Epoch 14/100\n",
      "6/6 [==============================] - 1s 102ms/step - loss: 3.7526e-04\n",
      "Epoch 15/100\n",
      "6/6 [==============================] - 1s 87ms/step - loss: 4.3576e-04\n",
      "Epoch 16/100\n",
      "6/6 [==============================] - 0s 75ms/step - loss: 4.1559e-04\n",
      "Epoch 17/100\n",
      "6/6 [==============================] - 0s 74ms/step - loss: 3.6478e-04\n",
      "Epoch 18/100\n",
      "6/6 [==============================] - 0s 77ms/step - loss: 3.8109e-04\n",
      "Epoch 19/100\n",
      "6/6 [==============================] - 0s 80ms/step - loss: 3.5724e-04\n",
      "Epoch 20/100\n",
      "6/6 [==============================] - 0s 81ms/step - loss: 3.4897e-04\n",
      "Epoch 21/100\n",
      "6/6 [==============================] - 0s 78ms/step - loss: 3.3429e-04\n",
      "Epoch 22/100\n",
      "6/6 [==============================] - 0s 75ms/step - loss: 3.3270e-04\n",
      "Epoch 23/100\n",
      "6/6 [==============================] - 0s 74ms/step - loss: 3.4818e-04\n",
      "Epoch 24/100\n",
      "6/6 [==============================] - 0s 77ms/step - loss: 3.6930e-04\n",
      "Epoch 25/100\n",
      "6/6 [==============================] - 0s 75ms/step - loss: 3.5385e-04\n",
      "Epoch 26/100\n",
      "6/6 [==============================] - 0s 75ms/step - loss: 3.3594e-04\n",
      "Epoch 27/100\n",
      "6/6 [==============================] - 0s 77ms/step - loss: 3.3168e-04\n",
      "Epoch 28/100\n",
      "6/6 [==============================] - 0s 77ms/step - loss: 3.2352e-04\n",
      "Epoch 29/100\n",
      "6/6 [==============================] - 0s 78ms/step - loss: 3.2832e-04\n",
      "Epoch 30/100\n",
      "6/6 [==============================] - 0s 77ms/step - loss: 3.2537e-04\n",
      "Epoch 31/100\n",
      "6/6 [==============================] - 0s 76ms/step - loss: 3.0778e-04\n",
      "Epoch 32/100\n",
      "6/6 [==============================] - 0s 79ms/step - loss: 3.4352e-04\n",
      "Epoch 33/100\n",
      "6/6 [==============================] - 1s 94ms/step - loss: 3.1946e-04\n",
      "Epoch 34/100\n",
      "6/6 [==============================] - 1s 97ms/step - loss: 3.2422e-04\n",
      "Epoch 35/100\n",
      "6/6 [==============================] - 1s 88ms/step - loss: 3.1614e-04\n",
      "Epoch 36/100\n",
      "6/6 [==============================] - 1s 84ms/step - loss: 2.9968e-04\n",
      "Epoch 37/100\n",
      "6/6 [==============================] - 0s 81ms/step - loss: 3.0322e-04\n",
      "Epoch 38/100\n",
      "6/6 [==============================] - 0s 77ms/step - loss: 3.1429e-04\n",
      "Epoch 39/100\n",
      "6/6 [==============================] - 0s 76ms/step - loss: 2.9381e-04\n",
      "Epoch 40/100\n",
      "6/6 [==============================] - 0s 75ms/step - loss: 2.9060e-04\n",
      "Epoch 41/100\n",
      "6/6 [==============================] - 0s 71ms/step - loss: 2.8440e-04\n",
      "Epoch 42/100\n",
      "6/6 [==============================] - 0s 76ms/step - loss: 2.9346e-04\n",
      "Epoch 43/100\n",
      "6/6 [==============================] - 0s 76ms/step - loss: 2.6357e-04\n",
      "Epoch 44/100\n",
      "6/6 [==============================] - 0s 75ms/step - loss: 2.7981e-04\n",
      "Epoch 45/100\n",
      "6/6 [==============================] - 0s 73ms/step - loss: 2.8486e-04\n",
      "Epoch 46/100\n",
      "6/6 [==============================] - 1s 107ms/step - loss: 2.8521e-04\n",
      "Epoch 47/100\n",
      "6/6 [==============================] - 1s 89ms/step - loss: 2.7981e-04\n",
      "Epoch 48/100\n",
      "6/6 [==============================] - 0s 75ms/step - loss: 2.5521e-04\n",
      "Epoch 49/100\n",
      "6/6 [==============================] - 0s 77ms/step - loss: 2.6929e-04\n",
      "Epoch 50/100\n",
      "6/6 [==============================] - 0s 76ms/step - loss: 2.8694e-04\n",
      "Epoch 51/100\n",
      "6/6 [==============================] - 0s 75ms/step - loss: 2.7273e-04\n",
      "Epoch 52/100\n",
      "6/6 [==============================] - 0s 75ms/step - loss: 2.5653e-04\n",
      "Epoch 53/100\n",
      "6/6 [==============================] - 0s 75ms/step - loss: 2.6832e-04\n",
      "Epoch 54/100\n",
      "6/6 [==============================] - 0s 76ms/step - loss: 2.6634e-04\n",
      "Epoch 55/100\n",
      "6/6 [==============================] - 0s 75ms/step - loss: 2.3365e-04\n",
      "Epoch 56/100\n",
      "6/6 [==============================] - 0s 75ms/step - loss: 2.5606e-04\n",
      "Epoch 57/100\n",
      "6/6 [==============================] - 0s 73ms/step - loss: 2.4697e-04\n",
      "Epoch 58/100\n",
      "6/6 [==============================] - 1s 108ms/step - loss: 2.3654e-04\n",
      "Epoch 59/100\n",
      "6/6 [==============================] - 1s 91ms/step - loss: 2.1828e-04\n",
      "Epoch 60/100\n",
      "6/6 [==============================] - 1s 95ms/step - loss: 2.2408e-04\n",
      "Epoch 61/100\n",
      "6/6 [==============================] - 0s 80ms/step - loss: 2.1566e-04\n",
      "Epoch 62/100\n",
      "6/6 [==============================] - 0s 80ms/step - loss: 2.2573e-04\n",
      "Epoch 63/100\n",
      "6/6 [==============================] - 0s 81ms/step - loss: 2.0926e-04\n",
      "Epoch 64/100\n",
      "6/6 [==============================] - 0s 77ms/step - loss: 2.2308e-04\n",
      "Epoch 65/100\n",
      "6/6 [==============================] - 0s 75ms/step - loss: 1.9068e-04\n",
      "Epoch 66/100\n",
      "6/6 [==============================] - 0s 75ms/step - loss: 2.1269e-04\n",
      "Epoch 67/100\n",
      "6/6 [==============================] - 0s 83ms/step - loss: 2.0798e-04\n",
      "Epoch 68/100\n",
      "6/6 [==============================] - 0s 78ms/step - loss: 1.9859e-04\n",
      "Epoch 69/100\n",
      "6/6 [==============================] - 0s 74ms/step - loss: 1.8782e-04\n",
      "Epoch 70/100\n",
      "6/6 [==============================] - 0s 82ms/step - loss: 1.9326e-04\n",
      "Epoch 71/100\n",
      "6/6 [==============================] - 0s 79ms/step - loss: 1.8989e-04\n",
      "Epoch 72/100\n",
      "6/6 [==============================] - 0s 80ms/step - loss: 1.9846e-04\n",
      "Epoch 73/100\n",
      "6/6 [==============================] - 0s 75ms/step - loss: 1.8148e-04\n",
      "Epoch 74/100\n",
      "6/6 [==============================] - 0s 74ms/step - loss: 1.7706e-04\n",
      "Epoch 75/100\n",
      "6/6 [==============================] - 0s 78ms/step - loss: 1.8055e-04\n",
      "Epoch 76/100\n",
      "6/6 [==============================] - 0s 81ms/step - loss: 1.7109e-04\n",
      "Epoch 77/100\n",
      "6/6 [==============================] - 0s 77ms/step - loss: 1.8076e-04\n",
      "Epoch 78/100\n",
      "6/6 [==============================] - 0s 78ms/step - loss: 1.6127e-04\n",
      "Epoch 79/100\n",
      "6/6 [==============================] - 0s 77ms/step - loss: 1.3991e-04\n",
      "Epoch 80/100\n",
      "6/6 [==============================] - 1s 88ms/step - loss: 1.5233e-04\n",
      "Epoch 81/100\n",
      "6/6 [==============================] - 0s 79ms/step - loss: 1.5156e-04\n",
      "Epoch 82/100\n",
      "6/6 [==============================] - 0s 77ms/step - loss: 1.3995e-04\n",
      "Epoch 83/100\n",
      "6/6 [==============================] - 0s 81ms/step - loss: 1.5784e-04\n",
      "Epoch 84/100\n",
      "6/6 [==============================] - 0s 78ms/step - loss: 1.4838e-04\n",
      "Epoch 85/100\n",
      "6/6 [==============================] - 1s 84ms/step - loss: 1.3949e-04\n",
      "Epoch 86/100\n",
      "6/6 [==============================] - 0s 83ms/step - loss: 1.5518e-04\n",
      "Epoch 87/100\n",
      "6/6 [==============================] - 0s 75ms/step - loss: 1.4477e-04\n",
      "Epoch 88/100\n",
      "6/6 [==============================] - 1s 95ms/step - loss: 1.4976e-04\n",
      "Epoch 89/100\n",
      "6/6 [==============================] - 0s 72ms/step - loss: 1.4266e-04\n",
      "Epoch 90/100\n",
      "6/6 [==============================] - 0s 70ms/step - loss: 1.4742e-04\n",
      "Epoch 91/100\n",
      "6/6 [==============================] - 0s 70ms/step - loss: 1.3608e-04\n",
      "Epoch 92/100\n",
      "6/6 [==============================] - 0s 74ms/step - loss: 1.3035e-04\n",
      "Epoch 93/100\n",
      "6/6 [==============================] - 0s 71ms/step - loss: 1.2681e-04\n",
      "Epoch 94/100\n",
      "6/6 [==============================] - 1s 93ms/step - loss: 1.3505e-04\n",
      "Epoch 95/100\n",
      "6/6 [==============================] - 0s 73ms/step - loss: 1.2124e-04\n",
      "Epoch 96/100\n",
      "6/6 [==============================] - 1s 88ms/step - loss: 1.2532e-04\n",
      "Epoch 97/100\n",
      "6/6 [==============================] - 0s 74ms/step - loss: 1.2429e-04\n",
      "Epoch 98/100\n"
     ]
    },
    {
     "name": "stdout",
     "output_type": "stream",
     "text": [
      "6/6 [==============================] - 0s 73ms/step - loss: 1.2638e-04\n",
      "Epoch 99/100\n",
      "6/6 [==============================] - 0s 73ms/step - loss: 1.1389e-04\n",
      "Epoch 100/100\n",
      "6/6 [==============================] - 0s 72ms/step - loss: 1.0893e-04\n"
     ]
    },
    {
     "data": {
      "text/plain": [
       "<tensorflow.python.keras.callbacks.History at 0x7fb02cedc090>"
      ]
     },
     "execution_count": 81,
     "metadata": {},
     "output_type": "execute_result"
    }
   ],
   "source": [
    "regressor = Sequential()\n",
    "\n",
    "regressor.add(LSTM(units = 50, return_sequences = True, input_shape = (X_train.shape[1], 1)))\n",
    "regressor.add(Dropout(0.2))\n",
    "\n",
    "regressor.add(LSTM(units = 50, return_sequences = True))\n",
    "regressor.add(Dropout(0.2))\n",
    "\n",
    "regressor.add(LSTM(units = 50, return_sequences = True))\n",
    "regressor.add(Dropout(0.2))\n",
    "\n",
    "regressor.add(LSTM(units = 50))\n",
    "regressor.add(Dropout(0.2))\n",
    "\n",
    "regressor.add(Dense(units = 1))\n",
    "\n",
    "regressor.compile(optimizer = 'adam', loss = 'mean_squared_error')\n",
    "\n",
    "regressor.fit(X_train, y_train, epochs = 100, batch_size = 52)"
   ]
  },
  {
   "cell_type": "code",
   "execution_count": 82,
   "metadata": {
    "slideshow": {
     "slide_type": "slide"
    }
   },
   "outputs": [
    {
     "data": {
      "text/plain": [
       "array([[1606.845],\n",
       "       [1561.35 ],\n",
       "       [1593.71 ],\n",
       "       [1687.   ],\n",
       "       [1660.77 ],\n",
       "       [1661.7  ],\n",
       "       [1771.365],\n",
       "       [1793.64 ],\n",
       "       [1772.43 ],\n",
       "       [1818.06 ]])"
      ]
     },
     "execution_count": 82,
     "metadata": {},
     "output_type": "execute_result"
    }
   ],
   "source": [
    "real_stock_price = test.iloc[:, 1:2].values\n",
    "real_stock_price"
   ]
  },
  {
   "cell_type": "code",
   "execution_count": 83,
   "metadata": {
    "slideshow": {
     "slide_type": "slide"
    }
   },
   "outputs": [],
   "source": [
    "google_total = pd.concat((google_daily['open'], test['open']), axis=0)"
   ]
  },
  {
   "cell_type": "code",
   "execution_count": 84,
   "metadata": {
    "slideshow": {
     "slide_type": "slide"
    }
   },
   "outputs": [],
   "source": [
    "test_inputs = google_total[len(google_total) - len(test) - 60:].values"
   ]
  },
  {
   "cell_type": "code",
   "execution_count": 85,
   "metadata": {
    "slideshow": {
     "slide_type": "slide"
    }
   },
   "outputs": [],
   "source": [
    "test_inputs = test_inputs.reshape(-1,1)\n",
    "test_inputs = sc.transform(test_inputs)"
   ]
  },
  {
   "cell_type": "code",
   "execution_count": 86,
   "metadata": {
    "slideshow": {
     "slide_type": "skip"
    }
   },
   "outputs": [],
   "source": [
    "test_features = []\n",
    "for i in range(60, 70):\n",
    "    test_features.append(test_inputs[i-60:i, 0])"
   ]
  },
  {
   "cell_type": "code",
   "execution_count": 87,
   "metadata": {
    "slideshow": {
     "slide_type": "slide"
    }
   },
   "outputs": [
    {
     "data": {
      "text/plain": [
       "[array([0.82338408, 0.83268732, 0.8546158 , 0.84664622, 0.87378806,\n",
       "        0.88748831, 0.87786177, 0.89882032, 0.93574228, 0.91942323,\n",
       "        0.93106237, 0.92196121, 0.95198487, 0.98103336, 0.91196285,\n",
       "        0.83861197, 0.85802672, 0.86054045, 0.84062457, 0.84305344,\n",
       "        0.84062457, 0.85641825, 0.8082936 , 0.80991824, 0.76307875,\n",
       "        0.77118574, 0.77820964, 0.73961455, 0.75707327, 0.79068131,\n",
       "        0.7875937 , 0.784692  , 0.79881255, 0.78083653, 0.78421512,\n",
       "        0.79178865, 0.78266323, 0.78330985, 0.80724285, 0.84628249,\n",
       "        0.8792035 , 0.87504897, 0.84963683, 0.86475156, 0.87656044,\n",
       "        0.83339052, 0.87079745, 0.88673662, 0.91342583, 0.91256906,\n",
       "        0.88885429, 0.859813  , 0.82959971, 0.95063878, 0.91511512,\n",
       "        0.91804108, 0.9814906 , 1.03865175, 1.01678794, 1.04665367]),\n",
       " array([0.83268732, 0.8546158 , 0.84664622, 0.87378806, 0.88748831,\n",
       "        0.87786177, 0.89882032, 0.93574228, 0.91942323, 0.93106237,\n",
       "        0.92196121, 0.95198487, 0.98103336, 0.91196285, 0.83861197,\n",
       "        0.85802672, 0.86054045, 0.84062457, 0.84305344, 0.84062457,\n",
       "        0.85641825, 0.8082936 , 0.80991824, 0.76307875, 0.77118574,\n",
       "        0.77820964, 0.73961455, 0.75707327, 0.79068131, 0.7875937 ,\n",
       "        0.784692  , 0.79881255, 0.78083653, 0.78421512, 0.79178865,\n",
       "        0.78266323, 0.78330985, 0.80724285, 0.84628249, 0.8792035 ,\n",
       "        0.87504897, 0.84963683, 0.86475156, 0.87656044, 0.83339052,\n",
       "        0.87079745, 0.88673662, 0.91342583, 0.91256906, 0.88885429,\n",
       "        0.859813  , 0.82959971, 0.95063878, 0.91511512, 0.91804108,\n",
       "        0.9814906 , 1.03865175, 1.01678794, 1.04665367, 0.88885429]),\n",
       " array([0.8546158 , 0.84664622, 0.87378806, 0.88748831, 0.87786177,\n",
       "        0.89882032, 0.93574228, 0.91942323, 0.93106237, 0.92196121,\n",
       "        0.95198487, 0.98103336, 0.91196285, 0.83861197, 0.85802672,\n",
       "        0.86054045, 0.84062457, 0.84305344, 0.84062457, 0.85641825,\n",
       "        0.8082936 , 0.80991824, 0.76307875, 0.77118574, 0.77820964,\n",
       "        0.73961455, 0.75707327, 0.79068131, 0.7875937 , 0.784692  ,\n",
       "        0.79881255, 0.78083653, 0.78421512, 0.79178865, 0.78266323,\n",
       "        0.78330985, 0.80724285, 0.84628249, 0.8792035 , 0.87504897,\n",
       "        0.84963683, 0.86475156, 0.87656044, 0.83339052, 0.87079745,\n",
       "        0.88673662, 0.91342583, 0.91256906, 0.88885429, 0.859813  ,\n",
       "        0.82959971, 0.95063878, 0.91511512, 0.91804108, 0.9814906 ,\n",
       "        1.03865175, 1.01678794, 1.04665367, 0.88885429, 0.859813  ]),\n",
       " array([0.84664622, 0.87378806, 0.88748831, 0.87786177, 0.89882032,\n",
       "        0.93574228, 0.91942323, 0.93106237, 0.92196121, 0.95198487,\n",
       "        0.98103336, 0.91196285, 0.83861197, 0.85802672, 0.86054045,\n",
       "        0.84062457, 0.84305344, 0.84062457, 0.85641825, 0.8082936 ,\n",
       "        0.80991824, 0.76307875, 0.77118574, 0.77820964, 0.73961455,\n",
       "        0.75707327, 0.79068131, 0.7875937 , 0.784692  , 0.79881255,\n",
       "        0.78083653, 0.78421512, 0.79178865, 0.78266323, 0.78330985,\n",
       "        0.80724285, 0.84628249, 0.8792035 , 0.87504897, 0.84963683,\n",
       "        0.86475156, 0.87656044, 0.83339052, 0.87079745, 0.88673662,\n",
       "        0.91342583, 0.91256906, 0.88885429, 0.859813  , 0.82959971,\n",
       "        0.95063878, 0.91511512, 0.91804108, 0.9814906 , 1.03865175,\n",
       "        1.01678794, 1.04665367, 0.88885429, 0.859813  , 0.82959971]),\n",
       " array([0.87378806, 0.88748831, 0.87786177, 0.89882032, 0.93574228,\n",
       "        0.91942323, 0.93106237, 0.92196121, 0.95198487, 0.98103336,\n",
       "        0.91196285, 0.83861197, 0.85802672, 0.86054045, 0.84062457,\n",
       "        0.84305344, 0.84062457, 0.85641825, 0.8082936 , 0.80991824,\n",
       "        0.76307875, 0.77118574, 0.77820964, 0.73961455, 0.75707327,\n",
       "        0.79068131, 0.7875937 , 0.784692  , 0.79881255, 0.78083653,\n",
       "        0.78421512, 0.79178865, 0.78266323, 0.78330985, 0.80724285,\n",
       "        0.84628249, 0.8792035 , 0.87504897, 0.84963683, 0.86475156,\n",
       "        0.87656044, 0.83339052, 0.87079745, 0.88673662, 0.91342583,\n",
       "        0.91256906, 0.88885429, 0.859813  , 0.82959971, 0.95063878,\n",
       "        0.91511512, 0.91804108, 0.9814906 , 1.03865175, 1.01678794,\n",
       "        1.04665367, 0.88885429, 0.859813  , 0.82959971, 0.95063878]),\n",
       " array([0.88748831, 0.87786177, 0.89882032, 0.93574228, 0.91942323,\n",
       "        0.93106237, 0.92196121, 0.95198487, 0.98103336, 0.91196285,\n",
       "        0.83861197, 0.85802672, 0.86054045, 0.84062457, 0.84305344,\n",
       "        0.84062457, 0.85641825, 0.8082936 , 0.80991824, 0.76307875,\n",
       "        0.77118574, 0.77820964, 0.73961455, 0.75707327, 0.79068131,\n",
       "        0.7875937 , 0.784692  , 0.79881255, 0.78083653, 0.78421512,\n",
       "        0.79178865, 0.78266323, 0.78330985, 0.80724285, 0.84628249,\n",
       "        0.8792035 , 0.87504897, 0.84963683, 0.86475156, 0.87656044,\n",
       "        0.83339052, 0.87079745, 0.88673662, 0.91342583, 0.91256906,\n",
       "        0.88885429, 0.859813  , 0.82959971, 0.95063878, 0.91511512,\n",
       "        0.91804108, 0.9814906 , 1.03865175, 1.01678794, 1.04665367,\n",
       "        0.88885429, 0.859813  , 0.82959971, 0.95063878, 0.91511512]),\n",
       " array([0.87786177, 0.89882032, 0.93574228, 0.91942323, 0.93106237,\n",
       "        0.92196121, 0.95198487, 0.98103336, 0.91196285, 0.83861197,\n",
       "        0.85802672, 0.86054045, 0.84062457, 0.84305344, 0.84062457,\n",
       "        0.85641825, 0.8082936 , 0.80991824, 0.76307875, 0.77118574,\n",
       "        0.77820964, 0.73961455, 0.75707327, 0.79068131, 0.7875937 ,\n",
       "        0.784692  , 0.79881255, 0.78083653, 0.78421512, 0.79178865,\n",
       "        0.78266323, 0.78330985, 0.80724285, 0.84628249, 0.8792035 ,\n",
       "        0.87504897, 0.84963683, 0.86475156, 0.87656044, 0.83339052,\n",
       "        0.87079745, 0.88673662, 0.91342583, 0.91256906, 0.88885429,\n",
       "        0.859813  , 0.82959971, 0.95063878, 0.91511512, 0.91804108,\n",
       "        0.9814906 , 1.03865175, 1.01678794, 1.04665367, 0.88885429,\n",
       "        0.859813  , 0.82959971, 0.95063878, 0.91511512, 0.91804108]),\n",
       " array([0.89882032, 0.93574228, 0.91942323, 0.93106237, 0.92196121,\n",
       "        0.95198487, 0.98103336, 0.91196285, 0.83861197, 0.85802672,\n",
       "        0.86054045, 0.84062457, 0.84305344, 0.84062457, 0.85641825,\n",
       "        0.8082936 , 0.80991824, 0.76307875, 0.77118574, 0.77820964,\n",
       "        0.73961455, 0.75707327, 0.79068131, 0.7875937 , 0.784692  ,\n",
       "        0.79881255, 0.78083653, 0.78421512, 0.79178865, 0.78266323,\n",
       "        0.78330985, 0.80724285, 0.84628249, 0.8792035 , 0.87504897,\n",
       "        0.84963683, 0.86475156, 0.87656044, 0.83339052, 0.87079745,\n",
       "        0.88673662, 0.91342583, 0.91256906, 0.88885429, 0.859813  ,\n",
       "        0.82959971, 0.95063878, 0.91511512, 0.91804108, 0.9814906 ,\n",
       "        1.03865175, 1.01678794, 1.04665367, 0.88885429, 0.859813  ,\n",
       "        0.82959971, 0.95063878, 0.91511512, 0.91804108, 0.9814906 ]),\n",
       " array([0.93574228, 0.91942323, 0.93106237, 0.92196121, 0.95198487,\n",
       "        0.98103336, 0.91196285, 0.83861197, 0.85802672, 0.86054045,\n",
       "        0.84062457, 0.84305344, 0.84062457, 0.85641825, 0.8082936 ,\n",
       "        0.80991824, 0.76307875, 0.77118574, 0.77820964, 0.73961455,\n",
       "        0.75707327, 0.79068131, 0.7875937 , 0.784692  , 0.79881255,\n",
       "        0.78083653, 0.78421512, 0.79178865, 0.78266323, 0.78330985,\n",
       "        0.80724285, 0.84628249, 0.8792035 , 0.87504897, 0.84963683,\n",
       "        0.86475156, 0.87656044, 0.83339052, 0.87079745, 0.88673662,\n",
       "        0.91342583, 0.91256906, 0.88885429, 0.859813  , 0.82959971,\n",
       "        0.95063878, 0.91511512, 0.91804108, 0.9814906 , 1.03865175,\n",
       "        1.01678794, 1.04665367, 0.88885429, 0.859813  , 0.82959971,\n",
       "        0.95063878, 0.91511512, 0.91804108, 0.9814906 , 1.03865175]),\n",
       " array([0.91942323, 0.93106237, 0.92196121, 0.95198487, 0.98103336,\n",
       "        0.91196285, 0.83861197, 0.85802672, 0.86054045, 0.84062457,\n",
       "        0.84305344, 0.84062457, 0.85641825, 0.8082936 , 0.80991824,\n",
       "        0.76307875, 0.77118574, 0.77820964, 0.73961455, 0.75707327,\n",
       "        0.79068131, 0.7875937 , 0.784692  , 0.79881255, 0.78083653,\n",
       "        0.78421512, 0.79178865, 0.78266323, 0.78330985, 0.80724285,\n",
       "        0.84628249, 0.8792035 , 0.87504897, 0.84963683, 0.86475156,\n",
       "        0.87656044, 0.83339052, 0.87079745, 0.88673662, 0.91342583,\n",
       "        0.91256906, 0.88885429, 0.859813  , 0.82959971, 0.95063878,\n",
       "        0.91511512, 0.91804108, 0.9814906 , 1.03865175, 1.01678794,\n",
       "        1.04665367, 0.88885429, 0.859813  , 0.82959971, 0.95063878,\n",
       "        0.91511512, 0.91804108, 0.9814906 , 1.03865175, 1.01678794])]"
      ]
     },
     "execution_count": 87,
     "metadata": {},
     "output_type": "execute_result"
    }
   ],
   "source": [
    "test_features"
   ]
  },
  {
   "cell_type": "code",
   "execution_count": 88,
   "metadata": {
    "slideshow": {
     "slide_type": "skip"
    }
   },
   "outputs": [],
   "source": [
    "test_features = np.array(test_features)\n",
    "test_features = np.reshape(test_features, (test_features.shape[0],test_features.shape[1], 1))"
   ]
  },
  {
   "cell_type": "code",
   "execution_count": 89,
   "metadata": {
    "slideshow": {
     "slide_type": "slide"
    }
   },
   "outputs": [
    {
     "data": {
      "text/plain": [
       "array([[0.96786374],\n",
       "       [0.9457755 ],\n",
       "       [0.8898309 ],\n",
       "       [0.8251671 ],\n",
       "       [0.8035201 ],\n",
       "       [0.8168293 ],\n",
       "       [0.8440379 ],\n",
       "       [0.8814548 ],\n",
       "       [0.92750484],\n",
       "       [0.96191686]], dtype=float32)"
      ]
     },
     "execution_count": 89,
     "metadata": {},
     "output_type": "execute_result"
    }
   ],
   "source": [
    "predictions = regressor.predict(test_features)\n",
    "predictions"
   ]
  },
  {
   "cell_type": "code",
   "execution_count": 90,
   "metadata": {
    "slideshow": {
     "slide_type": "slide"
    }
   },
   "outputs": [
    {
     "data": {
      "text/plain": [
       "array([[1693.4208],\n",
       "       [1666.0931],\n",
       "       [1596.8782],\n",
       "       [1516.876 ],\n",
       "       [1490.0942],\n",
       "       [1506.5604],\n",
       "       [1540.223 ],\n",
       "       [1586.5154],\n",
       "       [1643.4885],\n",
       "       [1686.0632]], dtype=float32)"
      ]
     },
     "execution_count": 90,
     "metadata": {},
     "output_type": "execute_result"
    }
   ],
   "source": [
    "predictions = sc.inverse_transform(predictions)\n",
    "predictions"
   ]
  },
  {
   "cell_type": "code",
   "execution_count": 91,
   "metadata": {
    "slideshow": {
     "slide_type": "skip"
    }
   },
   "outputs": [
    {
     "data": {
      "text/plain": [
       "array([[1606.845],\n",
       "       [1561.35 ],\n",
       "       [1593.71 ],\n",
       "       [1687.   ],\n",
       "       [1660.77 ],\n",
       "       [1661.7  ],\n",
       "       [1771.365],\n",
       "       [1793.64 ],\n",
       "       [1772.43 ],\n",
       "       [1818.06 ]])"
      ]
     },
     "execution_count": 91,
     "metadata": {},
     "output_type": "execute_result"
    }
   ],
   "source": [
    "real_stock_price"
   ]
  },
  {
   "cell_type": "code",
   "execution_count": 93,
   "metadata": {
    "slideshow": {
     "slide_type": "slide"
    }
   },
   "outputs": [
    {
     "data": {
      "image/png": "[encoded data removed]",
      "text/plain": [
       "<Figure size 720x432 with 1 Axes>"
      ]
     },
     "metadata": {
      "needs_background": "light"
     },
     "output_type": "display_data"
    }
   ],
   "source": [
    "plt.figure(figsize=(10,6))\n",
    "plt.plot(real_stock_price, color='blue', label='Actual Google Stock Price')\n",
    "plt.plot(predictions , color='red', label='Predicted Google Stock Price')\n",
    "plt.title('Google Stock Price Prediction')\n",
    "plt.xlabel('Date')\n",
    "plt.ylabel('Google Stock Price')\n",
    "plt.legend()\n",
    "plt.show()"
   ]
  },
  {
   "cell_type": "markdown",
   "metadata": {},
   "source": [
    "Resources\n",
    "https://research.fb.com/prophet-forecasting-at-scale/"
   ]
  }
 ],
 "metadata": {
  "celltoolbar": "Slideshow",
  "kernelspec": {
   "display_name": "Python 3",
   "language": "python",
   "name": "python3"
  },
  "language_info": {
   "codemirror_mode": {
    "name": "ipython",
    "version": 3
   },
   "file_extension": ".py",
   "mimetype": "text/x-python",
   "name": "python",
   "nbconvert_exporter": "python",
   "pygments_lexer": "ipython3",
   "version": "3.7.4"
  }
 },
 "nbformat": 4,
 "nbformat_minor": 2
}
