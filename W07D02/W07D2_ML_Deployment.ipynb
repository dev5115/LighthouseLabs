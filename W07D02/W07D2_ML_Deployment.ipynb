{
 "cells": [
  {
   "cell_type": "markdown",
   "metadata": {},
   "source": [
    "## Lighthouse Labs\n",
    "### W05D5 Midterm Project\n",
    "Instructor: Socorro Dominguez  \n",
    "October 27, 2020"
   ]
  },
  {
   "cell_type": "markdown",
   "metadata": {},
   "source": [
    "**Agenda:**\n",
    "\n",
    "* REST APIs\n",
    "    * What is it?\n",
    "    * Applications\n",
    "    * Demo\n",
    "   \n",
    "* Intro to Flask\n",
    "    * Flask for API creation"
   ]
  },
  {
   "cell_type": "markdown",
   "metadata": {},
   "source": [
    "## How is Data Science related to the Web?"
   ]
  },
  {
   "cell_type": "markdown",
   "metadata": {},
   "source": [
    "Web Pages are intended for Humans. However, there’s lots of valuable data embedding in web pages:\n",
    "* course listings\n",
    "* bank records\n",
    "* blogs\n",
    "\n",
    "\n",
    "What if we wanted to collect this data for analysis?\n",
    "\n",
    "We would need a program that acts like a web browser but collects web document data rather than displaying it.\n",
    "\n",
    "This is called `web scraping`. Popular methods include Scrapy, a free and open-source web-crawling framework written in Python. "
   ]
  },
  {
   "cell_type": "markdown",
   "metadata": {},
   "source": [
    "A Web Scraper...\n",
    "* acts like a web browser (i.e., sends HTTP GET requests to web server)\n",
    "* at the time it allows your to process the data that comes back.\n",
    "\n",
    "Some other useful libraries for scraping if you are interested:\n",
    "\n",
    "curl\n",
    "* utility and library for accessing web servers\n",
    "* delivers web data as text\n",
    "\n",
    "Beautiful Soup\n",
    "* python library that can parse HTML (Super useful)"
   ]
  },
  {
   "cell_type": "markdown",
   "metadata": {},
   "source": [
    "### Disadvantages of Web Scraping\n",
    "\n",
    "For anybody who is not an expert, the scraping processes are hard to understand.\n",
    "\n",
    "The data that has been extracted will first need to be treated so that they can be easily understood (This is where we use `Beautiful Soup`. \n",
    "In certain cases, this might take a long time and a lot of energy to complete.\n",
    "\n",
    "It is common for new data extraction applications to take some time in the beginning as the software often has a learning curve. Sometimes web scraping services take time to become familiar with the core application and need to adjust to the scrapping language. This means that such services can take some days before they are up and running at full speed.\n",
    "\n",
    "Most web scrapping services are slower than API calls and another problem is the websites that do not allow screen scrapping. In such cases web scrapping services are rendered useless. Also, if the developer of the website decides to introduce some changes in the code, the scrapping service might stop working."
   ]
  },
  {
   "cell_type": "markdown",
   "metadata": {},
   "source": [
    "## What is an API?"
   ]
  },
  {
   "cell_type": "markdown",
   "metadata": {},
   "source": [
    "**A**pplication  \n",
    "**P**rogramming  \n",
    "**I**nterface  \n",
    "  \n",
    "  \n",
    "**RE**presentation  \n",
    "**S**tate  \n",
    "**T**ransfer  \n",
    "**C**haracteristics  "
   ]
  },
  {
   "cell_type": "markdown",
   "metadata": {},
   "source": [
    "### Characteristics?\n",
    "\n",
    "Client-server, typically HTTP-based, stateless server\n"
   ]
  },
  {
   "cell_type": "markdown",
   "metadata": {},
   "source": [
    "Some web site’s provide direct access to their data. For example: Twitter, Translink, Car2Go, Google Maps, Yahoo\n",
    "\n",
    "Why would they do this?\n",
    "Why would some web sites not do this?"
   ]
  },
  {
   "cell_type": "markdown",
   "metadata": {},
   "source": [
    "### What representation is DATA found in?"
   ]
  },
  {
   "cell_type": "markdown",
   "metadata": {},
   "source": [
    "**J**ava**S**cript **O**bject **N**otation (json)\n",
    "\n",
    "\n",
    "Textual format for structured data  \n",
    "* [a,b,c] for arrays  \n",
    "* {‘x’: m, ‘y’: n, ‘z’: o} for objects"
   ]
  },
  {
   "cell_type": "markdown",
   "metadata": {},
   "source": [
    "JSON\n",
    "* textual description of python (javascript actually) objects\n",
    "* arrays and dictionaries\n",
    "\n",
    "```\n",
    "{\n",
    "'library': [\n",
    "           {'title': 'For Whom the Bell Tolls', 'author': 'Ernest Hemingway'},\n",
    "           {'title': 'Trump: The Art of the Deal', 'author': 'Good Question'}\n",
    "           ]\n",
    "}\n",
    "```"
   ]
  },
  {
   "cell_type": "markdown",
   "metadata": {},
   "source": [
    "XML\n",
    "• hierarchical description of tagged data  - This is how you would usually see data if you clic inspect to do Web Scraping\n",
    "\n",
    "```\n",
    "<library>\n",
    "<book>\n",
    "<title>\n",
    "For Whom the Bell Tolls\n",
    "</title>\n",
    "<author>\n",
    "Ernest Hemingway\n",
    "</author>\n",
    "</book>\n",
    "<book>\n",
    "<title>\n",
    "Trump: The Art of the Deal\n",
    "</title>\n",
    "<author>\n",
    "Good Question\n",
    "</author>\n",
    "</book>\n",
    "</library>\n",
    "```"
   ]
  },
  {
   "cell_type": "markdown",
   "metadata": {},
   "source": [
    "### Using a Web API\n",
    "\n",
    "Provider defines:\n",
    "* message format for requests and responses\n",
    "* usually in both XML and JSON\n",
    "* registration and authentication\n",
    "* usually using OAuth  \n",
    "\n",
    "\n",
    "Language integration\n",
    "* might be provided or you might have to do it yourself\n",
    "* if provided, usually someone other than data source\n",
    "* library API for various languages like python\n",
    "* you write a python program that calls library procedures\n",
    "* library formats messages, sends them to web provider, translates responses as return values"
   ]
  },
  {
   "cell_type": "markdown",
   "metadata": {},
   "source": [
    "### Getting JSON Data\n",
    "\n",
    "We need to select the output format using API:\n",
    "* e.g., http header: accept = application/json\n",
    "\n",
    "\n",
    "View in browser or Postman\n",
    "* good for exploration / debugging\n",
    "\n",
    "Use request .get\n",
    "* this returns a python array or dictionary\n",
    "\n",
    "Get a string and parse\n",
    "* import json\n",
    "* x = json .loads(aJSONString)"
   ]
  },
  {
   "cell_type": "markdown",
   "metadata": {},
   "source": [
    "Example using Trasnlink API"
   ]
  },
  {
   "cell_type": "code",
   "execution_count": 1,
   "metadata": {},
   "outputs": [],
   "source": [
    "import requests\n",
    "\n",
    "# Get your own API token from developer.translink.ca\n",
    "apikey = 'cYLpZHtgW36bD647D1kq';\n",
    "\n",
    "x = requests.get('http://api.translink.ca/rttiapi/v1/stops/61935?apikey={}' .format(apikey),headers={'accept': 'application/JSON'}).json()\n",
    "y = requests.get('http://api.translink.ca/rttiapi/v1/stops/61935/estimates?apikey={}' .format(apikey),headers={'accept': 'application/JSON'}).json()\n",
    "z = requests.get('http://api.translink.ca/rttiapi/v1/buses?apikey={}&routeNo=099' .format(apikey), headers={'accept': 'application/JSON'}).json()"
   ]
  },
  {
   "cell_type": "code",
   "execution_count": 2,
   "metadata": {},
   "outputs": [
    {
     "data": {
      "text/plain": [
       "{'RouteNo': '099',\n",
       " 'RouteName': 'COMMERCIAL-BROADWAY/UBC (B-LINE)',\n",
       " 'Direction': 'EAST',\n",
       " 'RouteMap': {'Href': 'https://nb.translink.ca/geodata/099.kmz'},\n",
       " 'Schedules': [{'Pattern': 'E8FL2',\n",
       "   'Destination': 'TO BOUNDARY B-LINE',\n",
       "   'ExpectedLeaveTime': '5:16pm 2020-10-26',\n",
       "   'ExpectedCountdown': -3,\n",
       "   'ScheduleStatus': ' ',\n",
       "   'CancelledTrip': False,\n",
       "   'CancelledStop': False,\n",
       "   'AddedTrip': False,\n",
       "   'AddedStop': False,\n",
       "   'LastUpdate': '04:16:58 pm'},\n",
       "  {'Pattern': 'E1',\n",
       "   'Destination': \"COMM'L-BDWAY STN\",\n",
       "   'ExpectedLeaveTime': '5:19pm 2020-10-26',\n",
       "   'ExpectedCountdown': 0,\n",
       "   'ScheduleStatus': ' ',\n",
       "   'CancelledTrip': False,\n",
       "   'CancelledStop': False,\n",
       "   'AddedTrip': False,\n",
       "   'AddedStop': False,\n",
       "   'LastUpdate': '04:19:21 pm'},\n",
       "  {'Pattern': 'E1',\n",
       "   'Destination': \"COMM'L-BDWAY STN\",\n",
       "   'ExpectedLeaveTime': '5:22pm 2020-10-26',\n",
       "   'ExpectedCountdown': 3,\n",
       "   'ScheduleStatus': '*',\n",
       "   'CancelledTrip': False,\n",
       "   'CancelledStop': False,\n",
       "   'AddedTrip': False,\n",
       "   'AddedStop': False,\n",
       "   'LastUpdate': '04:22:34 pm'},\n",
       "  {'Pattern': 'E8FL2',\n",
       "   'Destination': 'TO BOUNDARY B-LINE',\n",
       "   'ExpectedLeaveTime': '5:25pm 2020-10-26',\n",
       "   'ExpectedCountdown': 6,\n",
       "   'ScheduleStatus': '*',\n",
       "   'CancelledTrip': False,\n",
       "   'CancelledStop': False,\n",
       "   'AddedTrip': False,\n",
       "   'AddedStop': False,\n",
       "   'LastUpdate': '04:25:24 pm'},\n",
       "  {'Pattern': 'E1',\n",
       "   'Destination': \"COMM'L-BDWAY STN\",\n",
       "   'ExpectedLeaveTime': '5:28pm 2020-10-26',\n",
       "   'ExpectedCountdown': 9,\n",
       "   'ScheduleStatus': '*',\n",
       "   'CancelledTrip': False,\n",
       "   'CancelledStop': False,\n",
       "   'AddedTrip': False,\n",
       "   'AddedStop': False,\n",
       "   'LastUpdate': '04:28:00 pm'},\n",
       "  {'Pattern': 'E1',\n",
       "   'Destination': \"COMM'L-BDWAY STN\",\n",
       "   'ExpectedLeaveTime': '5:31pm 2020-10-26',\n",
       "   'ExpectedCountdown': 12,\n",
       "   'ScheduleStatus': '*',\n",
       "   'CancelledTrip': False,\n",
       "   'CancelledStop': False,\n",
       "   'AddedTrip': False,\n",
       "   'AddedStop': False,\n",
       "   'LastUpdate': '04:31:00 pm'}]}"
      ]
     },
     "execution_count": 2,
     "metadata": {},
     "output_type": "execute_result"
    }
   ],
   "source": [
    "y[0]"
   ]
  },
  {
   "cell_type": "markdown",
   "metadata": {},
   "source": [
    "### The Anatomy Of A Request\n",
    "\n",
    "It’s important to know that a request is made up of four things:\n",
    "\n",
    "1. The endpoint\n",
    "\n",
    "2. The method\n",
    "\n",
    "3. The headers\n",
    "\n",
    "4. The data (or body)\n",
    "\n",
    "1. The endpoint (or route) is the url you request for\n",
    "\n",
    "root-endpoint/?\n",
    "\n",
    "https://api.github.com\n",
    "\n",
    "2. The Method\n",
    "The method is the type of request you send to the server. You can choose from these types below:\n",
    "\n",
    "a. GET - Used to get resource from server\n",
    "\n",
    "b. POST - Used to create new resource on server\n",
    "\n",
    "c. PUT/PATCH - update resource on server\n",
    "\n",
    "d. DELETE - delete a resource on the server"
   ]
  },
  {
   "cell_type": "markdown",
   "metadata": {},
   "source": [
    "STOCK API demo"
   ]
  },
  {
   "cell_type": "markdown",
   "metadata": {},
   "source": [
    "## FLASK\n",
    "\n",
    "Flask is a micro web framework written in Python. It can create a REST API that allows you to send data, and receive a predictions as a response."
   ]
  },
  {
   "cell_type": "markdown",
   "metadata": {},
   "source": [
    "Now that you are going to be a Data Scientist, you cannot always rely on having your models in Jupyter Notebook.\n",
    "\n",
    "Sure, Jupyter Notebooks are awesome to do data exploration and analysis. Once you fully understand a project, maybe one of your outcomes is to hand in an application taht has a predictive model.\n",
    "\n",
    "You can try to get the best model possible in a notebook or a script. Once everybody has conveyed that is the best model, you must hand it in a way that the client can run it easily in their infraestructure. \n",
    "\n",
    "For this purpose you need a tool that can fit in their  infrastructure, preferably in a language that you’re familiar with. This is where you can use Flask. Flask is a micro web framework written in Python. It can create a REST API that allows you to send data, and receive a prediction as a response."
   ]
  },
  {
   "cell_type": "code",
   "execution_count": 3,
   "metadata": {},
   "outputs": [
    {
     "data": {
      "text/html": [
       "<div>\n",
       "<style scoped>\n",
       "    .dataframe tbody tr th:only-of-type {\n",
       "        vertical-align: middle;\n",
       "    }\n",
       "\n",
       "    .dataframe tbody tr th {\n",
       "        vertical-align: top;\n",
       "    }\n",
       "\n",
       "    .dataframe thead th {\n",
       "        text-align: right;\n",
       "    }\n",
       "</style>\n",
       "<table border=\"1\" class=\"dataframe\">\n",
       "  <thead>\n",
       "    <tr style=\"text-align: right;\">\n",
       "      <th></th>\n",
       "      <th>0</th>\n",
       "      <th>1</th>\n",
       "      <th>2</th>\n",
       "      <th>3</th>\n",
       "      <th>4</th>\n",
       "      <th>5</th>\n",
       "      <th>6</th>\n",
       "      <th>7</th>\n",
       "      <th>8</th>\n",
       "      <th>9</th>\n",
       "      <th>10</th>\n",
       "      <th>11</th>\n",
       "      <th>12</th>\n",
       "    </tr>\n",
       "  </thead>\n",
       "  <tbody>\n",
       "    <tr>\n",
       "      <th>0</th>\n",
       "      <td>0.00632</td>\n",
       "      <td>18.0</td>\n",
       "      <td>2.31</td>\n",
       "      <td>0.0</td>\n",
       "      <td>0.538</td>\n",
       "      <td>6.575</td>\n",
       "      <td>65.2</td>\n",
       "      <td>4.0900</td>\n",
       "      <td>1.0</td>\n",
       "      <td>296.0</td>\n",
       "      <td>15.3</td>\n",
       "      <td>396.90</td>\n",
       "      <td>4.98</td>\n",
       "    </tr>\n",
       "    <tr>\n",
       "      <th>1</th>\n",
       "      <td>0.02731</td>\n",
       "      <td>0.0</td>\n",
       "      <td>7.07</td>\n",
       "      <td>0.0</td>\n",
       "      <td>0.469</td>\n",
       "      <td>6.421</td>\n",
       "      <td>78.9</td>\n",
       "      <td>4.9671</td>\n",
       "      <td>2.0</td>\n",
       "      <td>242.0</td>\n",
       "      <td>17.8</td>\n",
       "      <td>396.90</td>\n",
       "      <td>9.14</td>\n",
       "    </tr>\n",
       "    <tr>\n",
       "      <th>2</th>\n",
       "      <td>0.02729</td>\n",
       "      <td>0.0</td>\n",
       "      <td>7.07</td>\n",
       "      <td>0.0</td>\n",
       "      <td>0.469</td>\n",
       "      <td>7.185</td>\n",
       "      <td>61.1</td>\n",
       "      <td>4.9671</td>\n",
       "      <td>2.0</td>\n",
       "      <td>242.0</td>\n",
       "      <td>17.8</td>\n",
       "      <td>392.83</td>\n",
       "      <td>4.03</td>\n",
       "    </tr>\n",
       "    <tr>\n",
       "      <th>3</th>\n",
       "      <td>0.03237</td>\n",
       "      <td>0.0</td>\n",
       "      <td>2.18</td>\n",
       "      <td>0.0</td>\n",
       "      <td>0.458</td>\n",
       "      <td>6.998</td>\n",
       "      <td>45.8</td>\n",
       "      <td>6.0622</td>\n",
       "      <td>3.0</td>\n",
       "      <td>222.0</td>\n",
       "      <td>18.7</td>\n",
       "      <td>394.63</td>\n",
       "      <td>2.94</td>\n",
       "    </tr>\n",
       "    <tr>\n",
       "      <th>4</th>\n",
       "      <td>0.06905</td>\n",
       "      <td>0.0</td>\n",
       "      <td>2.18</td>\n",
       "      <td>0.0</td>\n",
       "      <td>0.458</td>\n",
       "      <td>7.147</td>\n",
       "      <td>54.2</td>\n",
       "      <td>6.0622</td>\n",
       "      <td>3.0</td>\n",
       "      <td>222.0</td>\n",
       "      <td>18.7</td>\n",
       "      <td>396.90</td>\n",
       "      <td>5.33</td>\n",
       "    </tr>\n",
       "  </tbody>\n",
       "</table>\n",
       "</div>"
      ],
      "text/plain": [
       "        0     1     2    3      4      5     6       7    8      9     10  \\\n",
       "0  0.00632  18.0  2.31  0.0  0.538  6.575  65.2  4.0900  1.0  296.0  15.3   \n",
       "1  0.02731   0.0  7.07  0.0  0.469  6.421  78.9  4.9671  2.0  242.0  17.8   \n",
       "2  0.02729   0.0  7.07  0.0  0.469  7.185  61.1  4.9671  2.0  242.0  17.8   \n",
       "3  0.03237   0.0  2.18  0.0  0.458  6.998  45.8  6.0622  3.0  222.0  18.7   \n",
       "4  0.06905   0.0  2.18  0.0  0.458  7.147  54.2  6.0622  3.0  222.0  18.7   \n",
       "\n",
       "       11    12  \n",
       "0  396.90  4.98  \n",
       "1  396.90  9.14  \n",
       "2  392.83  4.03  \n",
       "3  394.63  2.94  \n",
       "4  396.90  5.33  "
      ]
     },
     "execution_count": 3,
     "metadata": {},
     "output_type": "execute_result"
    }
   ],
   "source": [
    "import pandas as pd\n",
    "import numpy as np\n",
    "import matplotlib.pyplot as plt\n",
    "import seaborn as sns\n",
    "from sklearn import metrics\n",
    " \n",
    "#importing dataset from sklearn\n",
    "from sklearn.datasets import load_boston\n",
    "boston_data = load_boston()\n",
    "\n",
    "# initializing dataset\n",
    "data_ = pd.DataFrame(boston_data.data)\n",
    "\n",
    "### Top five rows of dataset\n",
    "data_.head()"
   ]
  },
  {
   "cell_type": "code",
   "execution_count": 4,
   "metadata": {},
   "outputs": [
    {
     "data": {
      "text/html": [
       "<div>\n",
       "<style scoped>\n",
       "    .dataframe tbody tr th:only-of-type {\n",
       "        vertical-align: middle;\n",
       "    }\n",
       "\n",
       "    .dataframe tbody tr th {\n",
       "        vertical-align: top;\n",
       "    }\n",
       "\n",
       "    .dataframe thead th {\n",
       "        text-align: right;\n",
       "    }\n",
       "</style>\n",
       "<table border=\"1\" class=\"dataframe\">\n",
       "  <thead>\n",
       "    <tr style=\"text-align: right;\">\n",
       "      <th></th>\n",
       "      <th>CRIM</th>\n",
       "      <th>ZN</th>\n",
       "      <th>INDUS</th>\n",
       "      <th>CHAS</th>\n",
       "      <th>NOX</th>\n",
       "      <th>RM</th>\n",
       "      <th>AGE</th>\n",
       "      <th>DIS</th>\n",
       "      <th>RAD</th>\n",
       "      <th>TAX</th>\n",
       "      <th>PTRATIO</th>\n",
       "      <th>B</th>\n",
       "      <th>LSTAT</th>\n",
       "    </tr>\n",
       "  </thead>\n",
       "  <tbody>\n",
       "    <tr>\n",
       "      <th>0</th>\n",
       "      <td>0.00632</td>\n",
       "      <td>18.0</td>\n",
       "      <td>2.31</td>\n",
       "      <td>0.0</td>\n",
       "      <td>0.538</td>\n",
       "      <td>6.575</td>\n",
       "      <td>65.2</td>\n",
       "      <td>4.0900</td>\n",
       "      <td>1.0</td>\n",
       "      <td>296.0</td>\n",
       "      <td>15.3</td>\n",
       "      <td>396.90</td>\n",
       "      <td>4.98</td>\n",
       "    </tr>\n",
       "    <tr>\n",
       "      <th>1</th>\n",
       "      <td>0.02731</td>\n",
       "      <td>0.0</td>\n",
       "      <td>7.07</td>\n",
       "      <td>0.0</td>\n",
       "      <td>0.469</td>\n",
       "      <td>6.421</td>\n",
       "      <td>78.9</td>\n",
       "      <td>4.9671</td>\n",
       "      <td>2.0</td>\n",
       "      <td>242.0</td>\n",
       "      <td>17.8</td>\n",
       "      <td>396.90</td>\n",
       "      <td>9.14</td>\n",
       "    </tr>\n",
       "    <tr>\n",
       "      <th>2</th>\n",
       "      <td>0.02729</td>\n",
       "      <td>0.0</td>\n",
       "      <td>7.07</td>\n",
       "      <td>0.0</td>\n",
       "      <td>0.469</td>\n",
       "      <td>7.185</td>\n",
       "      <td>61.1</td>\n",
       "      <td>4.9671</td>\n",
       "      <td>2.0</td>\n",
       "      <td>242.0</td>\n",
       "      <td>17.8</td>\n",
       "      <td>392.83</td>\n",
       "      <td>4.03</td>\n",
       "    </tr>\n",
       "    <tr>\n",
       "      <th>3</th>\n",
       "      <td>0.03237</td>\n",
       "      <td>0.0</td>\n",
       "      <td>2.18</td>\n",
       "      <td>0.0</td>\n",
       "      <td>0.458</td>\n",
       "      <td>6.998</td>\n",
       "      <td>45.8</td>\n",
       "      <td>6.0622</td>\n",
       "      <td>3.0</td>\n",
       "      <td>222.0</td>\n",
       "      <td>18.7</td>\n",
       "      <td>394.63</td>\n",
       "      <td>2.94</td>\n",
       "    </tr>\n",
       "    <tr>\n",
       "      <th>4</th>\n",
       "      <td>0.06905</td>\n",
       "      <td>0.0</td>\n",
       "      <td>2.18</td>\n",
       "      <td>0.0</td>\n",
       "      <td>0.458</td>\n",
       "      <td>7.147</td>\n",
       "      <td>54.2</td>\n",
       "      <td>6.0622</td>\n",
       "      <td>3.0</td>\n",
       "      <td>222.0</td>\n",
       "      <td>18.7</td>\n",
       "      <td>396.90</td>\n",
       "      <td>5.33</td>\n",
       "    </tr>\n",
       "  </tbody>\n",
       "</table>\n",
       "</div>"
      ],
      "text/plain": [
       "      CRIM    ZN  INDUS  CHAS    NOX     RM   AGE     DIS  RAD    TAX  \\\n",
       "0  0.00632  18.0   2.31   0.0  0.538  6.575  65.2  4.0900  1.0  296.0   \n",
       "1  0.02731   0.0   7.07   0.0  0.469  6.421  78.9  4.9671  2.0  242.0   \n",
       "2  0.02729   0.0   7.07   0.0  0.469  7.185  61.1  4.9671  2.0  242.0   \n",
       "3  0.03237   0.0   2.18   0.0  0.458  6.998  45.8  6.0622  3.0  222.0   \n",
       "4  0.06905   0.0   2.18   0.0  0.458  7.147  54.2  6.0622  3.0  222.0   \n",
       "\n",
       "   PTRATIO       B  LSTAT  \n",
       "0     15.3  396.90   4.98  \n",
       "1     17.8  396.90   9.14  \n",
       "2     17.8  392.83   4.03  \n",
       "3     18.7  394.63   2.94  \n",
       "4     18.7  396.90   5.33  "
      ]
     },
     "execution_count": 4,
     "metadata": {},
     "output_type": "execute_result"
    }
   ],
   "source": [
    "data_.columns = boston_data.feature_names\n",
    "data_.head()"
   ]
  },
  {
   "cell_type": "code",
   "execution_count": 5,
   "metadata": {},
   "outputs": [],
   "source": [
    "# Target feature of Boston Housing data\n",
    "data_['PRICE'] = boston_data.target"
   ]
  },
  {
   "cell_type": "code",
   "execution_count": 6,
   "metadata": {},
   "outputs": [
    {
     "name": "stdout",
     "output_type": "stream",
     "text": [
      "X training shape :  (404, 13)\n",
      "X test shape :  (102, 13)\n",
      "y training shape : (404,)\n",
      "y test shape : (102,)\n"
     ]
    },
    {
     "data": {
      "text/plain": [
       "RandomForestRegressor()"
      ]
     },
     "execution_count": 6,
     "metadata": {},
     "output_type": "execute_result"
    }
   ],
   "source": [
    "# creating feature and target variable \n",
    "X = data_.drop(['PRICE'], axis=1)\n",
    "y = data_['PRICE']\n",
    " \n",
    "# splitting into training and testing set\n",
    "from sklearn.model_selection import train_test_split\n",
    "X_train, X_test, y_train, y_test = train_test_split(X,y,test_size=0.2, random_state=1)\n",
    "print(\"X training shape : \", X_train.shape)\n",
    "print(\"X test shape : \", X_test.shape )\n",
    "print(\"y training shape :\", y_train.shape )\n",
    "print(\"y test shape :\", y_test.shape )\n",
    " \n",
    "# creating model\n",
    "from sklearn.ensemble import RandomForestRegressor\n",
    "classifier = RandomForestRegressor()\n",
    "classifier.fit(X_train, y_train)"
   ]
  },
  {
   "cell_type": "code",
   "execution_count": 7,
   "metadata": {},
   "outputs": [
    {
     "name": "stdout",
     "output_type": "stream",
     "text": [
      "r^2 :  0.9808574134972359\n",
      "Mean Absolute Error:  0.8176287128712857\n",
      "Mean Squared Error:  1.5463646485148501\n",
      "Root Mean Squared Error :  1.2435291104412676\n",
      "r^2 :  0.9052584692614715\n",
      "Mean Absolute Error :  2.3210980392156855\n",
      "Mean Squared Error :  9.363058156862746\n",
      "Root Mean Absolute Error :  3.059911462258793\n"
     ]
    }
   ],
   "source": [
    "# Model evaluation for training data\n",
    "prediction = classifier.predict(X_train)\n",
    "print(\"r^2 : \", metrics.r2_score(y_train, prediction))\n",
    "print(\"Mean Absolute Error: \", metrics.mean_absolute_error(y_train, prediction))\n",
    "print(\"Mean Squared Error: \", metrics.mean_squared_error(y_train, prediction))\n",
    "print(\"Root Mean Squared Error : \", np.sqrt(metrics.mean_squared_error(y_train, prediction)))\n",
    "\n",
    "\n",
    "# Model evaluation for testing data\n",
    "prediction_test = classifier.predict(X_test)\n",
    "print(\"r^2 : \", metrics.r2_score(y_test, prediction_test))\n",
    "print(\"Mean Absolute Error : \", metrics.mean_absolute_error(y_test, prediction_test))\n",
    "print(\"Mean Squared Error : \", metrics.mean_squared_error(y_test, prediction_test))\n",
    "print(\"Root Mean Absolute Error : \", np.sqrt(metrics.mean_squared_error(y_test, prediction_test)))\n"
   ]
  },
  {
   "cell_type": "code",
   "execution_count": 8,
   "metadata": {},
   "outputs": [
    {
     "data": {
      "text/plain": [
       "array([30.324, 26.611, 19.755, 20.54 , 19.641, 19.722, 28.093, 18.885,\n",
       "       20.808, 23.675, 30.086, 30.998, 20.578, 19.861, 20.385, 27.151,\n",
       "       11.918, 41.285, 24.23 , 14.704, 20.05 , 16.177, 24.32 , 23.685,\n",
       "       25.42 ,  9.301, 15.078, 20.23 , 43.472, 12.891, 26.582, 19.55 ,\n",
       "       47.898, 16.036, 23.519, 21.001, 15.368, 33.602, 12.93 , 19.562,\n",
       "       24.572, 23.147, 25.981, 15.942, 16.038, 11.928, 47.708, 10.862,\n",
       "       21.912, 18.89 , 24.059, 21.955, 25.046, 20.663, 10.915, 23.677,\n",
       "       11.526, 23.202, 18.671, 42.309, 14.016, 26.831, 12.743, 14.697,\n",
       "       18.279, 32.385, 41.746, 25.079, 21.492, 20.342, 23.908,  6.609,\n",
       "       18.596, 20.574, 19.852, 20.459, 39.488, 24.278, 27.146, 32.751,\n",
       "       17.114, 20.458, 34.248, 11.834, 24.763, 25.8  , 14.847, 24.64 ,\n",
       "       19.835, 17.512, 28.137, 45.882, 16.513, 21.106, 15.131, 20.755,\n",
       "       24.128, 23.279, 42.103, 20.856, 16.636, 15.337])"
      ]
     },
     "execution_count": 8,
     "metadata": {},
     "output_type": "execute_result"
    }
   ],
   "source": [
    "prediction_test"
   ]
  },
  {
   "cell_type": "code",
   "execution_count": 10,
   "metadata": {},
   "outputs": [],
   "source": [
    "# saving the model\n",
    "import pickle\n",
    "\n",
    "# saving the columns\n",
    "model_columns = list(X.columns)\n",
    "with open('models/model_columns.pkl','wb') as file:\n",
    "    pickle.dump(model_columns, file)\n",
    "    \n",
    "    \n",
    "pickle.dump(classifier, open('final_prediction.pickle', 'wb'))"
   ]
  },
  {
   "cell_type": "code",
   "execution_count": null,
   "metadata": {},
   "outputs": [],
   "source": []
  }
 ],
 "metadata": {
  "kernelspec": {
   "display_name": "Python 3",
   "language": "python",
   "name": "python3"
  },
  "language_info": {
   "codemirror_mode": {
    "name": "ipython",
    "version": 3
   },
   "file_extension": ".py",
   "mimetype": "text/x-python",
   "name": "python",
   "nbconvert_exporter": "python",
   "pygments_lexer": "ipython3",
   "version": "3.7.4"
  }
 },
 "nbformat": 4,
 "nbformat_minor": 4
}
